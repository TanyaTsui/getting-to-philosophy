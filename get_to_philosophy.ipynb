{
 "cells": [
  {
   "cell_type": "markdown",
   "id": "active-center",
   "metadata": {},
   "source": [
    "# Getting to philosophy \n",
    "In the summer of 2008, wikipedia user Mark J discovered a strange phenomenon on wikipedia: if you click on the first link on a wikipedia page, then repeat the process, you usually end up on the page for philosophy. He wrote a [wikipedia page](https://en.wikipedia.org/wiki/Wikipedia:Getting_to_Philosophy) about this, which led to mentions on a [podcast](https://en.wikipedia.org/wiki/Wikipedia:WikipediaWeekly/Episode50) and [documentary](https://www.bbc.co.uk/programmes/b07lk6tj), as well as a [scientific paper](https://www.daniellamprecht.com/wp-content/uploads/2016/08/Evaluating-and-Improving-Navigability-of-Wikipedia-a-Comparative-Study-of-eight-Language-Editions.pdf) published in 2016, which found that 97% of articles led to philosophy.\n",
    "\n",
    "In this notebook, I'd like to find out if this phenomenon still exists on wikipedia today, in 2021. In order to do this, I will build a web scraper that goes through the process of clicking first links. Then, I will use this web scraper on a bunch (~3000?) of wikipedia pages, and keep a record of whether these pages get to philosophy, as well as all the links the web scraper had to click through to get there. \n",
    "\n",
    "I will then analyze the resulting dataset, and try to answer the following questions: \n",
    "* What is the percentage of pages that lead to philosophy? \n",
    "* What are some other popular pages that many pages eventually lead to? \n",
    "* What is the most beautiful way of visualizing this data? (I will use this beautiful [Game of Thrones character network visualization](https://www.linkedin.com/pulse/game-thrones-social-network-analysis-conor-aspell/) as inspiration)\n",
    "* Which pages are highly connected to other pages, and which are not? (this is a chance to learn about and apply [network theory](https://en.wikipedia.org/wiki/Network_theory), measuring [centrality](https://en.wikipedia.org/wiki/Centrality) of points in a network)  "
   ]
  },
  {
   "cell_type": "code",
   "execution_count": 1,
   "id": "interracial-eclipse",
   "metadata": {},
   "outputs": [],
   "source": [
    "import requests\n",
    "from bs4 import BeautifulSoup\n",
    "import time\n",
    "import pandas as pd\n",
    "import os\n",
    "import re"
   ]
  },
  {
   "cell_type": "markdown",
   "id": "christian-minister",
   "metadata": {},
   "source": [
    "## Building the webscraper\n",
    "learn regex [here](https://regexone.com/lesson/kleene_operators?)"
   ]
  },
  {
   "cell_type": "code",
   "execution_count": 32,
   "id": "vietnamese-architect",
   "metadata": {
    "collapsed": true,
    "jupyter": {
     "outputs_hidden": true
    }
   },
   "outputs": [
    {
     "data": {
      "text/plain": [
       "'<p class=\"mw-empty-elt\">\\n</p> <p class=\"mw-empty-elt\">\\n</p> <p><b>Astronomy</b> (from <a href=\"/wiki/Greek_language\" title=\"Greek language\">Greek</a>: <span lang=\"el\">ἀστρονομία</span>, literally meaning the science that studies the laws of the stars) is a <a href=\"/wiki/Natural_science\" title=\"Natural science\">natural science</a> that studies <a href=\"/wiki/Astronomical_object\" title=\"Astronomical object\">celestial objects</a> and <a href=\"/wiki/Celestial_event\" title=\"Celestial event\">phenomena</a>. It uses <a href=\"/wiki/Mathematics\" title=\"Mathematics\">mathematics</a>, <a href=\"/wiki/Physics\" title=\"Physics\">physics</a>, and <a href=\"/wiki/Chemistry\" title=\"Chemistry\">chemistry</a> in order to explain their origin and <a class=\"mw-redirect\" href=\"/wiki/Chronology_of_the_Universe\" title=\"Chronology of the Universe\">evolution</a>. Objects of interest include <a class=\"mw-redirect\" href=\"/wiki/Planets\" title=\"Planets\">planets</a>, <a href=\"/wiki/Natural_satellite\" title=\"Natural satellite\">moons</a>, <a href=\"/wiki/Star\" title=\"Star\">stars</a>, <a class=\"mw-redirect\" href=\"/wiki/Nebulae\" title=\"Nebulae\">nebulae</a>, <a href=\"/wiki/Galaxy\" title=\"Galaxy\">galaxies</a>, and <a href=\"/wiki/Comet\" title=\"Comet\">comets</a>. Relevant phenomena include <a href=\"/wiki/Supernova\" title=\"Supernova\">supernova</a> explosions, <a class=\"mw-redirect\" href=\"/wiki/Gamma_ray_burst\" title=\"Gamma ray burst\">gamma ray bursts</a>, <a href=\"/wiki/Quasar\" title=\"Quasar\">quasars</a>, <a href=\"/wiki/Blazar\" title=\"Blazar\">blazars</a>, <a href=\"/wiki/Pulsar\" title=\"Pulsar\">pulsars</a>, and <a class=\"mw-redirect\" href=\"/wiki/Cosmic_microwave_background_radiation\" title=\"Cosmic microwave background radiation\">cosmic microwave background radiation</a>. More generally, astronomy studies everything that originates outside <a href=\"/wiki/Atmosphere_of_Earth\" title=\"Atmosphere of Earth\">Earth\\'s atmosphere</a>. <a href=\"/wiki/Cosmology\" title=\"Cosmology\">Cosmology</a> is a branch of astronomy that studies the <a href=\"/wiki/Universe\" title=\"Universe\">universe</a> as a whole.<sup class=\"reference\" id=\"cite_ref-1\"><a href=\"#cite_note-1\">[1]</a></sup>\\n</p> <p>Astronomy is one of the oldest natural sciences. The early civilizations in <a href=\"/wiki/Recorded_history\" title=\"Recorded history\">recorded history</a> made methodical observations of the <a href=\"/wiki/Night_sky\" title=\"Night sky\">night sky</a>. These include the <a href=\"/wiki/Babylonian_astronomy\" title=\"Babylonian astronomy\">Babylonians</a>, <a class=\"mw-redirect\" href=\"/wiki/Greek_astronomy\" title=\"Greek astronomy\">Greeks</a>, <a href=\"/wiki/Indian_astronomy\" title=\"Indian astronomy\">Indians</a>, <a href=\"/wiki/Egyptian_astronomy\" title=\"Egyptian astronomy\">Egyptians</a>, <a href=\"/wiki/Chinese_astronomy\" title=\"Chinese astronomy\">Chinese</a>, <a href=\"/wiki/Maya_civilization\" title=\"Maya civilization\">Maya</a>, and many ancient <a href=\"/wiki/Indigenous_peoples_of_the_Americas\" title=\"Indigenous peoples of the Americas\">indigenous peoples of the Americas</a>. In the past, astronomy included disciplines as diverse as <a href=\"/wiki/Astrometry\" title=\"Astrometry\">astrometry</a>, <a href=\"/wiki/Celestial_navigation\" title=\"Celestial navigation\">celestial navigation</a>, <a href=\"/wiki/Observational_astronomy\" title=\"Observational astronomy\">observational astronomy</a>, and the making of <a href=\"/wiki/Calendar\" title=\"Calendar\">calendars</a>. Nowadays, professional astronomy is often said to be the same as <a href=\"/wiki/Astrophysics\" title=\"Astrophysics\">astrophysics</a>.<sup class=\"reference\" id=\"cite_ref-2\"><a href=\"#cite_note-2\">[2]</a></sup>\\n</p> <p>Professional astronomy is split into <a href=\"/wiki/Observational_astronomy\" title=\"Observational astronomy\">observational</a> and <a href=\"/wiki/Theoretical_astronomy\" title=\"Theoretical astronomy\">theoretical</a> branches. Observational astronomy is focused on acquiring data from observations of astronomical objects. This data is then analyzed using basic principles of physics. Theoretical astronomy is oriented toward the development of computer or analytical models to describe astronomical objects and phenomena. These two fields complement each other. Theoretical astronomy seeks to explain observational results and observations are used to confirm theoretical results.\\n</p> <p>Astronomy is one of the few sciences in which amateurs play an <a href=\"/wiki/Citizen_science\" title=\"Citizen science\">active role</a>. This is especially true for the discovery and observation of <a href=\"/wiki/Transient_astronomical_event\" title=\"Transient astronomical event\">transient events</a>. <a href=\"/wiki/Amateur_astronomy\" title=\"Amateur astronomy\">Amateur astronomers</a> have helped with many important discoveries, such as finding new comets.\\n</p> <p><i>Astronomy</i> (from the <a href=\"/wiki/Ancient_Greek\" title=\"Ancient Greek\">Greek</a> <a class=\"extiw\" href=\"https://en.wiktionary.org/wiki/%E1%BC%80%CF%83%CF%84%CF%81%CE%BF%CE%BD%CE%BF%CE%BC%CE%AF%CE%B1#Ancient_Greek\" title=\"wikt:ἀστρονομία\">ἀστρονομία</a> from <a class=\"extiw\" href=\"https://en.wiktionary.org/wiki/%E1%BC%84%CF%83%CF%84%CF%81%CE%BF%CE%BD#Ancient_Greek\" title=\"wikt:ἄστρον\">ἄστρον</a> <i>astron</i>, \"star\" and -νομία <i><a class=\"extiw\" href=\"https://en.wiktionary.org/wiki/-nomy\" title=\"wikt:-nomy\">-nomia</a></i> from <a class=\"extiw\" href=\"https://en.wiktionary.org/wiki/%CE%BD%CF%8C%CE%BC%CE%BF%CF%82#Ancient_Greek\" title=\"wikt:νόμος\">νόμος</a> <i>nomos</i>, \"law\" or \"culture\") means \"law of the stars\" (or \"culture of the stars\" depending on the translation). Astronomy should not be confused with <a href=\"/wiki/Astrology\" title=\"Astrology\">astrology</a>, the belief system which claims that human affairs are correlated with the positions of celestial objects.<sup class=\"reference\" id=\"cite_ref-4\"><a href=\"#cite_note-4\">[4]</a></sup> Although the <a href=\"/wiki/Astrology_and_astronomy\" title=\"Astrology and astronomy\">two fields</a> share a common origin, they are now entirely distinct.<sup class=\"reference\" id=\"cite_ref-new_cosmos_5-0\"><a href=\"#cite_note-new_cosmos-5\">[5]</a></sup>\\n</p> <p>\"Astronomy\" and \"astrophysics\" are synonyms.<sup class=\"reference\" id=\"cite_ref-scharrinhausen_6-0\"><a href=\"#cite_note-scharrinhausen-6\">[6]</a></sup><sup class=\"reference\" id=\"cite_ref-odenwald_7-0\"><a href=\"#cite_note-odenwald-7\">[7]</a></sup><sup class=\"reference\" id=\"cite_ref-pennstateerie_8-0\"><a href=\"#cite_note-pennstateerie-8\">[8]</a></sup> Based on strict dictionary definitions, \"astronomy\" refers to \"the study of objects and matter outside the Earth\\'s atmosphere and of their physical and chemical properties,\"<sup class=\"reference\" id=\"cite_ref-mw-astronomy_9-0\"><a href=\"#cite_note-mw-astronomy-9\">[9]</a></sup> while \"astrophysics\" refers to the branch of astronomy dealing with \"the behavior, physical properties, and dynamic processes of celestial objects and phenomena\".<sup class=\"reference\" id=\"cite_ref-mw-astrophysics_10-0\"><a href=\"#cite_note-mw-astrophysics-10\">[10]</a></sup> In some cases, as in the introduction of the introductory textbook <i>The Physical Universe</i> by <a href=\"/wiki/Frank_Shu\" title=\"Frank Shu\">Frank Shu</a>, \"astronomy\" may be used to describe the qualitative study of the subject, whereas \"astrophysics\" is used to describe the physics-oriented version of the subject.<sup class=\"reference\" id=\"cite_ref-shu1982_11-0\"><a href=\"#cite_note-shu1982-11\">[11]</a></sup> However, since most modern astronomical research deals with subjects related to physics, modern astronomy could actually be called astrophysics.<sup class=\"reference\" id=\"cite_ref-scharrinhausen_6-1\"><a href=\"#cite_note-scharrinhausen-6\">[6]</a></sup> Some fields, such as astrometry, are purely astronomy rather than also astrophysics. Various departments in which scientists carry out research on this subject may use \"astronomy\" and \"astrophysics\", partly depending on whether the department is historically affiliated with a physics department,<sup class=\"reference\" id=\"cite_ref-odenwald_7-1\"><a href=\"#cite_note-odenwald-7\">[7]</a></sup> and many professional <a href=\"/wiki/Astronomer\" title=\"Astronomer\">astronomers</a> have physics rather than astronomy degrees.<sup class=\"reference\" id=\"cite_ref-pennstateerie_8-1\"><a href=\"#cite_note-pennstateerie-8\">[8]</a></sup> Some titles of the leading scientific journals in this field include <i><a href=\"/wiki/The_Astronomical_Journal\" title=\"The Astronomical Journal\">The Astronomical Journal</a></i>, <i><a href=\"/wiki/The_Astrophysical_Journal\" title=\"The Astrophysical Journal\">The Astrophysical Journal</a></i>, and <i><a href=\"/wiki/Astronomy_%26_Astrophysics\" title=\"Astronomy &amp; Astrophysics\">Astronomy &amp; Astrophysics</a></i>.\\n</p> <p>In early historic times, astronomy only consisted of the observation and predictions of the motions of objects visible to the naked eye. In some locations, early cultures assembled massive artifacts that possibly had some astronomical purpose. In addition to their ceremonial uses, these <a href=\"/wiki/Observatory\" title=\"Observatory\">observatories</a> could be employed to determine the seasons, an important factor in knowing when to plant crops and in understanding the length of the year.<sup class=\"reference\" id=\"cite_ref-history_12-0\"><a href=\"#cite_note-history-12\">[12]</a></sup>\\n</p> <p>Before tools such as the telescope were invented, early study of the stars was conducted using the naked eye. As civilizations developed, most notably in <a href=\"/wiki/Babylonian_astronomy\" title=\"Babylonian astronomy\">Mesopotamia</a>, <a class=\"mw-redirect\" href=\"/wiki/Greek_astronomy\" title=\"Greek astronomy\">Greece</a>, <a href=\"/wiki/Astrology_in_medieval_Islam\" title=\"Astrology in medieval Islam\">Persia</a>, <a href=\"/wiki/Indian_astronomy\" title=\"Indian astronomy\">India</a>, <a href=\"/wiki/Chinese_astronomy\" title=\"Chinese astronomy\">China</a>, <a href=\"/wiki/Egyptian_astronomy\" title=\"Egyptian astronomy\">Egypt</a>, and <a href=\"/wiki/Maya_civilization\" title=\"Maya civilization\">Central America</a>, astronomical observatories were assembled and ideas on the nature of the Universe began to develop. Most early astronomy consisted of mapping the positions of the stars and planets, a science now referred to as <a href=\"/wiki/Astrometry\" title=\"Astrometry\">astrometry</a>. From these observations, early ideas about the motions of the planets were formed, and the nature of the Sun, Moon and the Earth in the Universe were explored philosophically. The Earth was believed to be the center of the Universe with the Sun, the Moon and the stars rotating around it. This is known as the <a href=\"/wiki/Geocentric_model\" title=\"Geocentric model\">geocentric model</a> of the Universe, or the <a class=\"mw-redirect\" href=\"/wiki/Ptolemaic_system\" title=\"Ptolemaic system\">Ptolemaic system</a>, named after <a href=\"/wiki/Ptolemy\" title=\"Ptolemy\">Ptolemy</a>.<sup class=\"reference\" id=\"cite_ref-13\"><a href=\"#cite_note-13\">[13]</a></sup>\\n</p> <p>A particularly important early development was the beginning of mathematical and scientific astronomy, which began among <a href=\"/wiki/Babylonian_astronomy\" title=\"Babylonian astronomy\">the Babylonians</a>, who laid the foundations for the later astronomical traditions that developed in many other civilizations.<sup class=\"reference\" id=\"cite_ref-15\"><a href=\"#cite_note-15\">[15]</a></sup> The <a href=\"/wiki/Babylonian_astronomy\" title=\"Babylonian astronomy\">Babylonians</a> discovered that <a class=\"mw-redirect\" href=\"/wiki/Lunar_eclipses\" title=\"Lunar eclipses\">lunar eclipses</a> recurred in a repeating cycle known as a <a class=\"mw-redirect\" href=\"/wiki/Saros_cycle\" title=\"Saros cycle\">saros</a>.<sup class=\"reference\" id=\"cite_ref-16\"><a href=\"#cite_note-16\">[16]</a></sup>\\n</p> <p>Following the Babylonians, significant advances in astronomy were made in <a href=\"/wiki/Ancient_Greece\" title=\"Ancient Greece\">ancient Greece</a> and the <a class=\"mw-redirect\" href=\"/wiki/Hellenistic_civilization\" title=\"Hellenistic civilization\">Hellenistic</a> world. <a class=\"mw-redirect\" href=\"/wiki/Greek_astronomy\" title=\"Greek astronomy\">Greek astronomy</a> is characterized from the start by seeking a rational, physical explanation for celestial phenomena.<sup class=\"reference\" id=\"cite_ref-17\"><a href=\"#cite_note-17\">[17]</a></sup> In the 3rd century BC, <a href=\"/wiki/Aristarchus_of_Samos\" title=\"Aristarchus of Samos\">Aristarchus of Samos</a> estimated the <a class=\"mw-redirect\" href=\"/wiki/Aristarchus_On_the_Sizes_and_Distances\" title=\"Aristarchus On the Sizes and Distances\">size and distance of the Moon and Sun</a>, and he proposed a model of the <a href=\"/wiki/Solar_System\" title=\"Solar System\">Solar System</a> where the Earth and planets rotated around the Sun, now called the <a href=\"/wiki/Heliocentrism\" title=\"Heliocentrism\">heliocentric</a> model.<sup class=\"reference\" id=\"cite_ref-18\"><a href=\"#cite_note-18\">[18]</a></sup> In the 2nd century BC, <a href=\"/wiki/Hipparchus\" title=\"Hipparchus\">Hipparchus</a> discovered <a href=\"/wiki/Precession\" title=\"Precession\">precession</a>, calculated the size and distance of the Moon and invented the earliest known astronomical devices such as the <a href=\"/wiki/Astrolabe\" title=\"Astrolabe\">astrolabe</a>.<sup class=\"reference\" id=\"cite_ref-19\"><a href=\"#cite_note-19\">[19]</a></sup> Hipparchus also created a comprehensive catalog of 1020 stars, and most of the <a href=\"/wiki/Constellation\" title=\"Constellation\">constellations</a> of the northern hemisphere derive from Greek astronomy.<sup class=\"reference\" id=\"cite_ref-20\"><a href=\"#cite_note-20\">[20]</a></sup> The <a href=\"/wiki/Antikythera_mechanism\" title=\"Antikythera mechanism\">Antikythera mechanism</a> (c. 150–80 BC) was an early <a href=\"/wiki/Analog_computer\" title=\"Analog computer\">analog computer</a> designed to calculate the location of the <a href=\"/wiki/Sun\" title=\"Sun\">Sun</a>, <a href=\"/wiki/Moon\" title=\"Moon\">Moon</a>, and <a class=\"mw-redirect\" href=\"/wiki/Planets\" title=\"Planets\">planets</a> for a given date. Technological artifacts of similar complexity did not reappear until the 14th century, when mechanical <a href=\"/wiki/Astronomical_clock\" title=\"Astronomical clock\">astronomical clocks</a> appeared in Europe.<sup class=\"reference\" id=\"cite_ref-insearchoflosttime_21-0\"><a href=\"#cite_note-insearchoflosttime-21\">[21]</a></sup>\\n</p> <p>Medieval Europe housed a number of important astronomers. <a href=\"/wiki/Richard_of_Wallingford\" title=\"Richard of Wallingford\">Richard of Wallingford</a> (1292–1336) made major contributions to astronomy and horology, including the invention of the first astronomical clock, the <a href=\"/wiki/Rectangulus\" title=\"Rectangulus\">Rectangulus</a> which allowed for the measurement of angles between planets and other astronomical bodies, as well as an <a href=\"/wiki/Equatorium\" title=\"Equatorium\">equatorium</a> called the <i>Albion</i> which could be used for astronomical calculations such as <a href=\"/wiki/Moon\" title=\"Moon\">lunar</a>, <a href=\"/wiki/Sun\" title=\"Sun\">solar</a> and <a href=\"/wiki/Planet\" title=\"Planet\">planetary</a> <a href=\"/wiki/Longitude\" title=\"Longitude\">longitudes</a> and could predict <a href=\"/wiki/Eclipse\" title=\"Eclipse\">eclipses</a>. <a href=\"/wiki/Nicole_Oresme\" title=\"Nicole Oresme\">Nicole Oresme</a> (1320–1382) and <a href=\"/wiki/Jean_Buridan\" title=\"Jean Buridan\">Jean Buridan</a> (1300–1361) first discussed evidence for the rotation of the Earth, furthermore, Buridan also developed the theory of impetus (predecessor of the modern scientific theory of <a href=\"/wiki/Inertia\" title=\"Inertia\">inertia</a>) which was able to show planets were capable of motion without the intervention of angels.<sup class=\"reference\" id=\"cite_ref-22\"><a href=\"#cite_note-22\">[22]</a></sup> <a href=\"/wiki/Georg_von_Peuerbach\" title=\"Georg von Peuerbach\">Georg von Peuerbach</a> (1423–1461) and <a href=\"/wiki/Regiomontanus\" title=\"Regiomontanus\">Regiomontanus</a> (1436–1476) helped make astronomical progress instrumental to Copernicus\\'s development of the heliocentric model decades later.\\n</p> <p><a class=\"mw-redirect\" href=\"/wiki/Astronomy_in_medieval_Islam\" title=\"Astronomy in medieval Islam\">Astronomy flourished in the Islamic world</a> and other parts of the world. This led to the emergence of the first astronomical <a href=\"/wiki/Observatory\" title=\"Observatory\">observatories</a> in the <a href=\"/wiki/Muslim_world\" title=\"Muslim world\">Muslim world</a> by the early 9th century.<sup class=\"reference\" id=\"cite_ref-Kennedy-1962_23-0\"><a href=\"#cite_note-Kennedy-1962-23\">[23]</a></sup><sup class=\"reference\" id=\"cite_ref-Micheau-992-3_24-0\"><a href=\"#cite_note-Micheau-992-3-24\">[24]</a></sup><sup class=\"reference\" id=\"cite_ref-25\"><a href=\"#cite_note-25\">[25]</a></sup> In 964, the <a href=\"/wiki/Andromeda_Galaxy\" title=\"Andromeda Galaxy\">Andromeda Galaxy</a>, the largest <a href=\"/wiki/Galaxy\" title=\"Galaxy\">galaxy</a> in the <a href=\"/wiki/Local_Group\" title=\"Local Group\">Local Group</a>, was described by the Persian Muslim astronomer <a href=\"/wiki/Abd_al-Rahman_al-Sufi\" title=\"Abd al-Rahman al-Sufi\">Abd al-Rahman al-Sufi</a> in his <i><a href=\"/wiki/Book_of_Fixed_Stars\" title=\"Book of Fixed Stars\">Book of Fixed Stars</a></i>.<sup class=\"reference\" id=\"cite_ref-NSOG_26-0\"><a href=\"#cite_note-NSOG-26\">[26]</a></sup> The <a href=\"/wiki/SN_1006\" title=\"SN 1006\">SN 1006</a> <a href=\"/wiki/Supernova\" title=\"Supernova\">supernova</a>, the brightest <a href=\"/wiki/Apparent_magnitude\" title=\"Apparent magnitude\">apparent magnitude</a> stellar event in recorded history, was observed by the Egyptian Arabic astronomer <a href=\"/wiki/Ali_ibn_Ridwan\" title=\"Ali ibn Ridwan\">Ali ibn Ridwan</a> and <a href=\"/wiki/Chinese_astronomy\" title=\"Chinese astronomy\">Chinese astronomers</a> in 1006. Some of the prominent Islamic (mostly Persian and Arab) astronomers who made significant contributions to the science include <a href=\"/wiki/Al-Battani\" title=\"Al-Battani\">Al-Battani</a>, <a class=\"mw-redirect\" href=\"/wiki/Thebit\" title=\"Thebit\">Thebit</a>, <a href=\"/wiki/Abd_al-Rahman_al-Sufi\" title=\"Abd al-Rahman al-Sufi\">Abd al-Rahman al-Sufi</a>, <a class=\"mw-redirect\" href=\"/wiki/Abu_Rayhan_Biruni\" title=\"Abu Rayhan Biruni\">Biruni</a>, <a class=\"mw-redirect\" href=\"/wiki/Ab%C5%AB_Ish%C4%81q_Ibr%C4%81h%C4%ABm_al-Zarq%C4%81l%C4%AB\" title=\"Abū Ishāq Ibrāhīm al-Zarqālī\">Abū Ishāq Ibrāhīm al-Zarqālī</a>, <a href=\"/wiki/Al-Birjandi\" title=\"Al-Birjandi\">Al-Birjandi</a>, and the astronomers of the <a href=\"/wiki/Maragheh_observatory\" title=\"Maragheh observatory\">Maragheh</a> and <a href=\"/wiki/Ulugh_Beg_Observatory\" title=\"Ulugh Beg Observatory\">Samarkand</a> observatories. Astronomers during that time introduced many <a href=\"/wiki/List_of_Arabic_star_names\" title=\"List of Arabic star names\">Arabic names now used for individual stars</a>.<sup class=\"reference\" id=\"cite_ref-short_history_27-0\"><a href=\"#cite_note-short_history-27\">[27]</a></sup><sup class=\"reference\" id=\"cite_ref-Cambridge_history_28-0\"><a href=\"#cite_note-Cambridge_history-28\">[28]</a></sup>\\n</p> <p>It is also believed that the ruins at <a href=\"/wiki/Great_Zimbabwe\" title=\"Great Zimbabwe\">Great Zimbabwe</a> and <a href=\"/wiki/Timbuktu\" title=\"Timbuktu\">Timbuktu</a><sup class=\"reference\" id=\"cite_ref-29\"><a href=\"#cite_note-29\">[29]</a></sup> may have housed astronomical observatories.<sup class=\"reference\" id=\"cite_ref-30\"><a href=\"#cite_note-30\">[30]</a></sup> In <a class=\"mw-redirect\" href=\"/wiki/Post-classical\" title=\"Post-classical\">Post-classical</a> <a href=\"/wiki/West_Africa\" title=\"West Africa\">West Africa</a>, Astronomers studied the movement of stars and relation to seasons, crafting charts of the heavens as well as precise diagrams of orbits of the other planets based on complex mathematical calculations. <a href=\"/wiki/Songhai_Empire\" title=\"Songhai Empire\">Songhai</a> historian <a href=\"/wiki/Mahmud_Kati\" title=\"Mahmud Kati\">Mahmud Kati</a> documented a <a href=\"/wiki/Meteor_shower\" title=\"Meteor shower\">meteor shower</a> in August 1583.<sup class=\"reference\" id=\"cite_ref-31\"><a href=\"#cite_note-31\">[31]</a></sup><sup class=\"reference\" id=\"cite_ref-32\"><a href=\"#cite_note-32\">[32]</a></sup>\\nEuropeans had previously believed that there had been no astronomical observation in <a href=\"/wiki/Sub-Saharan_Africa\" title=\"Sub-Saharan Africa\">sub-Saharan Africa</a> during the pre-colonial Middle Ages, but modern discoveries show otherwise.<sup class=\"reference\" id=\"cite_ref-33\"><a href=\"#cite_note-33\">[33]</a></sup><sup class=\"reference\" id=\"cite_ref-34\"><a href=\"#cite_note-34\">[34]</a></sup><sup class=\"reference\" id=\"cite_ref-35\"><a href=\"#cite_note-35\">[35]</a></sup><sup class=\"reference\" id=\"cite_ref-36\"><a href=\"#cite_note-36\">[36]</a></sup>\\n</p> <p>For over six centuries (from the recovery of ancient learning during the late Middle Ages into the Enlightenment), the Roman Catholic Church gave more financial and social support to the study of astronomy than probably all other institutions. Among the Church\\'s motives was finding the date for Easter.<sup class=\"reference\" id=\"cite_ref-37\"><a href=\"#cite_note-37\">[37]</a></sup>\\n</p> <p>During the <a href=\"/wiki/Renaissance\" title=\"Renaissance\">Renaissance</a>, <a href=\"/wiki/Nicolaus_Copernicus\" title=\"Nicolaus Copernicus\">Nicolaus Copernicus</a> proposed a heliocentric model of the solar system. His work was defended by <a href=\"/wiki/Galileo_Galilei\" title=\"Galileo Galilei\">Galileo Galilei</a> and expanded upon by <a href=\"/wiki/Johannes_Kepler\" title=\"Johannes Kepler\">Johannes Kepler</a>. Kepler was the first to devise a system that correctly described the details of the motion of the planets around the Sun. However, Kepler did not succeed in formulating a theory behind the laws he wrote down.<sup class=\"reference\" id=\"cite_ref-38\"><a href=\"#cite_note-38\">[38]</a></sup> It was <a href=\"/wiki/Isaac_Newton\" title=\"Isaac Newton\">Isaac Newton</a>, with his invention of <a class=\"mw-redirect\" href=\"/wiki/Celestial_dynamics\" title=\"Celestial dynamics\">celestial dynamics</a> and his <a href=\"/wiki/Gravity\" title=\"Gravity\">law of gravitation</a>, who finally explained the motions of the planets. Newton also developed the <a href=\"/wiki/Reflecting_telescope\" title=\"Reflecting telescope\">reflecting telescope</a>.<sup class=\"reference\" id=\"cite_ref-f58-64_39-0\"><a href=\"#cite_note-f58-64-39\">[39]</a></sup>\\n</p> <p>Improvements in the size and quality of the telescope led to further discoveries. The English astronomer <a href=\"/wiki/John_Flamsteed\" title=\"John Flamsteed\">John Flamsteed</a> catalogued over 3000 stars,<sup class=\"reference\" id=\"cite_ref-40\"><a href=\"#cite_note-40\">[40]</a></sup> More extensive star catalogues were produced by <a class=\"mw-redirect\" href=\"/wiki/Nicolas_Louis_de_Lacaille\" title=\"Nicolas Louis de Lacaille\">Nicolas Louis de Lacaille</a>. The astronomer <a href=\"/wiki/William_Herschel\" title=\"William Herschel\">William Herschel</a> made a detailed catalog of nebulosity and clusters, and in 1781 discovered the planet <a href=\"/wiki/Uranus\" title=\"Uranus\">Uranus</a>, the first new planet found.<sup class=\"reference\" id=\"cite_ref-41\"><a href=\"#cite_note-41\">[41]</a></sup>\\n</p> <p>During the 18–19th centuries, the study of the <a href=\"/wiki/Three-body_problem\" title=\"Three-body problem\">three-body problem</a> by <a href=\"/wiki/Leonhard_Euler\" title=\"Leonhard Euler\">Leonhard Euler</a>, <a class=\"mw-redirect\" href=\"/wiki/Alexis_Claude_Clairaut\" title=\"Alexis Claude Clairaut\">Alexis Claude Clairaut</a>, and <a href=\"/wiki/Jean_le_Rond_d%27Alembert\" title=\"Jean le Rond d\\'Alembert\">Jean le Rond d\\'Alembert</a> led to more accurate predictions about the motions of the Moon and planets. This work was further refined by <a href=\"/wiki/Joseph-Louis_Lagrange\" title=\"Joseph-Louis Lagrange\">Joseph-Louis Lagrange</a> and <a class=\"mw-redirect\" href=\"/wiki/Pierre_Simon_Laplace\" title=\"Pierre Simon Laplace\">Pierre Simon Laplace</a>, allowing the masses of the planets and moons to be estimated from their perturbations.<sup class=\"reference\" id=\"cite_ref-42\"><a href=\"#cite_note-42\">[42]</a></sup>\\n</p> <p>Significant advances in astronomy came about with the introduction of new technology, including the <a class=\"mw-redirect\" href=\"/wiki/Spectroscope\" title=\"Spectroscope\">spectroscope</a> and <a href=\"/wiki/Astrophotography\" title=\"Astrophotography\">photography</a>. <a href=\"/wiki/Joseph_von_Fraunhofer\" title=\"Joseph von Fraunhofer\">Joseph von Fraunhofer</a> discovered about 600 bands in the spectrum of the Sun in 1814–15, which, in 1859, <a href=\"/wiki/Gustav_Kirchhoff\" title=\"Gustav Kirchhoff\">Gustav Kirchhoff</a> ascribed to the presence of different elements. Stars were proven to be similar to the Earth\\'s own Sun, but with a wide range of <a href=\"/wiki/Temperature\" title=\"Temperature\">temperatures</a>, <a href=\"/wiki/Mass\" title=\"Mass\">masses</a>, and sizes.<sup class=\"reference\" id=\"cite_ref-short_history_27-1\"><a href=\"#cite_note-short_history-27\">[27]</a></sup>\\n</p> <p>The existence of the Earth\\'s galaxy, the <a href=\"/wiki/Milky_Way\" title=\"Milky Way\">Milky Way</a>, as its own group of stars was only proved in the 20th century, along with the existence of \"external\" galaxies. The observed recession of those galaxies led to the discovery of the expansion of the <a href=\"/wiki/Universe\" title=\"Universe\">Universe</a>.<sup class=\"reference\" id=\"cite_ref-Belkora2003_43-0\"><a href=\"#cite_note-Belkora2003-43\">[43]</a></sup> Theoretical astronomy led to speculations on the existence of objects such as <a href=\"/wiki/Black_hole\" title=\"Black hole\">black holes</a> and <a href=\"/wiki/Neutron_star\" title=\"Neutron star\">neutron stars</a>, which have been used to explain such observed phenomena as <a href=\"/wiki/Quasar\" title=\"Quasar\">quasars</a>, <a href=\"/wiki/Pulsar\" title=\"Pulsar\">pulsars</a>, <a href=\"/wiki/Blazar\" title=\"Blazar\">blazars</a>, and <a href=\"/wiki/Radio_galaxy\" title=\"Radio galaxy\">radio galaxies</a>. <a href=\"/wiki/Physical_cosmology\" title=\"Physical cosmology\">Physical cosmology</a> made huge advances during the 20th century. In the early 1900s the model of the <a href=\"/wiki/Big_Bang\" title=\"Big Bang\">Big Bang</a> theory was formulated, heavily evidenced by <a class=\"mw-redirect\" href=\"/wiki/Cosmic_microwave_background_radiation\" title=\"Cosmic microwave background radiation\">cosmic microwave background radiation</a>, <a href=\"/wiki/Hubble%27s_law\" title=\"Hubble\\'s law\">Hubble\\'s law</a>, and the <a href=\"/wiki/Big_Bang_nucleosynthesis\" title=\"Big Bang nucleosynthesis\">cosmological abundances of elements</a>. <a href=\"/wiki/Space_telescope\" title=\"Space telescope\">Space telescopes</a> have enabled measurements in parts of the electromagnetic spectrum normally blocked or blurred by the atmosphere.<sup class=\"noprint Inline-Template Template-Fact\" style=\"white-space:nowrap;\">[<i><a href=\"/wiki/Wikipedia:Citation_needed\" title=\"Wikipedia:Citation needed\"><span title=\"This claim needs references to reliable sources. (March 2018)\">citation needed</span></a></i>]</sup> In February 2016, it was revealed that the <a href=\"/wiki/LIGO\" title=\"LIGO\">LIGO</a> project had <a href=\"/wiki/First_observation_of_gravitational_waves\" title=\"First observation of gravitational waves\">detected evidence</a> of <a class=\"mw-redirect\" href=\"/wiki/Gravitational_waves\" title=\"Gravitational waves\">gravitational waves</a> in the previous September.<sup class=\"reference\" id=\"cite_ref-Discovery_2016_44-0\"><a href=\"#cite_note-Discovery_2016-44\">[44]</a></sup><sup class=\"reference\" id=\"cite_ref-Abbot_45-0\"><a href=\"#cite_note-Abbot-45\">[45]</a></sup>\\n</p> <p>The main source of information about <a class=\"mw-redirect\" href=\"/wiki/Celestial_body\" title=\"Celestial body\">celestial bodies</a> and other objects is <a class=\"mw-redirect\" href=\"/wiki/Visible_light\" title=\"Visible light\">visible light</a>, or more generally <a href=\"/wiki/Electromagnetic_radiation\" title=\"Electromagnetic radiation\">electromagnetic radiation</a>.<sup class=\"reference\" id=\"cite_ref-46\"><a href=\"#cite_note-46\">[46]</a></sup> Observational astronomy may be categorized according to the corresponding region of the <a href=\"/wiki/Electromagnetic_spectrum\" title=\"Electromagnetic spectrum\">electromagnetic spectrum</a> on which the observations are made. Some parts of the spectrum can be observed from the Earth\\'s surface, while other parts are only observable from either high altitudes or outside the Earth\\'s atmosphere. Specific information on these subfields is given below.\\n</p> <p>Radio astronomy uses radiation with <a href=\"/wiki/Wavelength\" title=\"Wavelength\">wavelengths</a> greater than approximately one millimeter, outside the visible range.<sup class=\"reference\" id=\"cite_ref-cox2000_47-0\"><a href=\"#cite_note-cox2000-47\">[47]</a></sup> Radio astronomy is different from most other forms of observational astronomy in that the observed <a href=\"/wiki/Radio_wave\" title=\"Radio wave\">radio waves</a> can be treated as <a href=\"/wiki/Wave\" title=\"Wave\">waves</a> rather than as discrete <a href=\"/wiki/Photon\" title=\"Photon\">photons</a>. Hence, it is relatively easier to measure both the <a href=\"/wiki/Amplitude\" title=\"Amplitude\">amplitude</a> and <a href=\"/wiki/Phase_(waves)\" title=\"Phase (waves)\">phase</a> of radio waves, whereas this is not as easily done at shorter wavelengths.<sup class=\"reference\" id=\"cite_ref-cox2000_47-1\"><a href=\"#cite_note-cox2000-47\">[47]</a></sup>\\n</p> <p>Although some <a href=\"/wiki/Radio_wave\" title=\"Radio wave\">radio waves</a> are emitted directly by astronomical objects, a product of <a href=\"/wiki/Black-body_radiation\" title=\"Black-body radiation\">thermal emission</a>, most of the radio emission that is observed is the result of <a href=\"/wiki/Synchrotron_radiation\" title=\"Synchrotron radiation\">synchrotron radiation</a>, which is produced when <a href=\"/wiki/Electron\" title=\"Electron\">electrons</a> orbit <a href=\"/wiki/Magnetic_field\" title=\"Magnetic field\">magnetic fields</a>.<sup class=\"reference\" id=\"cite_ref-cox2000_47-2\"><a href=\"#cite_note-cox2000-47\">[47]</a></sup> Additionally, a number of <a href=\"/wiki/Spectral_line\" title=\"Spectral line\">spectral lines</a> produced by <a class=\"mw-redirect\" href=\"/wiki/Interstellar_gas\" title=\"Interstellar gas\">interstellar gas</a>, notably the <a href=\"/wiki/Hydrogen\" title=\"Hydrogen\">hydrogen</a> spectral line at 21\\xa0cm, are observable at radio wavelengths.<sup class=\"reference\" id=\"cite_ref-shu1982_11-1\"><a href=\"#cite_note-shu1982-11\">[11]</a></sup><sup class=\"reference\" id=\"cite_ref-cox2000_47-3\"><a href=\"#cite_note-cox2000-47\">[47]</a></sup>\\n</p> <p>A wide variety of other objects are observable at radio wavelengths, including <a href=\"/wiki/Supernova\" title=\"Supernova\">supernovae</a>, interstellar gas, <a href=\"/wiki/Pulsar\" title=\"Pulsar\">pulsars</a>, and <a class=\"mw-redirect\" href=\"/wiki/Active_galactic_nuclei\" title=\"Active galactic nuclei\">active galactic nuclei</a>.<sup class=\"reference\" id=\"cite_ref-shu1982_11-2\"><a href=\"#cite_note-shu1982-11\">[11]</a></sup><sup class=\"reference\" id=\"cite_ref-cox2000_47-4\"><a href=\"#cite_note-cox2000-47\">[47]</a></sup>\\n</p> <p>Infrared astronomy is founded on the detection and analysis of <a href=\"/wiki/Infrared\" title=\"Infrared\">infrared</a> radiation, wavelengths longer than red light and outside the range of our vision. The infrared spectrum is useful for studying objects that are too cold to radiate visible light, such as planets, <a class=\"mw-redirect\" href=\"/wiki/Circumstellar_disk\" title=\"Circumstellar disk\">circumstellar disks</a> or nebulae whose light is blocked by dust. The longer wavelengths of infrared can penetrate clouds of dust that block visible light, allowing the observation of young stars embedded in <a href=\"/wiki/Molecular_cloud\" title=\"Molecular cloud\">molecular clouds</a> and the cores of galaxies. Observations from the <a href=\"/wiki/Wide-field_Infrared_Survey_Explorer\" title=\"Wide-field Infrared Survey Explorer\">Wide-field Infrared Survey Explorer</a> (WISE) have been particularly effective at unveiling numerous Galactic <a href=\"/wiki/Protostar\" title=\"Protostar\">protostars</a> and their host <a class=\"mw-redirect\" href=\"/wiki/Star_clusters\" title=\"Star clusters\">star clusters</a>.<sup class=\"reference\" id=\"cite_ref-wright_49-0\"><a href=\"#cite_note-wright-49\">[49]</a></sup><sup class=\"reference\" id=\"cite_ref-ma2013_50-0\"><a href=\"#cite_note-ma2013-50\">[50]</a></sup>\\nWith the exception of infrared <a class=\"mw-redirect\" href=\"/wiki/Wavelengths\" title=\"Wavelengths\">wavelengths</a> close to visible light, such radiation is heavily absorbed by the atmosphere, or masked, as the atmosphere itself produces significant infrared emission. Consequently, infrared observatories have to be located in high, dry places on Earth or in space.<sup class=\"reference\" id=\"cite_ref-51\"><a href=\"#cite_note-51\">[51]</a></sup> Some molecules radiate strongly in the infrared. This allows the study of the chemistry of space; more specifically it can detect water in comets.<sup class=\"reference\" id=\"cite_ref-52\"><a href=\"#cite_note-52\">[52]</a></sup>\\n</p> <p>Historically, optical astronomy, also called visible light astronomy, is the oldest form of astronomy.<sup class=\"reference\" id=\"cite_ref-moore1997_53-0\"><a href=\"#cite_note-moore1997-53\">[53]</a></sup> Images of observations were originally drawn by hand. In the late 19th century and most of the 20th century, images were made using photographic equipment. Modern images are made using digital detectors, particularly using <a href=\"/wiki/Charge-coupled_device\" title=\"Charge-coupled device\">charge-coupled devices</a> (CCDs) and recorded on modern medium. Although visible light itself extends from approximately 4000 <a class=\"mw-redirect\" href=\"/wiki/%C3%85ngstrom\" title=\"Ångstrom\">Å</a> to 7000 Å (400 <a href=\"/wiki/Nanometre\" title=\"Nanometre\">nm</a> to 700\\xa0nm),<sup class=\"reference\" id=\"cite_ref-moore1997_53-1\"><a href=\"#cite_note-moore1997-53\">[53]</a></sup> that same equipment can be used to observe some <a class=\"mw-redirect\" href=\"/wiki/Near-ultraviolet\" title=\"Near-ultraviolet\">near-ultraviolet</a> and <a class=\"mw-redirect\" href=\"/wiki/Near-infrared\" title=\"Near-infrared\">near-infrared</a> radiation.\\n</p> <p>Ultraviolet astronomy employs <a href=\"/wiki/Ultraviolet\" title=\"Ultraviolet\">ultraviolet</a> wavelengths between approximately 100 and 3200\\xa0Å (10 to 320\\xa0nm).<sup class=\"reference\" id=\"cite_ref-cox2000_47-5\"><a href=\"#cite_note-cox2000-47\">[47]</a></sup> Light at those wavelengths is absorbed by the Earth\\'s atmosphere, requiring observations at these wavelengths to be performed from the upper atmosphere or from space. Ultraviolet astronomy is best suited to the study of thermal radiation and spectral emission lines from hot blue <a href=\"/wiki/Star\" title=\"Star\">stars</a> (<a href=\"/wiki/OB_star\" title=\"OB star\">OB stars</a>) that are very bright in this wave band. This includes the blue stars in other galaxies, which have been the targets of several ultraviolet surveys. Other objects commonly observed in ultraviolet light include <a href=\"/wiki/Planetary_nebula\" title=\"Planetary nebula\">planetary nebulae</a>, <a href=\"/wiki/Supernova_remnant\" title=\"Supernova remnant\">supernova remnants</a>, and active galactic nuclei.<sup class=\"reference\" id=\"cite_ref-cox2000_47-6\"><a href=\"#cite_note-cox2000-47\">[47]</a></sup> However, as ultraviolet light is easily absorbed by <a class=\"mw-redirect\" href=\"/wiki/Interstellar_dust\" title=\"Interstellar dust\">interstellar dust</a>, an adjustment of ultraviolet measurements is necessary.<sup class=\"reference\" id=\"cite_ref-cox2000_47-7\"><a href=\"#cite_note-cox2000-47\">[47]</a></sup>\\n</p> <p>X-ray astronomy uses <a class=\"mw-redirect\" href=\"/wiki/X-radiation\" title=\"X-radiation\">X-ray wavelengths</a>. Typically, X-ray radiation is produced by <a class=\"mw-redirect\" href=\"/wiki/Synchrotron_emission\" title=\"Synchrotron emission\">synchrotron emission</a> (the result of electrons orbiting magnetic field lines), <a class=\"mw-redirect\" href=\"/wiki/Bremsstrahlung_radiation\" title=\"Bremsstrahlung radiation\">thermal emission from thin gases</a> above 10<sup>7</sup> (10\\xa0million) <a href=\"/wiki/Kelvin\" title=\"Kelvin\">kelvins</a>, and <a class=\"mw-redirect\" href=\"/wiki/Blackbody_radiation\" title=\"Blackbody radiation\">thermal emission from thick gases</a> above 10<sup>7</sup> Kelvin.<sup class=\"reference\" id=\"cite_ref-cox2000_47-8\"><a href=\"#cite_note-cox2000-47\">[47]</a></sup> Since X-rays are absorbed by the <a class=\"mw-redirect\" href=\"/wiki/Earth%27s_atmosphere\" title=\"Earth\\'s atmosphere\">Earth\\'s atmosphere</a>, all X-ray observations must be performed from <a href=\"/wiki/High-altitude_balloon\" title=\"High-altitude balloon\">high-altitude balloons</a>, <a href=\"/wiki/Rocket\" title=\"Rocket\">rockets</a>, or <a href=\"/wiki/X-ray_astronomy_satellite\" title=\"X-ray astronomy satellite\">X-ray astronomy satellites</a>. Notable <a href=\"/wiki/Astrophysical_X-ray_source\" title=\"Astrophysical X-ray source\">X-ray sources</a> include <a class=\"mw-redirect\" href=\"/wiki/X-ray_binaries\" title=\"X-ray binaries\">X-ray binaries</a>, <a href=\"/wiki/Pulsar\" title=\"Pulsar\">pulsars</a>, <a href=\"/wiki/Supernova_remnant\" title=\"Supernova remnant\">supernova remnants</a>, <a class=\"mw-redirect\" href=\"/wiki/Elliptical_galaxies\" title=\"Elliptical galaxies\">elliptical galaxies</a>, <a class=\"mw-redirect\" href=\"/wiki/Clusters_of_galaxies\" title=\"Clusters of galaxies\">clusters of galaxies</a>, and <a class=\"mw-redirect\" href=\"/wiki/Active_galactic_nuclei\" title=\"Active galactic nuclei\">active galactic nuclei</a>.<sup class=\"reference\" id=\"cite_ref-cox2000_47-9\"><a href=\"#cite_note-cox2000-47\">[47]</a></sup>\\n</p> <p>Gamma ray astronomy observes astronomical objects at the shortest wavelengths of the electromagnetic spectrum. Gamma rays may be observed directly by satellites such as the <a href=\"/wiki/Compton_Gamma_Ray_Observatory\" title=\"Compton Gamma Ray Observatory\">Compton Gamma Ray Observatory</a> or by specialized telescopes called <a class=\"mw-redirect\" href=\"/wiki/Atmospheric_Cherenkov_telescope\" title=\"Atmospheric Cherenkov telescope\">atmospheric Cherenkov telescopes</a>.<sup class=\"reference\" id=\"cite_ref-cox2000_47-10\"><a href=\"#cite_note-cox2000-47\">[47]</a></sup> The Cherenkov telescopes do not detect the gamma rays directly but instead detect the flashes of visible light produced when gamma rays are absorbed by the Earth\\'s atmosphere.<sup class=\"reference\" id=\"cite_ref-spectrum_54-0\"><a href=\"#cite_note-spectrum-54\">[54]</a></sup>\\n</p> <p>Most <a href=\"/wiki/Gamma_ray\" title=\"Gamma ray\">gamma-ray</a> emitting sources are actually <a href=\"/wiki/Gamma-ray_burst\" title=\"Gamma-ray burst\">gamma-ray bursts</a>, objects which only produce gamma radiation for a few milliseconds to thousands of seconds before fading away. Only 10% of gamma-ray sources are non-transient sources. These steady gamma-ray emitters include pulsars, <a href=\"/wiki/Neutron_star\" title=\"Neutron star\">neutron stars</a>, and <a href=\"/wiki/Black_hole\" title=\"Black hole\">black hole</a> candidates such as active galactic nuclei.<sup class=\"reference\" id=\"cite_ref-cox2000_47-11\"><a href=\"#cite_note-cox2000-47\">[47]</a></sup>\\n</p> <p>In addition to electromagnetic radiation, a few other events originating from great distances may be observed from the Earth.\\n</p> <p>In <a href=\"/wiki/Neutrino_astronomy\" title=\"Neutrino astronomy\">neutrino astronomy</a>, astronomers use heavily shielded <a class=\"mw-redirect\" href=\"/wiki/Neutrino_observatory\" title=\"Neutrino observatory\">underground facilities</a> such as <a class=\"mw-redirect\" href=\"/wiki/SAGE_(ruSsian_American_Gallium_Experiment)\" title=\"SAGE (ruSsian American Gallium Experiment)\">SAGE</a>, <a href=\"/wiki/GALLEX\" title=\"GALLEX\">GALLEX</a>, and <a href=\"/wiki/Kamioka_Observatory\" title=\"Kamioka Observatory\">Kamioka II/III</a> for the detection of <a href=\"/wiki/Neutrino\" title=\"Neutrino\">neutrinos</a>. The vast majority of the neutrinos streaming through the Earth originate from the <a href=\"/wiki/Sun\" title=\"Sun\">Sun</a>, but 24 neutrinos were also detected from <a class=\"mw-redirect\" href=\"/wiki/Supernova_1987A\" title=\"Supernova 1987A\">supernova 1987A</a>.<sup class=\"reference\" id=\"cite_ref-cox2000_47-12\"><a href=\"#cite_note-cox2000-47\">[47]</a></sup> <a href=\"/wiki/Cosmic_ray\" title=\"Cosmic ray\">Cosmic rays</a>, which consist of very high energy particles (atomic nuclei) that can decay or be absorbed when they enter the Earth\\'s atmosphere, result in a cascade of secondary particles which can be detected by current observatories.<sup class=\"reference\" id=\"cite_ref-55\"><a href=\"#cite_note-55\">[55]</a></sup> Some future <a href=\"/wiki/Neutrino_detector\" title=\"Neutrino detector\">neutrino detectors</a> may also be sensitive to the particles produced when cosmic rays hit the Earth\\'s atmosphere.<sup class=\"reference\" id=\"cite_ref-cox2000_47-13\"><a href=\"#cite_note-cox2000-47\">[47]</a></sup>\\n</p> <p><a href=\"/wiki/Gravitational-wave_astronomy\" title=\"Gravitational-wave astronomy\">Gravitational-wave astronomy</a> is an emerging field of astronomy that employs <a class=\"mw-redirect\" href=\"/wiki/Gravitational-wave_detector\" title=\"Gravitational-wave detector\">gravitational-wave detectors</a> to collect observational data about distant massive objects. A few observatories have been constructed, such as the <i>Laser Interferometer Gravitational Observatory</i> <a href=\"/wiki/LIGO\" title=\"LIGO\">LIGO</a>. LIGO made its <a href=\"/wiki/First_observation_of_gravitational_waves\" title=\"First observation of gravitational waves\">first detection</a> on 14 September 2015, observing gravitational waves from a <a href=\"/wiki/Binary_black_hole\" title=\"Binary black hole\">binary black hole</a>.<sup class=\"reference\" id=\"cite_ref-PRL-20160211_56-0\"><a href=\"#cite_note-PRL-20160211-56\">[56]</a></sup> A second <a href=\"/wiki/Gravitational_wave\" title=\"Gravitational wave\">gravitational wave</a> was detected on 26 December 2015 and additional observations should continue but <a href=\"/wiki/Gravitational_wave\" title=\"Gravitational wave\">gravitational waves</a> require extremely sensitive instruments.<sup class=\"reference\" id=\"cite_ref-57\"><a href=\"#cite_note-57\">[57]</a></sup><sup class=\"reference\" id=\"cite_ref-58\"><a href=\"#cite_note-58\">[58]</a></sup>\\n</p> <p>The combination of observations made using electromagnetic radiation, neutrinos or gravitational waves and other complementary information, is known as <a href=\"/wiki/Multi-messenger_astronomy\" title=\"Multi-messenger astronomy\">multi-messenger astronomy</a>.<sup class=\"reference\" id=\"cite_ref-59\"><a href=\"#cite_note-59\">[59]</a></sup><sup class=\"reference\" id=\"cite_ref-60\"><a href=\"#cite_note-60\">[60]</a></sup>\\n</p> <p>One of the oldest fields in astronomy, and in all of science, is the measurement of the positions of celestial objects. Historically, accurate knowledge of the positions of the Sun, Moon, planets and stars has been essential in <a href=\"/wiki/Celestial_navigation\" title=\"Celestial navigation\">celestial navigation</a> (the use of celestial objects to guide navigation) and in the making of <a href=\"/wiki/Calendar\" title=\"Calendar\">calendars</a>.\\n</p> <p>Careful measurement of the positions of the planets has led to a solid understanding of gravitational <a href=\"/wiki/Perturbation_theory\" title=\"Perturbation theory\">perturbations</a>, and an ability to determine past and future positions of the planets with great accuracy, a field known as <a href=\"/wiki/Celestial_mechanics\" title=\"Celestial mechanics\">celestial mechanics</a>. More recently the tracking of <a href=\"/wiki/Near-Earth_object\" title=\"Near-Earth object\">near-Earth objects</a> will allow for predictions of close encounters or potential collisions of the Earth with those objects.<sup class=\"reference\" id=\"cite_ref-61\"><a href=\"#cite_note-61\">[61]</a></sup>\\n</p> <p>The measurement of <a href=\"/wiki/Stellar_parallax\" title=\"Stellar parallax\">stellar parallax</a> of nearby stars provides a fundamental baseline in the <a href=\"/wiki/Cosmic_distance_ladder\" title=\"Cosmic distance ladder\">cosmic distance ladder</a> that is used to measure the scale of the Universe. Parallax measurements of nearby stars provide an absolute baseline for the properties of more distant stars, as their properties can be compared. Measurements of the <a href=\"/wiki/Radial_velocity\" title=\"Radial velocity\">radial velocity</a> and <a href=\"/wiki/Proper_motion\" title=\"Proper motion\">proper motion</a> of stars allow astronomers to plot the movement of these systems through the Milky Way galaxy. Astrometric results are the basis used to calculate the distribution of speculated <a href=\"/wiki/Dark_matter\" title=\"Dark matter\">dark matter</a> in the galaxy.<sup class=\"reference\" id=\"cite_ref-62\"><a href=\"#cite_note-62\">[62]</a></sup>\\n</p> <p>During the 1990s, the measurement of the <a class=\"mw-redirect\" href=\"/wiki/Stellar_wobble\" title=\"Stellar wobble\">stellar wobble</a> of nearby stars was <a class=\"mw-redirect\" href=\"/wiki/Methods_of_detecting_extrasolar_planets#Astrometry\" title=\"Methods of detecting extrasolar planets\">used to detect</a> large <a class=\"mw-redirect\" href=\"/wiki/Extrasolar_planet\" title=\"Extrasolar planet\">extrasolar planets</a> orbiting those stars.<sup class=\"reference\" id=\"cite_ref-Wolszczan_63-0\"><a href=\"#cite_note-Wolszczan-63\">[63]</a></sup>\\n</p> <p>Theoretical astronomers use several tools including <a href=\"/wiki/Mathematical_model\" title=\"Mathematical model\">analytical models</a> and <a href=\"/wiki/Computation\" title=\"Computation\">computational</a> <a href=\"/wiki/Numerical_analysis\" title=\"Numerical analysis\">numerical simulations</a>; each has its particular advantages. Analytical models of a process are better for giving broader insight into the heart of what is going on. Numerical models reveal the existence of phenomena and effects otherwise unobserved.<sup class=\"reference\" id=\"cite_ref-64\"><a href=\"#cite_note-64\">[64]</a></sup><sup class=\"reference\" id=\"cite_ref-65\"><a href=\"#cite_note-65\">[65]</a></sup>\\n</p> <p>Theorists in astronomy endeavor to create theoretical models and from the results predict observational consequences of those models. The observation of a phenomenon predicted by a model allows astronomers to select between several alternate or conflicting models as the one best able to describe the phenomena.\\n</p> <p>Theorists also try to generate or modify models to take into account new data. In the case of an inconsistency between the data and the model\\'s results, the general tendency is to try to make minimal modifications to the model so that it produces results that fit the data. In some cases, a large amount of inconsistent data over time may lead to the total abandonment of a model.\\n</p> <p>Phenomena modeled by theoretical astronomers include: <a href=\"/wiki/Stellar_dynamics\" title=\"Stellar dynamics\">stellar dynamics</a> and <a href=\"/wiki/Stellar_evolution\" title=\"Stellar evolution\">evolution</a>; <a href=\"/wiki/Galaxy_formation_and_evolution\" title=\"Galaxy formation and evolution\">galaxy formation</a>; <a class=\"mw-redirect\" href=\"/wiki/Large-scale_structure_of_the_universe\" title=\"Large-scale structure of the universe\">large-scale distribution</a> of <a href=\"/wiki/Matter\" title=\"Matter\">matter</a> in the <a href=\"/wiki/Universe\" title=\"Universe\">Universe</a>; origin of <a href=\"/wiki/Cosmic_ray\" title=\"Cosmic ray\">cosmic rays</a>; <a href=\"/wiki/General_relativity\" title=\"General relativity\">general relativity</a> and <a href=\"/wiki/Physical_cosmology\" title=\"Physical cosmology\">physical cosmology</a>, including <a href=\"/wiki/String_theory\" title=\"String theory\">string</a> <a href=\"/wiki/Cosmology\" title=\"Cosmology\">cosmology</a> and <a href=\"/wiki/Astroparticle_physics\" title=\"Astroparticle physics\">astroparticle physics</a>. Astrophysical relativity serves as a tool to gauge the properties of large scale structures for which gravitation plays a significant role in physical phenomena investigated and as the basis for <a href=\"/wiki/Black_hole\" title=\"Black hole\">black hole</a> (<i>astro</i>)<a href=\"/wiki/Physics\" title=\"Physics\">physics</a> and the study of <a class=\"mw-redirect\" href=\"/wiki/Gravitational_waves\" title=\"Gravitational waves\">gravitational waves</a>.\\n</p> <p>Some widely accepted and studied theories and models in astronomy, now included in the <a href=\"/wiki/Lambda-CDM_model\" title=\"Lambda-CDM model\">Lambda-CDM model</a> are the <a href=\"/wiki/Big_Bang\" title=\"Big Bang\">Big Bang</a>, <a href=\"/wiki/Dark_matter\" title=\"Dark matter\">dark matter</a> and fundamental theories of <a href=\"/wiki/Physics\" title=\"Physics\">physics</a>.\\n</p> <p>A few examples of this process:\\n</p> <p>Along with <a class=\"mw-redirect\" href=\"/wiki/Cosmic_inflation\" title=\"Cosmic inflation\">Cosmic inflation</a>, <a href=\"/wiki/Dark_matter\" title=\"Dark matter\">dark matter</a> and <a href=\"/wiki/Dark_energy\" title=\"Dark energy\">dark energy</a> are the current leading topics in astronomy,<sup class=\"reference\" id=\"cite_ref-66\"><a href=\"#cite_note-66\">[66]</a></sup> as their discovery and controversy originated during the study of the galaxies.\\n</p> <p><a href=\"/wiki/Astrophysics\" title=\"Astrophysics\">Astrophysics</a> is the branch of astronomy that employs the principles of physics and <a href=\"/wiki/Chemistry\" title=\"Chemistry\">chemistry</a> \"to ascertain the nature of the <a href=\"/wiki/Astronomical_object\" title=\"Astronomical object\">astronomical objects</a>, rather than their positions or motions in space\".<sup class=\"reference\" id=\"cite_ref-67\"><a href=\"#cite_note-67\">[67]</a></sup><sup class=\"reference\" id=\"cite_ref-68\"><a href=\"#cite_note-68\">[68]</a></sup> Among the objects studied are the <a href=\"/wiki/Sun\" title=\"Sun\">Sun</a>, other <a href=\"/wiki/Star\" title=\"Star\">stars</a>, <a href=\"/wiki/Galaxy\" title=\"Galaxy\">galaxies</a>, <a class=\"mw-redirect\" href=\"/wiki/Extrasolar_planet\" title=\"Extrasolar planet\">extrasolar planets</a>, the <a href=\"/wiki/Interstellar_medium\" title=\"Interstellar medium\">interstellar medium</a> and the <a href=\"/wiki/Cosmic_microwave_background\" title=\"Cosmic microwave background\">cosmic microwave background</a>.<sup class=\"reference\" id=\"cite_ref-nasa.gov_69-0\"><a href=\"#cite_note-nasa.gov-69\">[69]</a></sup><sup class=\"reference\" id=\"cite_ref-70\"><a href=\"#cite_note-70\">[70]</a></sup> Their emissions are examined across all parts of the <a href=\"/wiki/Electromagnetic_spectrum\" title=\"Electromagnetic spectrum\">electromagnetic spectrum</a>, and the properties examined include <a href=\"/wiki/Luminosity\" title=\"Luminosity\">luminosity</a>, <a href=\"/wiki/Density\" title=\"Density\">density</a>, <a href=\"/wiki/Temperature\" title=\"Temperature\">temperature</a>, and <a href=\"/wiki/Chemistry\" title=\"Chemistry\">chemical</a> composition. Because astrophysics is a very broad subject, <i>astrophysicists</i> typically apply many disciplines of physics, including <a href=\"/wiki/Mechanics\" title=\"Mechanics\">mechanics</a>, <a href=\"/wiki/Electromagnetism\" title=\"Electromagnetism\">electromagnetism</a>, <a href=\"/wiki/Statistical_mechanics\" title=\"Statistical mechanics\">statistical mechanics</a>, <a href=\"/wiki/Thermodynamics\" title=\"Thermodynamics\">thermodynamics</a>, <a href=\"/wiki/Quantum_mechanics\" title=\"Quantum mechanics\">quantum mechanics</a>, <a href=\"/wiki/Theory_of_relativity\" title=\"Theory of relativity\">relativity</a>, <a href=\"/wiki/Nuclear_physics\" title=\"Nuclear physics\">nuclear</a> and <a href=\"/wiki/Particle_physics\" title=\"Particle physics\">particle physics</a>, and <a href=\"/wiki/Atomic,_molecular,_and_optical_physics\" title=\"Atomic, molecular, and optical physics\">atomic and molecular physics</a>.\\n</p> <p>In practice, modern astronomical research often involves a substantial amount of work in the realms of <a href=\"/wiki/Theoretical_physics\" title=\"Theoretical physics\">theoretical</a> and observational physics. Some areas of study for astrophysicists include their attempts to determine the properties of <a href=\"/wiki/Dark_matter\" title=\"Dark matter\">dark matter</a>, <a href=\"/wiki/Dark_energy\" title=\"Dark energy\">dark energy</a>, and <a class=\"mw-redirect\" href=\"/wiki/Black_holes\" title=\"Black holes\">black holes</a>; whether or not <a href=\"/wiki/Time_travel\" title=\"Time travel\">time travel</a> is possible, <a href=\"/wiki/Wormhole\" title=\"Wormhole\">wormholes</a> can form, or the <a href=\"/wiki/Multiverse\" title=\"Multiverse\">multiverse</a> exists; and the <a href=\"/wiki/Cosmogony\" title=\"Cosmogony\">origin</a> and <a href=\"/wiki/Ultimate_fate_of_the_universe\" title=\"Ultimate fate of the universe\">ultimate fate of the universe</a>.<sup class=\"reference\" id=\"cite_ref-nasa.gov_69-1\"><a href=\"#cite_note-nasa.gov-69\">[69]</a></sup> Topics also studied by theoretical astrophysicists include <a href=\"/wiki/Formation_and_evolution_of_the_Solar_System\" title=\"Formation and evolution of the Solar System\">Solar System formation and evolution</a>; <a href=\"/wiki/Stellar_dynamics\" title=\"Stellar dynamics\">stellar dynamics</a> and <a href=\"/wiki/Stellar_evolution\" title=\"Stellar evolution\">evolution</a>; <a href=\"/wiki/Galaxy_formation_and_evolution\" title=\"Galaxy formation and evolution\">galaxy formation and evolution</a>; <a href=\"/wiki/Magnetohydrodynamics\" title=\"Magnetohydrodynamics\">magnetohydrodynamics</a>; <a class=\"mw-redirect\" href=\"/wiki/Large-scale_structure_of_the_universe\" title=\"Large-scale structure of the universe\">large-scale structure</a> of <a href=\"/wiki/Matter\" title=\"Matter\">matter</a> in the universe; origin of <a href=\"/wiki/Cosmic_ray\" title=\"Cosmic ray\">cosmic rays</a>; <a href=\"/wiki/General_relativity\" title=\"General relativity\">general relativity</a> and <a href=\"/wiki/Physical_cosmology\" title=\"Physical cosmology\">physical cosmology</a>, including <a href=\"/wiki/String_theory\" title=\"String theory\">string</a> cosmology and <a href=\"/wiki/Astroparticle_physics\" title=\"Astroparticle physics\">astroparticle physics</a>.\\n</p> <p><a href=\"/wiki/Astrochemistry\" title=\"Astrochemistry\">Astrochemistry</a> is the study of the abundance and reactions of <a href=\"/wiki/Molecule\" title=\"Molecule\">molecules</a> in the <a href=\"/wiki/Universe\" title=\"Universe\">Universe</a>, and their interaction with <a href=\"/wiki/Radiation\" title=\"Radiation\">radiation</a>.<sup class=\"reference\" id=\"cite_ref-71\"><a href=\"#cite_note-71\">[71]</a></sup> The discipline is an overlap of astronomy and <a href=\"/wiki/Chemistry\" title=\"Chemistry\">chemistry</a>. The word \"astrochemistry\" may be applied to both the <a href=\"/wiki/Solar_System\" title=\"Solar System\">Solar System</a> and the <a href=\"/wiki/Interstellar_medium\" title=\"Interstellar medium\">interstellar medium</a>. The study of the abundance of elements and <a href=\"/wiki/Isotope\" title=\"Isotope\">isotope</a> ratios in Solar System objects, such as <a href=\"/wiki/Meteorite\" title=\"Meteorite\">meteorites</a>, is also called <a href=\"/wiki/Cosmochemistry\" title=\"Cosmochemistry\">cosmochemistry</a>, while the study of interstellar atoms and molecules and their interaction with radiation is sometimes called molecular astrophysics. The formation, atomic and chemical composition, evolution and fate of <a href=\"/wiki/Molecular_cloud\" title=\"Molecular cloud\">molecular gas clouds</a> is of special interest, because it is from these clouds that solar systems form.\\n</p> <p>Studies in this field contribute to the understanding of the <a class=\"mw-redirect\" href=\"/wiki/Formation_of_the_Solar_System\" title=\"Formation of the Solar System\">formation of the Solar System</a>, Earth\\'s origin and geology, <a href=\"/wiki/Abiogenesis\" title=\"Abiogenesis\">abiogenesis</a>, and the origin of climate and oceans.\\n</p>'"
      ]
     },
     "execution_count": 32,
     "metadata": {},
     "output_type": "execute_result"
    }
   ],
   "source": [
    "url = 'https://en.wikipedia.org/wiki/Astronomy'\n",
    "page = requests.get(url)\n",
    "soup = BeautifulSoup(page.content, 'html.parser')\n",
    "urls = soup.select('p') # select all a tags that are inside of p tags (css selector)\n",
    "\n",
    "# combine first 50 paragraphs and convert into string\n",
    "urlStr = urls[:50] \n",
    "urlStr = [str(url) for url in urlStr]\n",
    "urlStr = ' '.join(urlStr)\n",
    "urlStr"
   ]
  },
  {
   "cell_type": "code",
   "execution_count": 37,
   "id": "informal-savings",
   "metadata": {},
   "outputs": [
    {
     "data": {
      "text/plain": [
       "['https://en.wikipedia.org/wiki/Natural_science',\n",
       " 'https://en.wikipedia.org/wiki/Astronomical_object',\n",
       " 'https://en.wikipedia.org/wiki/Celestial_event',\n",
       " 'https://en.wikipedia.org/wiki/Mathematics',\n",
       " 'https://en.wikipedia.org/wiki/Physics',\n",
       " 'https://en.wikipedia.org/wiki/Chemistry',\n",
       " 'https://en.wikipedia.org/wiki/Chronology_of_the_Universe',\n",
       " 'https://en.wikipedia.org/wiki/Planets',\n",
       " 'https://en.wikipedia.org/wiki/Natural_satellite',\n",
       " 'https://en.wikipedia.org/wiki/Star']"
      ]
     },
     "execution_count": 37,
     "metadata": {},
     "output_type": "execute_result"
    }
   ],
   "source": [
    "def wiki_get_urls(url): # returns list of valid urls   \n",
    "    # select first three paragraphs in page\n",
    "    page = requests.get(url)\n",
    "    soup = BeautifulSoup(page.content, 'html.parser')\n",
    "    urls = soup.select('p') # select all a tags that are inside of p tags (css selector)\n",
    "    \n",
    "    # combine first 50 paragraphs and convert into string\n",
    "    urlStr = urls[:50] \n",
    "    urlStr = [str(url) for url in urlStr]\n",
    "    urlStr = ' '.join(urlStr)\n",
    "    \n",
    "    # remove text in parentheses or italics from string using regex\n",
    "    urlStr = re.sub(r\"\\([^\\(\\)]+?\\([^\\(\\)]+?\\)[^\\(\\)]+?\\)\", \"\", urlStr) # remove text in double parentheses (xx(xx)xx)\n",
    "    # TODO: write regex for multiple sub-parentheses (..(..)..(..)..(..)..)\n",
    "    urlStr = re.sub(r\"\\([^\\(\\)]+?\\([^\\(\\)]+?\\)[^\\(\\)]+?\\([^\\(\\)]+?\\)[^\\(\\)]+?\\)\", \"\", urlStr)\n",
    "    urlStr = re.sub(r\"\\([^\\(\\)]+?\\([^\\(\\)]+?\\)[^\\(\\)]+?\\([^\\(\\)]+?\\)[^\\(\\)]+?\\([^\\(\\)]+?\\)[^\\(\\)]+?\\)\", \"\", urlStr)\n",
    "    urlStr = re.sub(r\"\\([^\\(\\)]+?\\([^\\(\\)]+?\\)[^\\(\\)]+?\\([^\\(\\)]+?\\)[^\\(\\)]+?\\([^\\(\\)]+?\\)[^\\(\\)]+?\\([^\\(\\)]+?\\)[^\\(\\)]+?\\)\", \"\", urlStr)\n",
    "    urlStr = re.sub(r\"\\([^\\(\\)]*?[^a-z]+[^\\(\\)]*?\\)\", \"\", urlStr) # remove text in parentheses \n",
    "                                                            # (unless it's another wiki page, e.g. /wiki/Justification_(epistemology))\n",
    "    urlStr = re.sub('<i>.*?<\\/i>', '', urlStr) # remove text in italics \n",
    "    \n",
    "    # convert back into soup and find all urls  \n",
    "    soup = BeautifulSoup(urlStr, 'html.parser')\n",
    "    urls = soup.find_all('a')[:10] # get first 10 urls \n",
    "    urls = [url['href'] for url in urls]\n",
    "    \n",
    "    # remove urls that are not other wikipedia pages \n",
    "    toRemove = []\n",
    "    for url in urls: \n",
    "        if not url.startswith('/wiki/'): \n",
    "            toRemove.append(url)\n",
    "        elif url.startswith(('/wiki/Help:', '/wiki/File:', '/wiki/Outline_(list)')): \n",
    "            toRemove.append(url)\n",
    "    for i in toRemove: \n",
    "        urls.remove(i)\n",
    "    urls = ['https://en.wikipedia.org' + url for url in urls]\n",
    "    return urls \n",
    "\n",
    "# test the wiki_get_urls function \n",
    "urls = wiki_get_urls('https://en.wikipedia.org/wiki/Astronomy') \n",
    "urls \n",
    "# goal: should work for both epistemology and science: \n",
    "# for science, first link should be scientific method \n",
    "# for epistomology, first link should be outline of philosophy "
   ]
  },
  {
   "cell_type": "code",
   "execution_count": 13,
   "id": "endless-assistant",
   "metadata": {},
   "outputs": [
    {
     "data": {
      "text/plain": [
       "'https://en.wikipedia.org/wiki/Scientific_method'"
      ]
     },
     "execution_count": 13,
     "metadata": {},
     "output_type": "execute_result"
    }
   ],
   "source": [
    "# inputs list of valid urls, and returns first link that doesn't loop back on itself \n",
    "# (e.g. language --> spoken language --> language)\n",
    "def next_url(url): \n",
    "    test_urls = wiki_get_urls(url) # get list of urls from language \n",
    "    for test_url in test_urls: \n",
    "        urls_1 = wiki_get_urls(test_url) # find list of valid urls spoken langugage  \n",
    "        if urls_1[0] == url: # if the first item spoken language is 'language', try the next url in 'language' \n",
    "            continue \n",
    "        else: # otherwise, pick this url as the next url\n",
    "            return test_url \n",
    "            break \n",
    "\n",
    "# test \n",
    "url = 'https://en.wikipedia.org/wiki/Science'\n",
    "next_url(url)"
   ]
  },
  {
   "cell_type": "code",
   "execution_count": 38,
   "id": "strange-reply",
   "metadata": {},
   "outputs": [
    {
     "name": "stdout",
     "output_type": "stream",
     "text": [
      "getting to philosophy from: https://en.wikipedia.org/wiki/Physics\n",
      "https://en.wikipedia.org/wiki/Natural_science\n",
      "https://en.wikipedia.org/wiki/Branches_of_science\n",
      "https://en.wikipedia.org/wiki/Science\n",
      "https://en.wikipedia.org/wiki/Scientific_method\n",
      "https://en.wikipedia.org/wiki/Empirical_evidence\n",
      "https://en.wikipedia.org/wiki/Information\n",
      "https://en.wikipedia.org/wiki/Uncertainty\n",
      "https://en.wikipedia.org/wiki/Epistemology\n",
      "https://en.wikipedia.org/wiki/Outline_of_philosophy\n",
      "https://en.wikipedia.org/wiki/Philosophy\n",
      "reached philosophy!\n"
     ]
    }
   ],
   "source": [
    "def get_to_philosophy(url): \n",
    "    print('getting to philosophy from: ' + url)\n",
    "    chain = [url]\n",
    "    while url != 'https://en.wikipedia.org/wiki/Philosophy': \n",
    "        url = next_url(url)\n",
    "        if url in chain: \n",
    "            print('url loop has occured. Repeated url:\\n{}'.format(url))\n",
    "            chain.append(url)\n",
    "            break\n",
    "        elif url == 'https://en.wikipedia.org/wiki/Philosophy': \n",
    "            chain.append(url)\n",
    "            print(url)\n",
    "            print('reached philosophy!')\n",
    "        elif url not in chain: \n",
    "            print(url)\n",
    "            chain.append(url)\n",
    "            continue\n",
    "    return chain\n",
    "\n",
    "url = 'https://en.wikipedia.org/wiki/Physics'\n",
    "chain = get_to_philosophy(url)"
   ]
  },
  {
   "cell_type": "markdown",
   "id": "velvet-mention",
   "metadata": {},
   "source": [
    "## Testing the web scraper"
   ]
  },
  {
   "cell_type": "markdown",
   "id": "empty-patrol",
   "metadata": {},
   "source": [
    "## Running the web scraper on a bunch of wikipedia pages"
   ]
  },
  {
   "cell_type": "code",
   "execution_count": 39,
   "id": "discrete-portrait",
   "metadata": {},
   "outputs": [
    {
     "data": {
      "text/html": [
       "<div>\n",
       "<style scoped>\n",
       "    .dataframe tbody tr th:only-of-type {\n",
       "        vertical-align: middle;\n",
       "    }\n",
       "\n",
       "    .dataframe tbody tr th {\n",
       "        vertical-align: top;\n",
       "    }\n",
       "\n",
       "    .dataframe thead th {\n",
       "        text-align: right;\n",
       "    }\n",
       "</style>\n",
       "<table border=\"1\" class=\"dataframe\">\n",
       "  <thead>\n",
       "    <tr style=\"text-align: right;\">\n",
       "      <th></th>\n",
       "      <th>date</th>\n",
       "      <th>link</th>\n",
       "    </tr>\n",
       "  </thead>\n",
       "  <tbody>\n",
       "    <tr>\n",
       "      <th>0</th>\n",
       "      <td>2010-12-16</td>\n",
       "      <td>https://en.wikipedia.org/wiki/Dwarf_planet</td>\n",
       "    </tr>\n",
       "    <tr>\n",
       "      <th>1</th>\n",
       "      <td>2011-01-01</td>\n",
       "      <td>https://en.wikipedia.org/wiki/History_of_the_A...</td>\n",
       "    </tr>\n",
       "    <tr>\n",
       "      <th>2</th>\n",
       "      <td>2011-01-02</td>\n",
       "      <td>https://en.wikipedia.org/wiki/Bob_Marshall_(wi...</td>\n",
       "    </tr>\n",
       "  </tbody>\n",
       "</table>\n",
       "</div>"
      ],
      "text/plain": [
       "         date                                               link\n",
       "0  2010-12-16         https://en.wikipedia.org/wiki/Dwarf_planet\n",
       "1  2011-01-01  https://en.wikipedia.org/wiki/History_of_the_A...\n",
       "2  2011-01-02  https://en.wikipedia.org/wiki/Bob_Marshall_(wi..."
      ]
     },
     "execution_count": 39,
     "metadata": {},
     "output_type": "execute_result"
    }
   ],
   "source": [
    "df = pd.read_csv('WikiMainPage.csv')\n",
    "df = df[['Date', 'TFALink']]\n",
    "df.rename(columns = {'TFALink': 'link', 'Date': 'date'}, inplace=True)\n",
    "df.link = 'https://en.wikipedia.org' + df.link\n",
    "df = df.head(3)\n",
    "df"
   ]
  },
  {
   "cell_type": "code",
   "execution_count": 40,
   "id": "ignored-jackson",
   "metadata": {},
   "outputs": [
    {
     "name": "stdout",
     "output_type": "stream",
     "text": [
      "getting to philosophy from: https://en.wikipedia.org/wiki/Dwarf_planet\n",
      "https://en.wikipedia.org/wiki/Planetary-mass_object\n",
      "https://en.wikipedia.org/wiki/Astronomical_body\n",
      "https://en.wikipedia.org/wiki/Astronomy\n",
      "https://en.wikipedia.org/wiki/Natural_science\n",
      "https://en.wikipedia.org/wiki/Branches_of_science\n",
      "https://en.wikipedia.org/wiki/Science\n",
      "https://en.wikipedia.org/wiki/Scientific_method\n",
      "https://en.wikipedia.org/wiki/Empirical_evidence\n",
      "https://en.wikipedia.org/wiki/Information\n",
      "https://en.wikipedia.org/wiki/Uncertainty\n",
      "https://en.wikipedia.org/wiki/Epistemology\n",
      "https://en.wikipedia.org/wiki/Outline_of_philosophy\n",
      "https://en.wikipedia.org/wiki/Philosophy\n",
      "reached philosophy!\n",
      "getting to philosophy from: https://en.wikipedia.org/wiki/History_of_the_Australian_Capital_Territory\n",
      "https://en.wikipedia.org/wiki/Australian_Capital_Territory\n",
      "https://en.wikipedia.org/wiki/Federal_territory\n",
      "https://en.wikipedia.org/wiki/Federation\n",
      "https://en.wikipedia.org/wiki/Political_entity\n",
      "https://en.wikipedia.org/wiki/Collective_identity\n",
      "https://en.wikipedia.org/wiki/Belongingness\n",
      "https://en.wikipedia.org/wiki/Emotional\n",
      "https://en.wikipedia.org/wiki/Biological\n",
      "https://en.wikipedia.org/wiki/Natural_science\n",
      "https://en.wikipedia.org/wiki/Branches_of_science\n",
      "https://en.wikipedia.org/wiki/Science\n",
      "https://en.wikipedia.org/wiki/Scientific_method\n",
      "https://en.wikipedia.org/wiki/Empirical_evidence\n",
      "https://en.wikipedia.org/wiki/Information\n",
      "https://en.wikipedia.org/wiki/Uncertainty\n",
      "https://en.wikipedia.org/wiki/Epistemology\n",
      "https://en.wikipedia.org/wiki/Outline_of_philosophy\n",
      "https://en.wikipedia.org/wiki/Philosophy\n",
      "reached philosophy!\n",
      "getting to philosophy from: https://en.wikipedia.org/wiki/Bob_Marshall_(wilderness_activist)\n",
      "https://en.wikipedia.org/wiki/Forester\n",
      "https://en.wikipedia.org/wiki/Forestry\n",
      "https://en.wikipedia.org/wiki/Forest\n",
      "https://en.wikipedia.org/wiki/Tree\n",
      "https://en.wikipedia.org/wiki/Botany\n",
      "https://en.wikipedia.org/wiki/Science\n",
      "https://en.wikipedia.org/wiki/Scientific_method\n",
      "https://en.wikipedia.org/wiki/Empirical_evidence\n",
      "https://en.wikipedia.org/wiki/Information\n",
      "https://en.wikipedia.org/wiki/Uncertainty\n",
      "https://en.wikipedia.org/wiki/Epistemology\n",
      "https://en.wikipedia.org/wiki/Outline_of_philosophy\n",
      "https://en.wikipedia.org/wiki/Philosophy\n",
      "reached philosophy!\n",
      "Wall time: 54.1 s\n"
     ]
    },
    {
     "data": {
      "text/html": [
       "<div>\n",
       "<style scoped>\n",
       "    .dataframe tbody tr th:only-of-type {\n",
       "        vertical-align: middle;\n",
       "    }\n",
       "\n",
       "    .dataframe tbody tr th {\n",
       "        vertical-align: top;\n",
       "    }\n",
       "\n",
       "    .dataframe thead th {\n",
       "        text-align: right;\n",
       "    }\n",
       "</style>\n",
       "<table border=\"1\" class=\"dataframe\">\n",
       "  <thead>\n",
       "    <tr style=\"text-align: right;\">\n",
       "      <th></th>\n",
       "      <th>date</th>\n",
       "      <th>link</th>\n",
       "      <th>chain</th>\n",
       "      <th>philosophy</th>\n",
       "    </tr>\n",
       "  </thead>\n",
       "  <tbody>\n",
       "    <tr>\n",
       "      <th>0</th>\n",
       "      <td>2010-12-16</td>\n",
       "      <td>https://en.wikipedia.org/wiki/Dwarf_planet</td>\n",
       "      <td>[https://en.wikipedia.org/wiki/Dwarf_planet, h...</td>\n",
       "      <td>True</td>\n",
       "    </tr>\n",
       "    <tr>\n",
       "      <th>1</th>\n",
       "      <td>2011-01-01</td>\n",
       "      <td>https://en.wikipedia.org/wiki/History_of_the_A...</td>\n",
       "      <td>[https://en.wikipedia.org/wiki/History_of_the_...</td>\n",
       "      <td>True</td>\n",
       "    </tr>\n",
       "    <tr>\n",
       "      <th>2</th>\n",
       "      <td>2011-01-02</td>\n",
       "      <td>https://en.wikipedia.org/wiki/Bob_Marshall_(wi...</td>\n",
       "      <td>[https://en.wikipedia.org/wiki/Bob_Marshall_(w...</td>\n",
       "      <td>True</td>\n",
       "    </tr>\n",
       "  </tbody>\n",
       "</table>\n",
       "</div>"
      ],
      "text/plain": [
       "         date                                               link  \\\n",
       "0  2010-12-16         https://en.wikipedia.org/wiki/Dwarf_planet   \n",
       "1  2011-01-01  https://en.wikipedia.org/wiki/History_of_the_A...   \n",
       "2  2011-01-02  https://en.wikipedia.org/wiki/Bob_Marshall_(wi...   \n",
       "\n",
       "                                               chain  philosophy  \n",
       "0  [https://en.wikipedia.org/wiki/Dwarf_planet, h...        True  \n",
       "1  [https://en.wikipedia.org/wiki/History_of_the_...        True  \n",
       "2  [https://en.wikipedia.org/wiki/Bob_Marshall_(w...        True  "
      ]
     },
     "execution_count": 40,
     "metadata": {},
     "output_type": "execute_result"
    }
   ],
   "source": [
    "%%time\n",
    "df['chain'] = df.link.map(lambda x: get_to_philosophy(x))\n",
    "def philosophy(x): \n",
    "    if x[-1] == 'https://en.wikipedia.org/wiki/Philosophy': \n",
    "        return True\n",
    "    else: \n",
    "        return False\n",
    "df['philosophy'] = df.chain.map(lambda x: philosophy(x))\n",
    "df"
   ]
  },
  {
   "cell_type": "code",
   "execution_count": 43,
   "id": "injured-limit",
   "metadata": {},
   "outputs": [
    {
     "name": "stdout",
     "output_type": "stream",
     "text": [
      "hours required to compute 500 rows: 2.5\n"
     ]
    }
   ],
   "source": [
    "r = 500 \n",
    "t = 54.1/3\n",
    "print('hours required to compute {} rows: {}'.format(r, round(t*r/60/60, 2)))"
   ]
  },
  {
   "cell_type": "code",
   "execution_count": null,
   "id": "worse-toddler",
   "metadata": {},
   "outputs": [],
   "source": []
  }
 ],
 "metadata": {
  "kernelspec": {
   "display_name": "Python [conda env:root] *",
   "language": "python",
   "name": "conda-root-py"
  },
  "language_info": {
   "codemirror_mode": {
    "name": "ipython",
    "version": 3
   },
   "file_extension": ".py",
   "mimetype": "text/x-python",
   "name": "python",
   "nbconvert_exporter": "python",
   "pygments_lexer": "ipython3",
   "version": "3.8.5"
  }
 },
 "nbformat": 4,
 "nbformat_minor": 5
}
