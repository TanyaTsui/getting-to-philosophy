{
 "cells": [
  {
   "cell_type": "markdown",
   "id": "covered-manufacturer",
   "metadata": {},
   "source": [
    "# Getting to philosophy \n",
    "In the summer of 2008, wikipedia user Mark J discovered a strange phenomenon on wikipedia: if you click on the first link on a wikipedia page, then repeat the process, you usually end up on the page for philosophy. He wrote a [wikipedia page](https://en.wikipedia.org/wiki/Wikipedia:Getting_to_Philosophy) about this, which led to mentions on a [podcast](https://en.wikipedia.org/wiki/Wikipedia:WikipediaWeekly/Episode50) and [documentary](https://www.bbc.co.uk/programmes/b07lk6tj), as well as a [scientific paper](https://www.daniellamprecht.com/wp-content/uploads/2016/08/Evaluating-and-Improving-Navigability-of-Wikipedia-a-Comparative-Study-of-eight-Language-Editions.pdf) published in 2016, which found that 97% of articles led to philosophy.\n",
    "\n",
    "In this notebook, I'd like to find out if this phenomenon still exists on wikipedia today, in 2021. In order to do this, I will build a web scraper that goes through the process of clicking first links. Then, I will use this web scraper on a bunch (~3000?) of wikipedia pages, and keep a record of whether these pages get to philosophy, as well as all the links the web scraper had to click through to get there. \n",
    "\n",
    "I will then analyze the resulting dataset, and try to answer the following questions: \n",
    "* What is the percentage of pages that lead to philosophy? \n",
    "* What are some other popular pages that many pages eventually lead to? \n",
    "* What is the most beautiful way of visualizing this data? (I will use this beautiful [Game of Thrones character network visualization](https://www.linkedin.com/pulse/game-thrones-social-network-analysis-conor-aspell/) as inspiration)\n",
    "* Which pages are highly connected to other pages, and which are not? (this is a chance to learn about and apply [network theory](https://en.wikipedia.org/wiki/Network_theory), measuring [centrality](https://en.wikipedia.org/wiki/Centrality) of points in a network)  "
   ]
  },
  {
   "cell_type": "code",
   "execution_count": 1,
   "id": "domestic-diameter",
   "metadata": {},
   "outputs": [],
   "source": [
    "import requests\n",
    "from bs4 import BeautifulSoup\n",
    "import time\n",
    "import pandas as pd\n",
    "import os\n",
    "import re"
   ]
  },
  {
   "cell_type": "markdown",
   "id": "peaceful-suspension",
   "metadata": {},
   "source": [
    "## Building the webscraper\n",
    "learn regex [here](https://regexone.com/lesson/kleene_operators?)"
   ]
  },
  {
   "cell_type": "code",
   "execution_count": 37,
   "id": "coordinate-issue",
   "metadata": {},
   "outputs": [
    {
     "data": {
      "text/plain": [
       "['https://en.wikipedia.org/wiki/Natural_science',\n",
       " 'https://en.wikipedia.org/wiki/Astronomical_object',\n",
       " 'https://en.wikipedia.org/wiki/Celestial_event',\n",
       " 'https://en.wikipedia.org/wiki/Mathematics',\n",
       " 'https://en.wikipedia.org/wiki/Physics',\n",
       " 'https://en.wikipedia.org/wiki/Chemistry',\n",
       " 'https://en.wikipedia.org/wiki/Chronology_of_the_Universe',\n",
       " 'https://en.wikipedia.org/wiki/Planets',\n",
       " 'https://en.wikipedia.org/wiki/Natural_satellite',\n",
       " 'https://en.wikipedia.org/wiki/Star']"
      ]
     },
     "execution_count": 37,
     "metadata": {},
     "output_type": "execute_result"
    }
   ],
   "source": [
    "def wiki_get_urls(url): # returns list of valid urls   \n",
    "    # select all paragraphs in wiki page using its url \n",
    "    page = requests.get(url)\n",
    "    soup = BeautifulSoup(page.content, 'html.parser')\n",
    "    urls = soup.select('p') # select all a tags that are inside of p tags (css selector)\n",
    "    \n",
    "    # combine first 50 paragraphs and convert into string\n",
    "    urlStr = urls[:50] \n",
    "    urlStr = [str(url) for url in urlStr]\n",
    "    urlStr = ' '.join(urlStr)\n",
    "    \n",
    "    # remove text in parentheses or italics from string using regex\n",
    "    urlStr = re.sub(r\"\\([^\\(\\)]+?\\([^\\(\\)]+?\\)[^\\(\\)]+?\\)\", \"\", urlStr) # remove text in double parentheses (xx(xx)xx)\n",
    "    # TODO: write one regex for parenthesis with multiple sub-parentheses (..(..)..(..)..(..)..)\n",
    "    urlStr = re.sub(r\"\\([^\\(\\)]+?\\([^\\(\\)]+?\\)[^\\(\\)]+?\\([^\\(\\)]+?\\)[^\\(\\)]+?\\)\", \"\", urlStr)\n",
    "    urlStr = re.sub(r\"\\([^\\(\\)]+?\\([^\\(\\)]+?\\)[^\\(\\)]+?\\([^\\(\\)]+?\\)[^\\(\\)]+?\\([^\\(\\)]+?\\)[^\\(\\)]+?\\)\", \"\", urlStr)\n",
    "    urlStr = re.sub(r\"\\([^\\(\\)]+?\\([^\\(\\)]+?\\)[^\\(\\)]+?\\([^\\(\\)]+?\\)[^\\(\\)]+?\\([^\\(\\)]+?\\)[^\\(\\)]+?\\([^\\(\\)]+?\\)[^\\(\\)]+?\\)\", \"\", urlStr)\n",
    "    urlStr = re.sub(r\"\\([^\\(\\)]*?[^a-z]+[^\\(\\)]*?\\)\", \"\", urlStr) # remove text in parentheses \n",
    "                                                            # (unless it's another wiki page, e.g. /wiki/Justification_(epistemology))\n",
    "    urlStr = re.sub('<i>.*?<\\/i>', '', urlStr) # remove text in italics \n",
    "    \n",
    "    # convert back into soup and find all urls  \n",
    "    soup = BeautifulSoup(urlStr, 'html.parser')\n",
    "    urls = soup.find_all('a')[:10] # get first 10 urls \n",
    "    urls = [url['href'] for url in urls]\n",
    "    \n",
    "    # remove urls that are not other wikipedia pages \n",
    "    toRemove = []\n",
    "    for url in urls: \n",
    "        if not url.startswith('/wiki/'): \n",
    "            toRemove.append(url)\n",
    "        elif url.startswith(('/wiki/Help:', '/wiki/File:', '/wiki/Outline_(list)')): \n",
    "            toRemove.append(url)\n",
    "    for i in toRemove: \n",
    "        urls.remove(i)\n",
    "    urls = ['https://en.wikipedia.org' + url for url in urls]\n",
    "    return urls \n",
    "\n",
    "# test the wiki_get_urls function \n",
    "urls = wiki_get_urls('https://en.wikipedia.org/wiki/Astronomy') \n",
    "urls \n",
    "# goal: should work for both epistemology and science: \n",
    "# for science, first link should be scientific method \n",
    "# for epistomology, first link should be outline of philosophy "
   ]
  },
  {
   "cell_type": "code",
   "execution_count": 13,
   "id": "technological-fence",
   "metadata": {},
   "outputs": [
    {
     "data": {
      "text/plain": [
       "'https://en.wikipedia.org/wiki/Scientific_method'"
      ]
     },
     "execution_count": 13,
     "metadata": {},
     "output_type": "execute_result"
    }
   ],
   "source": [
    "# inputs list of valid urls, and returns first link that doesn't loop back on itself \n",
    "# (e.g. language --> spoken language --> language)\n",
    "def next_url(url): \n",
    "    test_urls = wiki_get_urls(url) # get list of urls from language \n",
    "    for test_url in test_urls: \n",
    "        urls_1 = wiki_get_urls(test_url) # find list of valid urls spoken langugage  \n",
    "        if urls_1[0] == url: # if the first item spoken language is 'language', try the next url in 'language' \n",
    "            continue \n",
    "        else: # otherwise, pick this url as the next url\n",
    "            return test_url \n",
    "            break \n",
    "\n",
    "# test \n",
    "url = 'https://en.wikipedia.org/wiki/Science'\n",
    "next_url(url)"
   ]
  },
  {
   "cell_type": "code",
   "execution_count": 38,
   "id": "adverse-greenhouse",
   "metadata": {},
   "outputs": [
    {
     "name": "stdout",
     "output_type": "stream",
     "text": [
      "getting to philosophy from: https://en.wikipedia.org/wiki/Physics\n",
      "https://en.wikipedia.org/wiki/Natural_science\n",
      "https://en.wikipedia.org/wiki/Branches_of_science\n",
      "https://en.wikipedia.org/wiki/Science\n",
      "https://en.wikipedia.org/wiki/Scientific_method\n",
      "https://en.wikipedia.org/wiki/Empirical_evidence\n",
      "https://en.wikipedia.org/wiki/Information\n",
      "https://en.wikipedia.org/wiki/Uncertainty\n",
      "https://en.wikipedia.org/wiki/Epistemology\n",
      "https://en.wikipedia.org/wiki/Outline_of_philosophy\n",
      "https://en.wikipedia.org/wiki/Philosophy\n",
      "reached philosophy!\n"
     ]
    }
   ],
   "source": [
    "def get_to_philosophy(url): \n",
    "    print('getting to philosophy from: ' + url)\n",
    "    chain = [url]\n",
    "    while url != 'https://en.wikipedia.org/wiki/Philosophy': \n",
    "        url = next_url(url)\n",
    "        if url in chain: \n",
    "            print('url loop has occured. Repeated url:\\n{}'.format(url))\n",
    "            chain.append(url)\n",
    "            break\n",
    "        elif url == 'https://en.wikipedia.org/wiki/Philosophy': \n",
    "            chain.append(url)\n",
    "            print(url)\n",
    "            print('reached philosophy!')\n",
    "        elif url not in chain: \n",
    "            print(url)\n",
    "            chain.append(url)\n",
    "            continue\n",
    "    return chain\n",
    "\n",
    "url = 'https://en.wikipedia.org/wiki/Physics'\n",
    "chain = get_to_philosophy(url)"
   ]
  },
  {
   "cell_type": "markdown",
   "id": "printable-testing",
   "metadata": {},
   "source": [
    "## Testing the web scraper"
   ]
  },
  {
   "cell_type": "markdown",
   "id": "upper-helicopter",
   "metadata": {},
   "source": [
    "## Running the web scraper on a bunch of wikipedia pages"
   ]
  },
  {
   "cell_type": "code",
   "execution_count": 39,
   "id": "proof-brush",
   "metadata": {},
   "outputs": [
    {
     "data": {
      "text/html": [
       "<div>\n",
       "<style scoped>\n",
       "    .dataframe tbody tr th:only-of-type {\n",
       "        vertical-align: middle;\n",
       "    }\n",
       "\n",
       "    .dataframe tbody tr th {\n",
       "        vertical-align: top;\n",
       "    }\n",
       "\n",
       "    .dataframe thead th {\n",
       "        text-align: right;\n",
       "    }\n",
       "</style>\n",
       "<table border=\"1\" class=\"dataframe\">\n",
       "  <thead>\n",
       "    <tr style=\"text-align: right;\">\n",
       "      <th></th>\n",
       "      <th>date</th>\n",
       "      <th>link</th>\n",
       "    </tr>\n",
       "  </thead>\n",
       "  <tbody>\n",
       "    <tr>\n",
       "      <th>0</th>\n",
       "      <td>2010-12-16</td>\n",
       "      <td>https://en.wikipedia.org/wiki/Dwarf_planet</td>\n",
       "    </tr>\n",
       "    <tr>\n",
       "      <th>1</th>\n",
       "      <td>2011-01-01</td>\n",
       "      <td>https://en.wikipedia.org/wiki/History_of_the_A...</td>\n",
       "    </tr>\n",
       "    <tr>\n",
       "      <th>2</th>\n",
       "      <td>2011-01-02</td>\n",
       "      <td>https://en.wikipedia.org/wiki/Bob_Marshall_(wi...</td>\n",
       "    </tr>\n",
       "  </tbody>\n",
       "</table>\n",
       "</div>"
      ],
      "text/plain": [
       "         date                                               link\n",
       "0  2010-12-16         https://en.wikipedia.org/wiki/Dwarf_planet\n",
       "1  2011-01-01  https://en.wikipedia.org/wiki/History_of_the_A...\n",
       "2  2011-01-02  https://en.wikipedia.org/wiki/Bob_Marshall_(wi..."
      ]
     },
     "execution_count": 39,
     "metadata": {},
     "output_type": "execute_result"
    }
   ],
   "source": [
    "df = pd.read_csv('WikiMainPage.csv')\n",
    "df = df[['Date', 'TFALink']]\n",
    "df.rename(columns = {'TFALink': 'link', 'Date': 'date'}, inplace=True)\n",
    "df.link = 'https://en.wikipedia.org' + df.link\n",
    "df = df.head(3)\n",
    "df"
   ]
  },
  {
   "cell_type": "code",
   "execution_count": 40,
   "id": "pregnant-geography",
   "metadata": {},
   "outputs": [
    {
     "name": "stdout",
     "output_type": "stream",
     "text": [
      "getting to philosophy from: https://en.wikipedia.org/wiki/Dwarf_planet\n",
      "https://en.wikipedia.org/wiki/Planetary-mass_object\n",
      "https://en.wikipedia.org/wiki/Astronomical_body\n",
      "https://en.wikipedia.org/wiki/Astronomy\n",
      "https://en.wikipedia.org/wiki/Natural_science\n",
      "https://en.wikipedia.org/wiki/Branches_of_science\n",
      "https://en.wikipedia.org/wiki/Science\n",
      "https://en.wikipedia.org/wiki/Scientific_method\n",
      "https://en.wikipedia.org/wiki/Empirical_evidence\n",
      "https://en.wikipedia.org/wiki/Information\n",
      "https://en.wikipedia.org/wiki/Uncertainty\n",
      "https://en.wikipedia.org/wiki/Epistemology\n",
      "https://en.wikipedia.org/wiki/Outline_of_philosophy\n",
      "https://en.wikipedia.org/wiki/Philosophy\n",
      "reached philosophy!\n",
      "getting to philosophy from: https://en.wikipedia.org/wiki/History_of_the_Australian_Capital_Territory\n",
      "https://en.wikipedia.org/wiki/Australian_Capital_Territory\n",
      "https://en.wikipedia.org/wiki/Federal_territory\n",
      "https://en.wikipedia.org/wiki/Federation\n",
      "https://en.wikipedia.org/wiki/Political_entity\n",
      "https://en.wikipedia.org/wiki/Collective_identity\n",
      "https://en.wikipedia.org/wiki/Belongingness\n",
      "https://en.wikipedia.org/wiki/Emotional\n",
      "https://en.wikipedia.org/wiki/Biological\n",
      "https://en.wikipedia.org/wiki/Natural_science\n",
      "https://en.wikipedia.org/wiki/Branches_of_science\n",
      "https://en.wikipedia.org/wiki/Science\n",
      "https://en.wikipedia.org/wiki/Scientific_method\n",
      "https://en.wikipedia.org/wiki/Empirical_evidence\n",
      "https://en.wikipedia.org/wiki/Information\n",
      "https://en.wikipedia.org/wiki/Uncertainty\n",
      "https://en.wikipedia.org/wiki/Epistemology\n",
      "https://en.wikipedia.org/wiki/Outline_of_philosophy\n",
      "https://en.wikipedia.org/wiki/Philosophy\n",
      "reached philosophy!\n",
      "getting to philosophy from: https://en.wikipedia.org/wiki/Bob_Marshall_(wilderness_activist)\n",
      "https://en.wikipedia.org/wiki/Forester\n",
      "https://en.wikipedia.org/wiki/Forestry\n",
      "https://en.wikipedia.org/wiki/Forest\n",
      "https://en.wikipedia.org/wiki/Tree\n",
      "https://en.wikipedia.org/wiki/Botany\n",
      "https://en.wikipedia.org/wiki/Science\n",
      "https://en.wikipedia.org/wiki/Scientific_method\n",
      "https://en.wikipedia.org/wiki/Empirical_evidence\n",
      "https://en.wikipedia.org/wiki/Information\n",
      "https://en.wikipedia.org/wiki/Uncertainty\n",
      "https://en.wikipedia.org/wiki/Epistemology\n",
      "https://en.wikipedia.org/wiki/Outline_of_philosophy\n",
      "https://en.wikipedia.org/wiki/Philosophy\n",
      "reached philosophy!\n",
      "Wall time: 54.1 s\n"
     ]
    },
    {
     "data": {
      "text/html": [
       "<div>\n",
       "<style scoped>\n",
       "    .dataframe tbody tr th:only-of-type {\n",
       "        vertical-align: middle;\n",
       "    }\n",
       "\n",
       "    .dataframe tbody tr th {\n",
       "        vertical-align: top;\n",
       "    }\n",
       "\n",
       "    .dataframe thead th {\n",
       "        text-align: right;\n",
       "    }\n",
       "</style>\n",
       "<table border=\"1\" class=\"dataframe\">\n",
       "  <thead>\n",
       "    <tr style=\"text-align: right;\">\n",
       "      <th></th>\n",
       "      <th>date</th>\n",
       "      <th>link</th>\n",
       "      <th>chain</th>\n",
       "      <th>philosophy</th>\n",
       "    </tr>\n",
       "  </thead>\n",
       "  <tbody>\n",
       "    <tr>\n",
       "      <th>0</th>\n",
       "      <td>2010-12-16</td>\n",
       "      <td>https://en.wikipedia.org/wiki/Dwarf_planet</td>\n",
       "      <td>[https://en.wikipedia.org/wiki/Dwarf_planet, h...</td>\n",
       "      <td>True</td>\n",
       "    </tr>\n",
       "    <tr>\n",
       "      <th>1</th>\n",
       "      <td>2011-01-01</td>\n",
       "      <td>https://en.wikipedia.org/wiki/History_of_the_A...</td>\n",
       "      <td>[https://en.wikipedia.org/wiki/History_of_the_...</td>\n",
       "      <td>True</td>\n",
       "    </tr>\n",
       "    <tr>\n",
       "      <th>2</th>\n",
       "      <td>2011-01-02</td>\n",
       "      <td>https://en.wikipedia.org/wiki/Bob_Marshall_(wi...</td>\n",
       "      <td>[https://en.wikipedia.org/wiki/Bob_Marshall_(w...</td>\n",
       "      <td>True</td>\n",
       "    </tr>\n",
       "  </tbody>\n",
       "</table>\n",
       "</div>"
      ],
      "text/plain": [
       "         date                                               link  \\\n",
       "0  2010-12-16         https://en.wikipedia.org/wiki/Dwarf_planet   \n",
       "1  2011-01-01  https://en.wikipedia.org/wiki/History_of_the_A...   \n",
       "2  2011-01-02  https://en.wikipedia.org/wiki/Bob_Marshall_(wi...   \n",
       "\n",
       "                                               chain  philosophy  \n",
       "0  [https://en.wikipedia.org/wiki/Dwarf_planet, h...        True  \n",
       "1  [https://en.wikipedia.org/wiki/History_of_the_...        True  \n",
       "2  [https://en.wikipedia.org/wiki/Bob_Marshall_(w...        True  "
      ]
     },
     "execution_count": 40,
     "metadata": {},
     "output_type": "execute_result"
    }
   ],
   "source": [
    "%%time\n",
    "df['chain'] = df.link.map(lambda x: get_to_philosophy(x))\n",
    "def philosophy(x): \n",
    "    if x[-1] == 'https://en.wikipedia.org/wiki/Philosophy': \n",
    "        return True\n",
    "    else: \n",
    "        return False\n",
    "df['philosophy'] = df.chain.map(lambda x: philosophy(x))\n",
    "df"
   ]
  },
  {
   "cell_type": "code",
   "execution_count": 46,
   "id": "nasty-decade",
   "metadata": {},
   "outputs": [
    {
     "name": "stdout",
     "output_type": "stream",
     "text": [
      "time required to compute 500 pages: 2.5 hours\n"
     ]
    }
   ],
   "source": [
    "r = 500 # number of rows to compute\n",
    "t = 54.1/3 # seconds required to compute one row \n",
    "print('time required to compute {} pages: {} hours'.format(r, round(t*r/60/60, 2)))"
   ]
  },
  {
   "cell_type": "code",
   "execution_count": null,
   "id": "strange-louis",
   "metadata": {},
   "outputs": [],
   "source": []
  }
 ],
 "metadata": {
  "kernelspec": {
   "display_name": "Python [conda env:root] *",
   "language": "python",
   "name": "conda-root-py"
  },
  "language_info": {
   "codemirror_mode": {
    "name": "ipython",
    "version": 3
   },
   "file_extension": ".py",
   "mimetype": "text/x-python",
   "name": "python",
   "nbconvert_exporter": "python",
   "pygments_lexer": "ipython3",
   "version": "3.8.5"
  }
 },
 "nbformat": 4,
 "nbformat_minor": 5
}
