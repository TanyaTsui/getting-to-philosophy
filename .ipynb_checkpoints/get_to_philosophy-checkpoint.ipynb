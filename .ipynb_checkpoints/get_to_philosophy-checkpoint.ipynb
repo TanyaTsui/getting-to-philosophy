{
 "cells": [
  {
   "cell_type": "markdown",
   "id": "olympic-given",
   "metadata": {},
   "source": [
    "# Getting to philosophy \n",
    "In the summer of 2008, wikipedia user Mark J discovered a strange phenomenon on wikipedia: if you click on the first link on a wikipedia page, then repeat the process, you usually end up on the page for philosophy. He wrote a [wikipedia page](https://en.wikipedia.org/wiki/Wikipedia:Getting_to_Philosophy) about this, which led to mentions on a [podcast](https://en.wikipedia.org/wiki/Wikipedia:WikipediaWeekly/Episode50) and [documentary](https://www.bbc.co.uk/programmes/b07lk6tj), as well as a [scientific paper](https://www.daniellamprecht.com/wp-content/uploads/2016/08/Evaluating-and-Improving-Navigability-of-Wikipedia-a-Comparative-Study-of-eight-Language-Editions.pdf) published in 2016, which found that 97% of articles led to philosophy.\n",
    "\n",
    "In this notebook, I'd like to find out if this phenomenon still exists on wikipedia today, in 2021. In order to do this, I will build a web scraper that goes through the process of clicking first links. Then, I will use this web scraper on a bunch (~3000?) of wikipedia pages, and keep a record of whether these pages get to philosophy, as well as all the links the web scraper had to click through to get there. \n",
    "\n",
    "I will then analyze the resulting dataset, and try to answer the following questions: \n",
    "* What is the percentage of pages that lead to philosophy? \n",
    "* What are some other popular pages that many pages eventually lead to? \n",
    "* What is the most beautiful way of visualizing this data? (I will use this beautiful [Game of Thrones character network visualization](https://www.linkedin.com/pulse/game-thrones-social-network-analysis-conor-aspell/) as inspiration)\n",
    "* Which pages are highly connected to other pages, and which are not? (this is a chance to learn about and apply [network theory](https://en.wikipedia.org/wiki/Network_theory), measuring [centrality](https://en.wikipedia.org/wiki/Centrality) of points in a network)  "
   ]
  },
  {
   "cell_type": "code",
   "execution_count": 4,
   "id": "sought-employee",
   "metadata": {},
   "outputs": [],
   "source": [
    "import requests\n",
    "from bs4 import BeautifulSoup\n",
    "import time\n",
    "import pandas as pd\n",
    "import os\n",
    "import re"
   ]
  },
  {
   "cell_type": "markdown",
   "id": "english-silly",
   "metadata": {},
   "source": [
    "## Building the webscraper\n",
    "learn regex [here](https://regexone.com/lesson/kleene_operators?)"
   ]
  },
  {
   "cell_type": "code",
   "execution_count": 12,
   "id": "colored-israeli",
   "metadata": {},
   "outputs": [
    {
     "data": {
      "text/plain": [
       "['https://en.wikipedia.org/wiki/Reason',\n",
       " 'https://en.wikipedia.org/wiki/Belief',\n",
       " 'https://en.wikipedia.org/wiki/Ethics',\n",
       " 'https://en.wikipedia.org/wiki/Logic',\n",
       " 'https://en.wikipedia.org/wiki/Metaphysics']"
      ]
     },
     "execution_count": 12,
     "metadata": {},
     "output_type": "execute_result"
    }
   ],
   "source": [
    "def wiki_get_urls(url): # returns list of valid urls   \n",
    "    # select first three paragraphs in page\n",
    "    page = requests.get(url)\n",
    "    soup = BeautifulSoup(page.content, 'html.parser')\n",
    "    urls = soup.select('p') # select all a tags that are inside of p tags (css selector)\n",
    "    \n",
    "    # combine and convert into one string\n",
    "    urlStr = urls[:50]\n",
    "    urlStr = [str(url) for url in urlStr]\n",
    "    urlStr = ' '.join(urlStr)\n",
    "    \n",
    "    # remove text in parentheses or italics from string using regex\n",
    "    urlStr = re.sub(r\"\\([^\\(\\)]\\([^\\(\\)]\\)[^\\(\\)]\\)\", \"\", urlStr) # remove text in double parentheses (bla bla (blabla) blabla)\n",
    "    urlStr = re.sub(r\"\\(\\)\", \"\", urlStr) # remove text in parentheses \n",
    "    urlStr = re.sub('<i>(.*?)</i>', '', urlStr) # remove text in italics \n",
    "    \n",
    "    # convert back into soup and find all urls  \n",
    "    soup = BeautifulSoup(urlStr, 'html.parser')\n",
    "    urls = soup.find_all('a')[:10]\n",
    "    urls = [url['href'] for url in urls]\n",
    "    \n",
    "    # remove urls that are not other wikipedia pages \n",
    "    toRemove = []\n",
    "    for url in urls: \n",
    "        if not url.startswith('/wiki/'): \n",
    "            toRemove.append(url)\n",
    "        elif url.startswith(('/wiki/Help:', '/wiki/File:', '/wiki/Outline_(list)')): \n",
    "            toRemove.append(url)\n",
    "    for i in toRemove: \n",
    "        urls.remove(i)\n",
    "    urls = ['https://en.wikipedia.org' + url for url in urls]\n",
    "    return urls \n",
    "\n",
    "urls = wiki_get_urls('https://en.wikipedia.org/wiki/Epistemology') \n",
    "urls # first should be https://en.wikipedia.org/wiki/Outline_of_philosophy\n",
    "# goal: should work for both epistemology and science: \n",
    "# for science, first link should be scientific method \n",
    "# for epistomology, first link should be outline of philosophy "
   ]
  },
  {
   "cell_type": "code",
   "execution_count": 8,
   "id": "cooked-finder",
   "metadata": {},
   "outputs": [
    {
     "data": {
      "text/plain": [
       "'<p class=\"mw-empty-elt\">\\n</p> <p><b>Core concepts</b>\\n</p> <p><b>Distinctions</b>\\n</p> <p><b>Schools of thought</b>\\n</p> <p><b>Topics and views</b>\\n</p> <p><b>Specialized domains of inquiry</b>\\n</p> <p><b>Notable epistemologists</b>\\n</p> <p><b>Related fields</b>\\n</p> <p><b>Traditions by region</b>\\n</p> <p><b>Epistemology</b> (<span class=\"rt-commentedText nowrap\"><span class=\"IPA nopopups noexcerpt\"><a href=\"/wiki/Help:IPA/English\" title=\"Help:IPA/English\">/<span style=\"border-bottom:1px dotted\"><span title=\"/ɪ/: \\'i\\' in \\'kit\\'\">ɪ</span><span title=\"/ˌ/: secondary stress follows\">ˌ</span><span title=\"\\'p\\' in \\'pie\\'\">p</span><span title=\"/ɪ/: \\'i\\' in \\'kit\\'\">ɪ</span><span title=\"\\'s\\' in \\'sigh\\'\">s</span><span title=\"\\'t\\' in \\'tie\\'\">t</span><span title=\"/ɪ/: \\'i\\' in \\'kit\\'\">ɪ</span><span title=\"/ˈ/: primary stress follows\">ˈ</span><span title=\"\\'m\\' in \\'my\\'\">m</span><span title=\"/ɒ/: \\'o\\' in \\'body\\'\">ɒ</span><span title=\"\\'l\\' in \\'lie\\'\">l</span><span title=\"/ə/: \\'a\\' in \\'about\\'\">ə</span><span title=\"/dʒ/: \\'j\\' in \\'jam\\'\">dʒ</span><span title=\"/i/: \\'y\\' in \\'happy\\'\">i</span></span>/</a></span> <span class=\"nowrap\" style=\"font-size:85%\">(<span class=\"unicode haudio\"><span class=\"fn\"><span style=\"white-space:nowrap;margin-right:.25em;\"><a href=\"/wiki/File:En-uk-epistemology.ogg\" title=\"About this sound\"><img alt=\"About this sound\" data-file-height=\"20\" data-file-width=\"20\" decoding=\"async\" height=\"11\" src=\"//upload.wikimedia.org/wikipedia/commons/thumb/8/8a/Loudspeaker.svg/11px-Loudspeaker.svg.png\" srcset=\"//upload.wikimedia.org/wikipedia/commons/thumb/8/8a/Loudspeaker.svg/17px-Loudspeaker.svg.png 1.5x, //upload.wikimedia.org/wikipedia/commons/thumb/8/8a/Loudspeaker.svg/22px-Loudspeaker.svg.png 2x\" width=\"11\"/></a></span><a class=\"internal\" href=\"//upload.wikimedia.org/wikipedia/commons/6/63/En-uk-epistemology.ogg\" title=\"En-uk-epistemology.ogg\">listen</a></span></span>)</span></span>; from <a href=\"/wiki/Greek_language\" title=\"Greek language\">Greek</a> <i> </i><a class=\"extiw\" href=\"https://en.wiktionary.org/wiki/%E1%BC%90%CF%80%CE%B9%CF%83%CF%84%CE%AE%CE%BC%CE%B7\" title=\"wikt:ἐπιστήμη\">ἐπιστήμη</a><i>, epistēmē</i>\\xa0\\'knowledge\\', and <i> <a href=\"/wiki/-logy\" title=\"-logy\">-logy</a></i>) is the <a href=\"/wiki/Outline_of_philosophy\" title=\"Outline of philosophy\">branch</a> of <a href=\"/wiki/Philosophy\" title=\"Philosophy\">philosophy</a> concerned with <a href=\"/wiki/Knowledge\" title=\"Knowledge\">knowledge</a>. Epistemologists study the nature, origin, and scope of knowledge, epistemic <a href=\"/wiki/Justification_(epistemology)\" title=\"Justification (epistemology)\">justification</a>, the <a href=\"/wiki/Reason\" title=\"Reason\">rationality</a> of <a href=\"/wiki/Belief\" title=\"Belief\">belief</a>, and various related issues. Epistemology is considered one of the four main branches of philosophy, along with <a href=\"/wiki/Ethics\" title=\"Ethics\">ethics</a>, <a href=\"/wiki/Logic\" title=\"Logic\">logic</a>, and <a href=\"/wiki/Metaphysics\" title=\"Metaphysics\">metaphysics</a>.<sup class=\"reference\" id=\"cite_ref-Britannica_1-0\"><a href=\"#cite_note-Britannica-1\">[1]</a></sup>\\n</p> <p>Debates in epistemology are generally clustered around four core areas:<sup class=\"reference\" id=\"cite_ref-SEP_Epistemology_2014_2-0\"><a href=\"#cite_note-SEP_Epistemology_2014-2\">[2]</a></sup><sup class=\"reference\" id=\"cite_ref-IEP_3-0\"><a href=\"#cite_note-IEP-3\">[3]</a></sup><sup class=\"reference\" id=\"cite_ref-4\"><a href=\"#cite_note-4\">[4]</a></sup>\\n</p> <p>In these debates and others, epistemology aims to answer questions such as \"What do we know?\", \"What does it mean to say that we know something?\", \"What makes justified beliefs justified?\", and \"How do we know that we know?\".<sup class=\"reference\" id=\"cite_ref-Britannica_1-1\"><a href=\"#cite_note-Britannica-1\">[1]</a></sup><sup class=\"reference\" id=\"cite_ref-SEP_Epistemology_2014_2-1\"><a href=\"#cite_note-SEP_Epistemology_2014-2\">[2]</a></sup><sup class=\"reference\" id=\"cite_ref-5\"><a href=\"#cite_note-5\">[5]</a></sup><sup class=\"reference\" id=\"cite_ref-SEP_Epistemology_Current_6-0\"><a href=\"#cite_note-SEP_Epistemology_Current-6\">[6]</a></sup><sup class=\"reference\" id=\"cite_ref-7\"><a href=\"#cite_note-7\">[7]</a></sup>\\n</p> <p>The word <i>epistemology</i> is derived from the ancient Greek <a href=\"/wiki/Episteme\" title=\"Episteme\"><i>epistēmē</i></a>, meaning \"knowledge\", and the suffix <i>-logia</i>, meaning \"logical <a href=\"/wiki/Discourse\" title=\"Discourse\">discourse</a>\" (derived from the Greek word <i>logos</i> meaning \"discourse\").<sup class=\"reference\" id=\"cite_ref-8\"><a href=\"#cite_note-8\">[8]</a></sup> The word\\'s appearance in English was predated by the German term <i>Wissenschaftslehre</i> (literally, theory of science), which was introduced by philosophers <a class=\"mw-redirect\" href=\"/wiki/Johann_Fichte\" title=\"Johann Fichte\">Johann Fichte</a> and <a href=\"/wiki/Bernard_Bolzano\" title=\"Bernard Bolzano\">Bernard Bolzano</a> in the late 18th century. The word \"epistemology\" first appeared in 1847, in a review in New York\\'s <i>Eclectic Magazine</i>. It was first used as a translation of the word <i>Wissenschaftslehre</i> as it appears in a philosophical novel by German author <a href=\"/wiki/Jean_Paul\" title=\"Jean Paul\">Jean Paul</a>:\\n</p> <p>The title of one of the principal works of Fichte is \\'Wissenschaftslehre,\\' which, after the analogy of <i>technology</i> ... we render <i>epistemology</i>.<sup class=\"reference\" id=\"cite_ref-9\"><a href=\"#cite_note-9\">[9]</a></sup></p> <p>The word \"epistemology\" was properly introduced into Anglophone philosophical literature by Scottish philosopher <a href=\"/wiki/James_Frederick_Ferrier\" title=\"James Frederick Ferrier\">James Frederick Ferrier</a> in 1854, who used it in his <i>Institutes of Metaphysics</i>:\\n</p> <p>This section of the science is properly termed the Epistemology—the doctrine or theory of knowing, just as ontology is the science of being... It answers the general question, \\'What is knowing and the known?\\'—or more shortly, \\'What is knowledge?\\'<sup class=\"reference\" id=\"cite_ref-10\"><a href=\"#cite_note-10\">[10]</a></sup></p> <p>It is important to note that the French term <i>épistémologie</i> is used with a different and far narrower meaning than the English term \"epistemology\", being used by French philosophers to refer solely to <a href=\"/wiki/Philosophy_of_science\" title=\"Philosophy of science\">philosophy of science</a>. For instance, <a href=\"/wiki/%C3%89mile_Meyerson\" title=\"Émile Meyerson\">Émile Meyerson</a> opened his <i>Identity and Reality</i>, written in 1908, with the remark that the word \\'is becoming current\\' as equivalent to \\'the philosophy of the sciences.\\'<sup class=\"reference\" id=\"cite_ref-11\"><a href=\"#cite_note-11\">[11]</a></sup>\\n</p> <p>The concept of \"epistemology\" as a distinct field of inquiry predates the introduction of the term into the lexicon of philosophy. <a href=\"/wiki/John_Locke\" title=\"John Locke\">John Locke</a>, for instance, described his efforts in <i><a href=\"/wiki/An_Essay_Concerning_Human_Understanding\" title=\"An Essay Concerning Human Understanding\">Essay Concerning Human Understanding</a></i> (1689) as an inquiry \"into the original, certainty, and extent of human knowledge, together with the grounds and degrees of belief, opinion, and assent\".<sup class=\"reference\" id=\"cite_ref-12\"><a href=\"#cite_note-12\">[12]</a></sup> According to Brett Warren, the character <i>Epistemon</i> in <a href=\"/wiki/James_VI_and_I\" title=\"James VI and I\">King James VI of Scotland</a>\\'s <i><a href=\"/wiki/Daemonologie\" title=\"Daemonologie\">Daemonologie</a></i> (1591) \"was meant to be a personification of [what would later come to be] known as \\'epistemology\\': the investigation into the differences of a justified belief versus its opinion.\"<sup class=\"reference\" id=\"cite_ref-auto_13-0\"><a href=\"#cite_note-auto-13\">[13]</a></sup>\\n</p> <p>While it was not until the <a href=\"/wiki/Modern_philosophy\" title=\"Modern philosophy\">modern era</a> that epistemology was first recognized as a distinct philosophical discipline which addresses a well-defined set of questions, almost every major historical philosopher has considered questions about what we know and how we know it.<sup class=\"reference\" id=\"cite_ref-Britannica_1-2\"><a href=\"#cite_note-Britannica-1\">[1]</a></sup> Among the <a href=\"/wiki/Ancient_Greek_philosophy\" title=\"Ancient Greek philosophy\">Ancient Greek philosophers</a>, <a href=\"/wiki/Plato\" title=\"Plato\">Plato</a> distinguished between inquiry regarding what we know and inquiry regarding what exists, particularly in the <i><a href=\"/wiki/Republic_(Plato)\" title=\"Republic (Plato)\">Republic</a></i>, the <i><a href=\"/wiki/Theaetetus_(dialogue)\" title=\"Theaetetus (dialogue)\">Theaetetus</a></i>, and the <i><a href=\"/wiki/Meno\" title=\"Meno\">Meno</a></i>.<sup class=\"reference\" id=\"cite_ref-Britannica_1-3\"><a href=\"#cite_note-Britannica-1\">[1]</a></sup> A number of important epistemological concerns also appeared in the works of <a href=\"/wiki/Aristotle\" title=\"Aristotle\">Aristotle</a>.<sup class=\"reference\" id=\"cite_ref-Britannica_1-4\"><a href=\"#cite_note-Britannica-1\">[1]</a></sup>\\n</p> <p>During the subsequent <a href=\"/wiki/Hellenistic_philosophy\" title=\"Hellenistic philosophy\">Hellenistic period</a>, philosophical schools began to appear which had a greater focus on epistemological questions, often in the form of <a href=\"/wiki/Philosophical_skepticism\" title=\"Philosophical skepticism\">philosophical skepticism</a>.<sup class=\"reference\" id=\"cite_ref-Britannica_1-5\"><a href=\"#cite_note-Britannica-1\">[1]</a></sup> For instance, the <a href=\"/wiki/Pyrrhonism\" title=\"Pyrrhonism\">Pyrrhonian skepticism</a> of <a href=\"/wiki/Pyrrho\" title=\"Pyrrho\">Pyrrho</a> and <a href=\"/wiki/Sextus_Empiricus\" title=\"Sextus Empiricus\">Sextus Empiricus</a> held that <a href=\"/wiki/Eudaimonia\" title=\"Eudaimonia\">eudaimonia</a> (flourishing, happiness, or \"the good life\") could be attained through the application of <a href=\"/wiki/Epoch%C3%A9\" title=\"Epoché\">epoché</a> (suspension of judgment) regarding all non-evident matters. Pyrrhonism was particularly concerned with undermining the epistemological <a href=\"/wiki/Dogma\" title=\"Dogma\">dogmas</a> of <a href=\"/wiki/Stoicism\" title=\"Stoicism\">Stoicism</a> and <a href=\"/wiki/Epicureanism\" title=\"Epicureanism\">Epicureanism</a>.<sup class=\"reference\" id=\"cite_ref-Britannica_1-6\"><a href=\"#cite_note-Britannica-1\">[1]</a></sup> The other major school of Hellenistic skepticism was <a href=\"/wiki/Academic_skepticism\" title=\"Academic skepticism\">Academic skepticism</a>, most notably defended by <a href=\"/wiki/Carneades\" title=\"Carneades\">Carneades</a> and <a href=\"/wiki/Arcesilaus\" title=\"Arcesilaus\">Arcesilaus</a>, which predominated in the <a href=\"/wiki/Platonic_Academy\" title=\"Platonic Academy\">Platonic Academy</a> for almost two centuries.<sup class=\"reference\" id=\"cite_ref-Britannica_1-7\"><a href=\"#cite_note-Britannica-1\">[1]</a></sup>\\n</p> <p>In ancient India the <a href=\"/wiki/Aj%C3%B1ana\" title=\"Ajñana\">Ajñana</a> school of <a href=\"/wiki/Hindu_philosophy\" title=\"Hindu philosophy\">ancient Indian philosophy</a> promoted skepticism. Ajñana was a <a href=\"/wiki/%C5%9Arama%E1%B9%87a\" title=\"Śramaṇa\">Śramaṇa movement</a> and a major rival of <a href=\"/wiki/Pre-sectarian_Buddhism\" title=\"Pre-sectarian Buddhism\">early Buddhism</a>, <a href=\"/wiki/Jainism\" title=\"Jainism\">Jainism</a> and the <a href=\"/wiki/%C4%80j%C4%ABvika\" title=\"Ājīvika\">Ājīvika</a> school. They held that it was impossible to obtain knowledge of metaphysical nature or ascertain the truth value of philosophical propositions; and even if knowledge was possible, it was useless and disadvantageous for final salvation. They were specialized in refutation without propagating any positive doctrine of their own.\\n</p> <p>After the ancient philosophical era but before the modern philosophical era, a number of <a href=\"/wiki/Medieval_philosophy\" title=\"Medieval philosophy\">Medieval philosophers</a> also engaged with epistemological questions at length. Most notable among the Medievals for their contributions to epistemology were <a href=\"/wiki/Thomas_Aquinas\" title=\"Thomas Aquinas\">Thomas Aquinas</a>, <a class=\"mw-redirect\" href=\"/wiki/John_Duns_Scotus\" title=\"John Duns Scotus\">John Duns Scotus</a>, and <a href=\"/wiki/William_of_Ockham\" title=\"William of Ockham\">William of Ockham</a>.<sup class=\"reference\" id=\"cite_ref-Britannica_1-8\"><a href=\"#cite_note-Britannica-1\">[1]</a></sup>\\n</p> <p>In the Islamic epistemology <a href=\"/wiki/Islamic_Golden_Age\" title=\"Islamic Golden Age\">Islamic Golden Age</a> which was booming prior to the Age of Enlightenment in Europe. One of the most prominent and influential philosophers, theologians, jurists, logicians and mystics Abu Hamid <a href=\"/wiki/Al-Ghazali\" title=\"Al-Ghazali\">Al-Ghazali</a> wrote over 70 books, including his best-known work in 1107 CE, his spiritual autobiography, \"Deliverance from Error\" (Al-Munqidh min al-Dalal). In this book Al-Ghazali was seeking to know what we can be certain about: what is true knowledge and not just opinion? To accomplish this goal, he would first consider what kinds of things we can know. This involves a study of epistemology, the theory of knowledge.<sup class=\"noprint Inline-Template Template-Fact\" style=\"white-space:nowrap;\">[<i><a href=\"/wiki/Wikipedia:Citation_needed\" title=\"Wikipedia:Citation needed\"><span title=\"The paragraph is not written good English, let alone encyclopedic language. This is only a draft paragraph with no citations. (February 2021)\">citation needed</span></a></i>]</sup>\\n</p> <p>Epistemology largely came to the fore in philosophy during the <a href=\"/wiki/Modern_philosophy\" title=\"Modern philosophy\">early modern period</a>, which historians of philosophy traditionally divide up into a dispute between <a href=\"/wiki/Empiricism\" title=\"Empiricism\">empiricists</a> (including <a href=\"/wiki/John_Locke\" title=\"John Locke\">John Locke</a>, <a href=\"/wiki/David_Hume\" title=\"David Hume\">David Hume</a>, and <a href=\"/wiki/George_Berkeley\" title=\"George Berkeley\">George Berkeley</a>) and <a href=\"/wiki/Rationalism\" title=\"Rationalism\">rationalists</a> (including <a href=\"/wiki/Ren%C3%A9_Descartes\" title=\"René Descartes\">René Descartes</a>, <a href=\"/wiki/Baruch_Spinoza\" title=\"Baruch Spinoza\">Baruch Spinoza</a>, and <a class=\"mw-redirect\" href=\"/wiki/Gottfried_Leibniz\" title=\"Gottfried Leibniz\">Gottfried Leibniz</a>).<sup class=\"reference\" id=\"cite_ref-Britannica_1-9\"><a href=\"#cite_note-Britannica-1\">[1]</a></sup> The debate between them has often been framed using the question of whether knowledge comes primarily from <a href=\"/wiki/Experience\" title=\"Experience\">sensory experience</a> (empiricism), or whether a significant portion of our knowledge is derived entirely from our faculty of <a href=\"/wiki/Reason\" title=\"Reason\">reason</a> (rationalism). According to some scholars, this dispute was resolved in the late 18th century by <a href=\"/wiki/Immanuel_Kant\" title=\"Immanuel Kant\">Immanuel Kant</a>, whose <a href=\"/wiki/Transcendental_idealism\" title=\"Transcendental idealism\">transcendental idealism</a> famously made room for the view that \"though all our knowledge begins with experience, it by no means follows that all [knowledge] arises out of experience\".<sup class=\"reference\" id=\"cite_ref-14\"><a href=\"#cite_note-14\">[14]</a></sup> While the 19th century saw a decline in interest in epistemological issues, it came back to the forefront with the <a href=\"/wiki/Vienna_Circle\" title=\"Vienna Circle\">Vienna Circle</a> and the development of <a href=\"/wiki/Analytic_philosophy\" title=\"Analytic philosophy\">analytic philosophy</a>.\\n</p> <p>There are a number of different methods that scholars use when trying to understand the relationship between historical epistemology and contemporary epistemology. One of the most contentious questions is this: \"Should we assume that the problems of epistemology are perennial, and that trying to reconstruct and evaluate Plato\\'s or Hume\\'s or Kant\\'s arguments is meaningful for current debates, too?\"<sup class=\"reference\" id=\"cite_ref-Sturm_15-0\"><a href=\"#cite_note-Sturm-15\">[15]</a></sup> Similarly, there is also a question of whether contemporary philosophers should aim to <i>rationally reconstruct and evaluate</i> historical views in epistemology, or to <i>merely describe</i> them.<sup class=\"reference\" id=\"cite_ref-Sturm_15-1\"><a href=\"#cite_note-Sturm-15\">[15]</a></sup> <a href=\"/wiki/Barry_Stroud\" title=\"Barry Stroud\">Barry Stroud</a> claims that doing epistemology competently requires the historical study of past attempts to find philosophical understanding of the nature and scope of human knowledge.<sup class=\"reference\" id=\"cite_ref-History_of_Epistemology_16-0\"><a href=\"#cite_note-History_of_Epistemology-16\">[16]</a></sup> He argues that since inquiry may progress over time, we may not realize how different the questions that contemporary epistemologists ask are from questions asked at various different points in the history of philosophy.<sup class=\"reference\" id=\"cite_ref-History_of_Epistemology_16-1\"><a href=\"#cite_note-History_of_Epistemology-16\">[16]</a></sup>\\n</p> <p>Nearly all debates in epistemology are in some way related to <a href=\"/wiki/Knowledge\" title=\"Knowledge\">knowledge</a>. Most generally, \"knowledge\" is a familiarity, awareness, or understanding of someone or something, which might include facts (<a class=\"mw-redirect\" href=\"/wiki/Propositional_knowledge\" title=\"Propositional knowledge\">propositional knowledge</a>), skills (<a href=\"/wiki/Procedural_knowledge\" title=\"Procedural knowledge\">procedural knowledge</a>), or objects (<a href=\"/wiki/Knowledge_by_acquaintance\" title=\"Knowledge by acquaintance\">acquaintance knowledge</a>). Philosophers tend to draw an important distinction between three different senses of \"knowing\" something: \"<a class=\"mw-redirect\" href=\"/wiki/Propositional_knowledge\" title=\"Propositional knowledge\">knowing that</a>\" (knowing the truth of propositions), \"<a href=\"/wiki/Procedural_knowledge\" title=\"Procedural knowledge\">knowing how</a>\" (understanding how to perform certain actions), and \"<a href=\"/wiki/Knowledge_by_acquaintance\" title=\"Knowledge by acquaintance\">knowing by acquaintance</a>\" (directly perceiving an object, being familiar with it, or otherwise coming into contact with it).<sup class=\"reference\" id=\"cite_ref-17\"><a href=\"#cite_note-17\">[17]</a></sup> Epistemology is primarily concerned with the first of these forms of knowledge, propositional knowledge. All three senses of \"knowing\" can be seen in our ordinary use of the word. In mathematics, you can know <em>that</em> 2 + 2 = 4, but there is also knowing <em>how</em> to add two numbers, and knowing a <em>person</em> (e.g., knowing other persons,<sup class=\"reference\" id=\"cite_ref-18\"><a href=\"#cite_note-18\">[18]</a></sup> or knowing oneself), <em>place</em> (e.g., one\\'s hometown), <em>thing</em> (e.g., cars), or <em>activity</em> (e.g., addition). While these distinctions are not explicit in English, they are explicitly made in other languages, including French, Portuguese, Spanish, Romanian, German and Dutch (although some languages related to English have been said to retain these verbs, such as <a href=\"/wiki/Scots_language\" title=\"Scots language\">Scots</a>).<sup class=\"reference\" id=\"cite_ref-20\"><a href=\"#cite_note-20\">[note 1]</a></sup> The theoretical interpretation and significance of these linguistic issues remains controversial.\\n</p> <p>In his paper <i>On Denoting</i> and his later book <i>Problems of Philosophy</i>, <a href=\"/wiki/Bertrand_Russell\" title=\"Bertrand Russell\">Bertrand Russell</a> brought a great deal of attention to the distinction between \"<a href=\"/wiki/Descriptive_knowledge\" title=\"Descriptive knowledge\">knowledge by description</a>\" and \"<a href=\"/wiki/Knowledge_by_acquaintance#Bertrand_Russell\" title=\"Knowledge by acquaintance\">knowledge by acquaintance</a>\". <a href=\"/wiki/Gilbert_Ryle\" title=\"Gilbert Ryle\">Gilbert Ryle</a> is similarly credited with bringing more attention to the distinction between knowing how and knowing that in <i><a href=\"/wiki/The_Concept_of_Mind\" title=\"The Concept of Mind\">The Concept of Mind</a></i>. In <i>Personal Knowledge</i>, <a href=\"/wiki/Michael_Polanyi\" title=\"Michael Polanyi\">Michael Polanyi</a> argues for the epistemological relevance of knowledge how and knowledge that; using the example of the act of balance involved in riding a bicycle, he suggests that the theoretical knowledge of the physics involved in maintaining a state of balance cannot substitute for the practical knowledge of how to ride, and that it is important to understand how both are established and grounded. This position is essentially Ryle\\'s, who argued that a failure to acknowledge the distinction between \"knowledge that\" and \"knowledge how\" leads to <a href=\"/wiki/Infinite_regress\" title=\"Infinite regress\">infinite regress</a>.\\n</p> <p>One of the most important distinctions in epistemology is between what can be known <i>a priori</i> (independently of experience) and what can be known <i>a posteriori</i> (through experience). The terms may be roughly defined as follows:<sup class=\"reference\" id=\"cite_ref-SEP_A_Priori_21-0\"><a href=\"#cite_note-SEP_A_Priori-21\">[20]</a></sup>\\n</p> <p>Views that emphasize the importance of <i>a priori</i> knowledge are generally classified as <a class=\"mw-redirect\" href=\"/wiki/Rationalist\" title=\"Rationalist\">rationalist</a>. Views that emphasize the importance of <i>a posteriori</i> knowledge are generally classified as <a class=\"mw-redirect\" href=\"/wiki/Empiricist\" title=\"Empiricist\">empiricist</a>.\\n</p> <p>One of the core concepts in epistemology is <i>belief</i>. A belief is an attitude that a person holds regarding anything that they take to be true.<sup class=\"reference\" id=\"cite_ref-SEP_Belief_22-0\"><a href=\"#cite_note-SEP_Belief-22\">[21]</a></sup> For instance, to believe that snow is white is comparable to accepting the truth of the <a href=\"/wiki/Proposition\" title=\"Proposition\">proposition</a> \"snow is white\". Beliefs can be <i>occurrent</i> (e.g. a person actively thinking \"snow is white\"), or they can be <i>dispositional</i> (e.g. a person who if asked about the color of snow would assert \"snow is white\"). While there is not universal agreement about the nature of belief, most contemporary philosophers hold the view that a disposition to express belief <i>B</i> qualifies as holding the belief <i>B</i>.<sup class=\"reference\" id=\"cite_ref-SEP_Belief_22-1\"><a href=\"#cite_note-SEP_Belief-22\">[21]</a></sup> There are various different ways that contemporary philosophers have tried to describe beliefs, including as representations of ways that the world could be (<a href=\"/wiki/Jerry_Fodor\" title=\"Jerry Fodor\">Jerry Fodor</a>), as dispositions to act as if certain things are true (<a href=\"/wiki/Roderick_Chisholm\" title=\"Roderick Chisholm\">Roderick Chisholm</a>), as interpretive schemes for making sense of someone\\'s actions (<a href=\"/wiki/Daniel_Dennett\" title=\"Daniel Dennett\">Daniel Dennett</a> and <a href=\"/wiki/Donald_Davidson_(philosopher)\" title=\"Donald Davidson (philosopher)\">Donald Davidson</a>), or as mental states that fill a particular function (<a href=\"/wiki/Hilary_Putnam\" title=\"Hilary Putnam\">Hilary Putnam</a>).<sup class=\"reference\" id=\"cite_ref-SEP_Belief_22-2\"><a href=\"#cite_note-SEP_Belief-22\">[21]</a></sup> Some have also attempted to offer significant revisions to our notion of belief, including <a class=\"mw-redirect\" href=\"/wiki/Eliminativism\" title=\"Eliminativism\">eliminativists</a> about belief who argue that there is no phenomenon in the natural world which corresponds to our <a href=\"/wiki/Folk_psychology\" title=\"Folk psychology\">folk psychological</a> concept of belief (<a href=\"/wiki/Paul_Churchland\" title=\"Paul Churchland\">Paul Churchland</a>) and <a href=\"/wiki/Formal_epistemology\" title=\"Formal epistemology\">formal epistemologists</a> who aim to replace our bivalent notion of belief (\"either I have a belief or I don\\'t have a belief\") with the more permissive, probabilistic notion of credence (\"there is an entire spectrum of degrees of belief, not a simple dichotomy between belief and non-belief\").<sup class=\"reference\" id=\"cite_ref-SEP_Belief_22-3\"><a href=\"#cite_note-SEP_Belief-22\">[21]</a></sup><sup class=\"reference\" id=\"cite_ref-SEP_Formal_Belief_23-0\"><a href=\"#cite_note-SEP_Formal_Belief-23\">[22]</a></sup>\\n</p> <p>While belief plays a significant role in epistemological debates surrounding knowledge and justification, it also has many other philosophical debates in its own right. Notable debates include: \"What is the rational way to revise one\\'s beliefs when presented with various sorts of evidence?\"; \"Is the content of our beliefs entirely determined by our mental states, or do the relevant facts have any bearing on our beliefs (e.g. if I believe that I\\'m holding a glass of water, is the non-mental fact that water is H<sub>2</sub>O part of the content of that belief)?\"; \"How fine-grained or coarse-grained are our beliefs?\"; and \"Must it be possible for a belief to be expressible in language, or are there non-linguistic beliefs?\"<sup class=\"reference\" id=\"cite_ref-SEP_Belief_22-4\"><a href=\"#cite_note-SEP_Belief-22\">[21]</a></sup>\\n</p> <p><a href=\"/wiki/Truth\" title=\"Truth\">Truth</a> is the property or state of being in accordance with facts or reality.<sup class=\"reference\" id=\"cite_ref-SEP_Truth_24-0\"><a href=\"#cite_note-SEP_Truth-24\">[23]</a></sup> On most views, truth is the correspondence of language or thought to a mind-independent world. This is called the <a href=\"/wiki/Correspondence_theory_of_truth\" title=\"Correspondence theory of truth\">correspondence theory of truth</a>. Among philosophers who think that it is possible to analyze the conditions necessary for knowledge, virtually all of them accept that truth is such a condition. There is much less agreement about the extent to which a knower must know <i>why</i> something is true in order to know. On such views, something being known implies that it is true. However, this should not be confused for the more contentious view that one must know that one knows in order to know (the <a href=\"/wiki/KK_thesis\" title=\"KK thesis\">KK principle</a>).<sup class=\"reference\" id=\"cite_ref-SEP_Epistemology_2014_2-2\"><a href=\"#cite_note-SEP_Epistemology_2014-2\">[2]</a></sup>\\n</p> <p>Epistemologists disagree about whether belief is the only <a href=\"/wiki/Truth-bearer\" title=\"Truth-bearer\">truth-bearer</a>. Other common suggestions for things that can bear the property of being true include <a class=\"mw-redirect\" href=\"/wiki/Propositions\" title=\"Propositions\">propositions</a>, <a href=\"/wiki/Sentence_(mathematical_logic)\" title=\"Sentence (mathematical logic)\">sentences</a>, <a href=\"/wiki/Thought\" title=\"Thought\">thoughts</a>, <a href=\"/wiki/Utterance\" title=\"Utterance\">utterances</a>, and <a class=\"mw-redirect\" href=\"/wiki/Judgment\" title=\"Judgment\">judgments</a>. Plato, in his <a href=\"/wiki/Gorgias_(dialogue)\" title=\"Gorgias (dialogue)\">Gorgias</a>, argues that belief is the most commonly invoked truth-bearer.<sup class=\"reference\" id=\"cite_ref-25\"><a href=\"#cite_note-25\">[24]</a></sup><sup class=\"noprint Inline-Template\" style=\"margin-left:0.1em; white-space:nowrap;\">[<i><a href=\"/wiki/Wikipedia:Please_clarify\" title=\"Wikipedia:Please clarify\"><span title=\"The text near this tag may need clarification or removal of jargon. (June 2020)\">clarification needed</span></a></i>]</sup>\\n</p> <p>Many of the debates regarding truth are at the crossroads of epistemology and <a href=\"/wiki/Logic\" title=\"Logic\">logic</a>.<sup class=\"reference\" id=\"cite_ref-SEP_Truth_24-1\"><a href=\"#cite_note-SEP_Truth-24\">[23]</a></sup> Some contemporary debates regarding truth include: How do we define truth? Is it even possible to give an informative definition of truth? What things are truth-bearers and are therefore capable of being true or false? Are truth and falsity <a href=\"/wiki/Principle_of_bivalence\" title=\"Principle of bivalence\">bivalent</a>, or are there other truth values? What are the <a href=\"/wiki/Criteria_of_truth\" title=\"Criteria of truth\">criteria of truth</a> that allow us to identify it and to distinguish it from falsity? What role does truth play in constituting <a href=\"/wiki/Knowledge\" title=\"Knowledge\">knowledge</a>? And is truth <a href=\"/wiki/Absolute_(philosophy)\" title=\"Absolute (philosophy)\">absolute</a>, or is it merely <a class=\"mw-redirect\" href=\"/wiki/Knowledge_relativity\" title=\"Knowledge relativity\">relative</a> to one\\'s perspective?<sup class=\"reference\" id=\"cite_ref-SEP_Truth_24-2\"><a href=\"#cite_note-SEP_Truth-24\">[23]</a></sup>\\n</p> <p>As the term \"justification\" is used in epistemology, a belief is justified if one has good reason for holding it. Loosely speaking, justification is the <i>reason</i> that someone holds a rationally admissible belief, on the assumption that it is a <i>good reason</i> for holding it. Sources of justification might include <a href=\"/wiki/Perception\" title=\"Perception\">perceptual experience</a> (the evidence of the senses), <a href=\"/wiki/Reason\" title=\"Reason\">reason</a>, and authoritative <a href=\"/wiki/Testimony\" title=\"Testimony\">testimony</a>, among others. Importantly however, a belief being justified does <i>not</i> guarantee that the belief is true, since a person could be justified in forming beliefs based on very convincing evidence that was nonetheless deceiving.\\n</p> <p>In <a href=\"/wiki/Plato\" title=\"Plato\">Plato</a>\\'s <i><a href=\"/wiki/Theaetetus_(dialogue)\" title=\"Theaetetus (dialogue)\">Theaetetus</a></i>, <a href=\"/wiki/Socrates\" title=\"Socrates\">Socrates</a> considers a number of theories as to what knowledge is, first excluding merely true belief as an adequate account. For example, an ill person with no medical training, but with a generally optimistic attitude, might believe that he will recover from his illness quickly. Nevertheless, even if this belief turned out to be true, the patient would not have <i>known</i> that he would get well since his belief lacked justification. The last account that Plato considers is that knowledge is true belief \"with an account\" that explains or defines it in some way. According to <a href=\"/wiki/Edmund_Gettier\" title=\"Edmund Gettier\">Edmund Gettier</a>, the view that Plato is describing here is that knowledge is <i>justified true belief</i>. The truth of this view would entail that in order to know that a given proposition is true, one must not only believe the relevant true proposition, but must also have a good reason for doing so.<sup class=\"reference\" id=\"cite_ref-26\"><a href=\"#cite_note-26\">[25]</a></sup> One implication of this would be that no one would gain knowledge just by believing something that happened to be true.<sup class=\"reference\" id=\"cite_ref-27\"><a href=\"#cite_note-27\">[26]</a></sup>\\n</p> <p><a href=\"/wiki/Edmund_Gettier\" title=\"Edmund Gettier\">Edmund Gettier</a>\\'s famous 1963 paper, \"Is Justified True Belief Knowledge?\", popularized the claim that the definition of knowledge as justified true belief had been widely accepted throughout the history of philosophy.<sup class=\"reference\" id=\"cite_ref-Gettier_28-0\"><a href=\"#cite_note-Gettier-28\">[27]</a></sup> The extent to which this is true is highly contentious, since Plato himself disavowed the \"justified true belief\" view at the end of the <i>Theaetetus</i>.<sup class=\"reference\" id=\"cite_ref-AoK_29-0\"><a href=\"#cite_note-AoK-29\">[28]</a></sup><sup class=\"reference\" id=\"cite_ref-Britannica_1-10\"><a href=\"#cite_note-Britannica-1\">[1]</a></sup> Regardless of the accuracy of the claim, Gettier\\'s paper produced major widespread discussion which completely reoriented epistemology in the second half of the 20th century, with a newfound focus on trying to provide an airtight definition of knowledge by adjusting or replacing the \"justified true belief\" view.<sup class=\"reference\" id=\"cite_ref-30\"><a href=\"#cite_note-30\">[note 2]</a></sup> Today there is still little consensus about whether any set of conditions succeeds in providing a set of necessary and sufficient conditions for knowledge, and many contemporary epistemologists have come to the conclusion that no such exception-free definition is possible.<sup class=\"reference\" id=\"cite_ref-AoK_29-1\"><a href=\"#cite_note-AoK-29\">[28]</a></sup> However, even if justification fails as a condition for knowledge as some philosophers claim, the question of whether or not a person has good reasons for holding a particular belief in a particular set of circumstances remains a topic of interest to contemporary epistemology, and is unavoidably linked to questions about <a href=\"/wiki/Rationality\" title=\"Rationality\">rationality</a>.<sup class=\"reference\" id=\"cite_ref-AoK_29-2\"><a href=\"#cite_note-AoK-29\">[28]</a></sup>\\n</p> <p>A central debate about the nature of justification is a debate between epistemological externalists on the one hand, and epistemological internalists on the other. While epistemic externalism first arose in attempts to overcome the Gettier problem, it has flourished in the time since as an alternative way of conceiving of epistemic justification. The initial development of epistemic externalism is often attributed to <a href=\"/wiki/Alvin_Goldman\" title=\"Alvin Goldman\">Alvin Goldman</a>, although numerous other philosophers have worked on the topic in the time since.<sup class=\"reference\" id=\"cite_ref-AoK_29-3\"><a href=\"#cite_note-AoK-29\">[28]</a></sup>\\n</p> <p>Externalists hold that factors deemed \"external\", meaning outside of the psychological states of those who gain knowledge, can be conditions of justification. For example, an externalist response to the Gettier problem is to say that for a justified true belief to count as knowledge, there must be a link or dependency between the belief and the state of the external world. Usually this is understood to be a causal link. Such causation, to the extent that it is \"outside\" the mind, would count as an external, knowledge-yielding condition. Internalists, on the other hand, assert that all knowledge-yielding conditions are within the psychological states of those who gain knowledge.\\n</p> <p>Though unfamiliar with the internalist/externalist debate himself, many point to <a href=\"/wiki/Ren%C3%A9_Descartes\" title=\"René Descartes\">René Descartes</a> as an early example of the internalist path to justification. He wrote that, because the only method by which we perceive the external world is through our senses, and that, because the senses are not infallible, we should not consider our concept of knowledge infallible. The only way to find anything that could be described as \"indubitably true\", he advocates, would be to see things \"clearly and distinctly\".<sup class=\"reference\" id=\"cite_ref-Regulae_31-0\"><a href=\"#cite_note-Regulae-31\">[29]</a></sup> He argued that if there is an omnipotent, good being who made the world, then it\\'s reasonable to believe that people are made with the ability to know. However, this does not mean that man\\'s ability to know is perfect. God gave man the ability to know but not with omniscience. Descartes said that man must use his capacities for knowledge correctly and carefully through methodological doubt.<sup class=\"reference\" id=\"cite_ref-Meditations_on_First_Philosophy_32-0\"><a href=\"#cite_note-Meditations_on_First_Philosophy-32\">[30]</a></sup>\\n</p> <p>The dictum \"Cogito ergo sum\" (I think, therefore I am) is also commonly associated with Descartes\\' theory. In his own methodological doubt—doubting everything he previously knew so he could start from a blank slate—the first thing that he could not logically bring himself to doubt was his own existence: \"I do not exist\" would be a contradiction in terms. The act of saying that one does not exist assumes that someone must be making the statement in the first place. Descartes could doubt his senses, his body, and the world around him—but he could not deny his own existence, because he was able to doubt and must exist to manifest that doubt. Even if some \"evil genius\" were deceiving him, he would have to exist to be deceived. This one sure point provided him with what he called his Archimedean point, in order to further develop his foundation for knowledge. Simply put, Descartes\\' epistemological justification depended on his indubitable belief in his own existence and his clear and distinct knowledge of God.<sup class=\"reference\" id=\"cite_ref-Refutations_33-0\"><a href=\"#cite_note-Refutations-33\">[31]</a></sup>\\n</p> <p><a href=\"/wiki/Edmund_Gettier\" title=\"Edmund Gettier\">Edmund Gettier</a> is best known for his 1963 paper entitled \"Is Justified True Belief Knowledge?\", which called into question the common conception of knowledge as justified true belief.<sup class=\"reference\" id=\"cite_ref-gettier_34-0\"><a href=\"#cite_note-gettier-34\">[32]</a></sup> In just two and a half pages, Gettier argued that there are situations in which one\\'s belief may be justified and true, yet fail to count as knowledge. That is, Gettier contended that while justified belief in a true proposition is necessary for that proposition to be known, it is not sufficient.\\n</p> <p>According to Gettier, there are certain circumstances in which one does not have knowledge, even when all of the above conditions are met. Gettier proposed two <a href=\"/wiki/Thought_experiment\" title=\"Thought experiment\">thought experiments</a>, which have become known as <i>Gettier cases</i>, as <a href=\"/wiki/Counterexample\" title=\"Counterexample\">counterexamples</a> to the classical account of knowledge.<sup class=\"reference\" id=\"cite_ref-AoK_29-4\"><a href=\"#cite_note-AoK-29\">[28]</a></sup> One of the cases involves two men, Smith and Jones, who are awaiting the results of their applications for the same job. Each man has ten coins in his pocket. Smith has excellent reasons to believe that Jones will get the job (the head of the company told him); and furthermore, Smith knows that Jones has ten coins in his pocket (he recently counted them). From this Smith infers: \"The man who will get the job has ten coins in his pocket.\" However, Smith is unaware that he <i>also</i> has ten coins in his own pocket. Furthermore, it turns out that Smith, not Jones, is going to get the job. While Smith has strong evidence to believe that Jones will get the job, he is wrong. Smith therefore has a justified true belief that the man who will get the job has ten coins in his pocket; however, according to Gettier, Smith does not <i>know</i> that the man who will get the job has ten coins in his pocket, because Smith\\'s belief is \"...true by virtue of the number of coins in <i>Jones\\'s</i> pocket, while Smith does not know how many coins are in Smith\\'s pocket, and bases his belief... on a count of the coins in Jones\\'s pocket, whom he falsely believes to be the man who will get the job.\"<sup class=\"reference\" id=\"cite_ref-gettier_34-1\"><a href=\"#cite_note-gettier-34\">[32]</a></sup><sup class=\"reference\" style=\"white-space:nowrap;\">:<span>122</span></sup> These cases fail to be knowledge because the subject\\'s belief is justified, but only happens to be true by virtue of luck. In other words, he made the correct choice (believing that the man who will get the job has ten coins in his pocket) for the wrong reasons. Gettier then goes on to offer a second similar case, providing the means by which the specifics of his examples can be generalized into a broader problem for defining knowledge in terms of justified true belief.\\n</p> <p>There have been various notable responses to the Gettier problem. Typically, they have involved substantial attempts to provide a new definition of knowledge that is not susceptible to Gettier-style objections, either by providing an additional fourth condition that justified true beliefs must meet to constitute knowledge, or proposing a completely new set of <a href=\"/wiki/Necessity_and_sufficiency#Simultaneous_necessity_and_sufficiency\" title=\"Necessity and sufficiency\">necessary and sufficient conditions</a> for knowledge. While there have been far too many published responses for all of them to be mentioned, some of the most notable responses are discussed below.\\n</p> <p>One of the earliest suggested replies to Gettier, and perhaps the most intuitive ways to respond to the Gettier problem, is the \"no false premises\" response, sometimes also called the \"no false lemmas\" response. Most notably, this reply was defended by <a href=\"/wiki/David_Malet_Armstrong\" title=\"David Malet Armstrong\">David Malet Armstrong</a> in his 1973 book, <i>Belief, Truth, and Knowledge</i>.<sup class=\"reference\" id=\"cite_ref-35\"><a href=\"#cite_note-35\">[33]</a></sup> The basic form of the response is to assert that the person who holds the justified true belief (for instance, Smith in Gettier\\'s first case) made the mistake of inferring a true belief (e.g. \"The person who will get the job has ten coins in his pocket\") from a false belief (e.g. \"Jones will get the job\"). Proponents of this response therefore propose that we add a fourth necessary and sufficient condition for knowledge, namely, \"the justified true belief must not have been inferred from a false belief\".\\n</p> <p>This reply to the Gettier problem is simple, direct, and appears to isolate what goes wrong in forming the relevant beliefs in Gettier cases. However, the general consensus is that it fails.<sup class=\"reference\" id=\"cite_ref-AoK_29-5\"><a href=\"#cite_note-AoK-29\">[28]</a></sup> This is because while the original formulation by Gettier includes a person who infers a true belief from a false belief, there are many alternate formulations in which this is not the case. Take, for instance, a case where an observer sees what appears to be a dog walking through a park and forms the belief \"There is a dog in the park\". In fact, it turns out that the observer is not looking at a dog at all, but rather a very lifelike robotic facsimile of a dog. However, unbeknownst to the observer, there <i>is</i> in fact a dog in the park, albeit one standing behind the robotic facsimile of a dog. Since the belief \"There is a dog in the park\" does not involve a faulty inference, but is instead formed as the result of misleading perceptual information, there is no inference made from a false premise. It therefore seems that while the observer does in fact have a true belief that her perceptual experience provides justification for holding, she does not actually <i>know</i> that there is a dog in the park. Instead, she just seems to have formed a \"lucky\" justified true belief.<sup class=\"reference\" id=\"cite_ref-AoK_29-6\"><a href=\"#cite_note-AoK-29\">[28]</a></sup>\\n</p> <p>Reliabilism has been a significant line of response to the Gettier problem among philosophers, originating with work by <a href=\"/wiki/Alvin_Goldman\" title=\"Alvin Goldman\">Alvin Goldman</a> in the 1960s. According to reliabilism, a belief is justified (or otherwise supported in such a way as to count towards knowledge) only if it is produced by processes that typically yield a sufficiently high ratio of true to false beliefs. In other words, this theory states that a true belief counts as knowledge only if it is produced by a reliable belief-forming process. Examples of reliable processes include standard perceptual processes, remembering, good reasoning, and introspection.<sup class=\"reference\" id=\"cite_ref-36\"><a href=\"#cite_note-36\">[34]</a></sup>\\n</p> <p><span class=\"anchor\" id=\"Henry_and_the_barn_façades\"></span>One commonly discussed challenge for reliabilism is the case of Henry and the barn façades.<sup class=\"reference\" id=\"cite_ref-AoK_29-7\"><a href=\"#cite_note-AoK-29\">[28]</a></sup> In this thought experiment, a man, Henry, is driving along and sees a number of buildings that resemble barns. Based on his perception of one of these, he concludes that he is looking at a barn. While he is indeed looking at a barn, it turns out that all of the other barn-like buildings he saw were façades. According to the challenge, Henry does not <i>know</i> that he has seen a barn, despite his belief being true, and despite his belief having been formed on the basis of a reliable process (i.e. his vision), since he only acquired his reliably formed true belief by accident.<sup class=\"reference\" id=\"cite_ref-37\"><a href=\"#cite_note-37\">[35]</a></sup> In other words, since he could have just as easily been looking at a barn façade and formed a false belief, the reliability of perception in general does not mean that his belief wasn\\'t merely formed luckily, and this luck seems to preclude him from knowledge.<sup class=\"reference\" id=\"cite_ref-AoK_29-8\"><a href=\"#cite_note-AoK-29\">[28]</a></sup>\\n</p> <p>One less common response to the Gettier problem is defended by <a href=\"/wiki/Richard_Kirkham\" title=\"Richard Kirkham\">Richard Kirkham</a>, who has argued that the only definition of knowledge that could ever be immune to all counterexamples is the <a href=\"/wiki/Infallibilism\" title=\"Infallibilism\">infallibilist</a> definition.<sup class=\"reference\" id=\"cite_ref-38\"><a href=\"#cite_note-38\">[36]</a></sup> To qualify as an item of knowledge, goes the theory, a belief must not only be true and justified, the justification of the belief must <i>necessitate</i> its truth. In other words, the justification for the belief must be infallible.\\n</p> <p>While infallibilism is indeed an internally coherent response to the Gettier problem, it is incompatible with our everyday knowledge ascriptions. For instance, as the <a class=\"mw-redirect\" href=\"/wiki/Cartesian_skepticism\" title=\"Cartesian skepticism\">Cartesian skeptic</a> will point out, all of my perceptual experiences are compatible with a skeptical scenario in which I am completely deceived about the existence of the external world, in which case most (if not all) of my beliefs would be false.<sup class=\"reference\" id=\"cite_ref-Meditations_on_First_Philosophy_32-1\"><a href=\"#cite_note-Meditations_on_First_Philosophy-32\">[30]</a></sup><sup class=\"reference\" id=\"cite_ref-SEP_Contextualism_39-0\"><a href=\"#cite_note-SEP_Contextualism-39\">[37]</a></sup> The typical conclusion to draw from this is that it is possible to doubt most (if not all) of my everyday beliefs, meaning that if I am indeed justified in holding those beliefs, that justification is <i>not</i> infallible. For the justification to be infallible, my reasons for holding my everyday beliefs would need to completely exclude the possibility that those beliefs were false. Consequently, if a belief must be infallibly justified in order to constitute knowledge, then it must be the case that we are mistaken in most (if not all) instances in which we claim to have knowledge in everyday situations.<sup class=\"reference\" id=\"cite_ref-SEP_Certainty_40-0\"><a href=\"#cite_note-SEP_Certainty-40\">[38]</a></sup> While it is indeed possible to bite the bullet and accept this conclusion, most philosophers find it implausible to suggest that we know nothing or almost nothing, and therefore reject the infallibilist response as collapsing into <a href=\"/wiki/Philosophical_skepticism\" title=\"Philosophical skepticism\">radical skepticism</a>.<sup class=\"reference\" id=\"cite_ref-SEP_Contextualism_39-1\"><a href=\"#cite_note-SEP_Contextualism-39\">[37]</a></sup>\\n</p>'"
      ]
     },
     "execution_count": 8,
     "metadata": {},
     "output_type": "execute_result"
    }
   ],
   "source": [
    "url = 'https://en.wikipedia.org/wiki/Epistemology'\n",
    "page = requests.get(url)\n",
    "soup = BeautifulSoup(page.content, 'html.parser')\n",
    "urls = soup.select('p') # select all a tags that are inside of p tags (css selector)\n",
    "\n",
    "# combine and convert into one string\n",
    "urlStr = urls[:50]\n",
    "urlStr = [str(url) for url in urlStr]\n",
    "urlStr = ' '.join(urlStr)\n",
    "urlStr"
   ]
  },
  {
   "cell_type": "code",
   "execution_count": 447,
   "id": "homeless-intelligence",
   "metadata": {},
   "outputs": [
    {
     "data": {
      "text/plain": [
       "'https://en.wikipedia.org/wiki/Scientific_method'"
      ]
     },
     "execution_count": 447,
     "metadata": {},
     "output_type": "execute_result"
    }
   ],
   "source": [
    "# inputs list of valid urls, and returns first link that doesn't loop back on itself (e.g. language --> spoken language --> language)\n",
    "def next_url(url): \n",
    "    test_urls = wiki_get_urls(url) # get list of urls from language \n",
    "    for test_url in test_urls: \n",
    "        urls_1 = wiki_get_urls(test_url) # find list of valid urls spoken langugage  \n",
    "        if urls_1[0] == url: # if the first item spoken language is 'language', try the next url in 'language' \n",
    "            continue \n",
    "        else: # otherwise, pick this url as the next url\n",
    "            return test_url \n",
    "            break \n",
    "\n",
    "url = 'https://en.wikipedia.org/wiki/Science'\n",
    "next_url(url)"
   ]
  },
  {
   "cell_type": "code",
   "execution_count": 448,
   "id": "herbal-expense",
   "metadata": {},
   "outputs": [
    {
     "name": "stdout",
     "output_type": "stream",
     "text": [
      "getting to philosophy from: https://en.wikipedia.org/wiki/Science\n",
      "https://en.wikipedia.org/wiki/Scientific_method\n",
      "https://en.wikipedia.org/wiki/Empirical_evidence\n",
      "https://en.wikipedia.org/wiki/Information\n",
      "https://en.wikipedia.org/wiki/Uncertainty\n",
      "https://en.wikipedia.org/wiki/Epistemology\n",
      "https://en.wikipedia.org/wiki/Greek_language\n",
      "https://en.wikipedia.org/wiki/Indo-European_languages\n",
      "https://en.wikipedia.org/wiki/Language_family\n",
      "https://en.wikipedia.org/wiki/Language\n",
      "https://en.wikipedia.org/wiki/Writing\n",
      "https://en.wikipedia.org/wiki/Communication\n",
      "https://en.wikipedia.org/wiki/Semantics\n",
      "https://en.wikipedia.org/wiki/Linguistics\n",
      "url loop has occured. Repeated url:\n",
      "https://en.wikipedia.org/wiki/Science\n"
     ]
    }
   ],
   "source": [
    "def get_to_philosophy(url): \n",
    "    print('getting to philosophy from: ' + url)\n",
    "    chain = [url]\n",
    "    while url != 'https://en.wikipedia.org/wiki/Philosophy': \n",
    "        url = next_url(url)\n",
    "        if url in chain: \n",
    "            print('url loop has occured. Repeated url:\\n{}'.format(url))\n",
    "            chain.append(url)\n",
    "            break\n",
    "        elif url == 'https://en.wikipedia.org/wiki/Philosophy': \n",
    "            print('reached philosophy!')\n",
    "        elif url not in chain: \n",
    "            print(url)\n",
    "            chain.append(url)\n",
    "            continue\n",
    "    return chain\n",
    "\n",
    "url = 'https://en.wikipedia.org/wiki/Science'\n",
    "chain = get_to_philosophy(url)"
   ]
  },
  {
   "cell_type": "markdown",
   "id": "abandoned-maple",
   "metadata": {},
   "source": [
    "## Testing the web scraper"
   ]
  },
  {
   "cell_type": "markdown",
   "id": "loose-track",
   "metadata": {},
   "source": [
    "## Running the web scraper on a bunch of wikipedia pages"
   ]
  },
  {
   "cell_type": "code",
   "execution_count": 5,
   "id": "confident-arctic",
   "metadata": {},
   "outputs": [
    {
     "data": {
      "text/html": [
       "<div>\n",
       "<style scoped>\n",
       "    .dataframe tbody tr th:only-of-type {\n",
       "        vertical-align: middle;\n",
       "    }\n",
       "\n",
       "    .dataframe tbody tr th {\n",
       "        vertical-align: top;\n",
       "    }\n",
       "\n",
       "    .dataframe thead th {\n",
       "        text-align: right;\n",
       "    }\n",
       "</style>\n",
       "<table border=\"1\" class=\"dataframe\">\n",
       "  <thead>\n",
       "    <tr style=\"text-align: right;\">\n",
       "      <th></th>\n",
       "      <th>date</th>\n",
       "      <th>link</th>\n",
       "    </tr>\n",
       "  </thead>\n",
       "  <tbody>\n",
       "    <tr>\n",
       "      <th>0</th>\n",
       "      <td>2010-12-16</td>\n",
       "      <td>https://en.wikipedia.org/wiki/Dwarf_planet</td>\n",
       "    </tr>\n",
       "    <tr>\n",
       "      <th>1</th>\n",
       "      <td>2011-01-01</td>\n",
       "      <td>https://en.wikipedia.org/wiki/History_of_the_A...</td>\n",
       "    </tr>\n",
       "    <tr>\n",
       "      <th>2</th>\n",
       "      <td>2011-01-02</td>\n",
       "      <td>https://en.wikipedia.org/wiki/Bob_Marshall_(wi...</td>\n",
       "    </tr>\n",
       "  </tbody>\n",
       "</table>\n",
       "</div>"
      ],
      "text/plain": [
       "         date                                               link\n",
       "0  2010-12-16         https://en.wikipedia.org/wiki/Dwarf_planet\n",
       "1  2011-01-01  https://en.wikipedia.org/wiki/History_of_the_A...\n",
       "2  2011-01-02  https://en.wikipedia.org/wiki/Bob_Marshall_(wi..."
      ]
     },
     "execution_count": 5,
     "metadata": {},
     "output_type": "execute_result"
    }
   ],
   "source": [
    "df = pd.read_csv('WikiMainPage.csv')\n",
    "df = df[['Date', 'TFALink']]\n",
    "df.rename(columns = {'TFALink': 'link', 'Date': 'date'}, inplace=True)\n",
    "df.link = 'https://en.wikipedia.org' + df.link\n",
    "df = df.head(3)\n",
    "df"
   ]
  },
  {
   "cell_type": "code",
   "execution_count": 6,
   "id": "brief-crest",
   "metadata": {
    "collapsed": true,
    "jupyter": {
     "outputs_hidden": true
    }
   },
   "outputs": [
    {
     "name": "stdout",
     "output_type": "stream",
     "text": [
      "testing for url: https://en.wikipedia.org/wiki/Dwarf_planet\n",
      "https://en.wikipedia.org/wiki/Planetary-mass_object\n",
      "https://en.wikipedia.org/wiki/Sun\n",
      "https://en.wikipedia.org/wiki/Star\n",
      "https://en.wikipedia.org/wiki/Astronomical_object\n",
      "https://en.wikipedia.org/wiki/Astronomy\n",
      "https://en.wikipedia.org/wiki/Greek_language\n"
     ]
    },
    {
     "ename": "KeyboardInterrupt",
     "evalue": "",
     "output_type": "error",
     "traceback": [
      "\u001b[1;31m---------------------------------------------------------------------------\u001b[0m",
      "\u001b[1;31mKeyboardInterrupt\u001b[0m                         Traceback (most recent call last)",
      "\u001b[1;32m<timed exec>\u001b[0m in \u001b[0;36m<module>\u001b[1;34m\u001b[0m\n",
      "\u001b[1;32m~\\Miniconda3\\lib\\site-packages\\pandas\\core\\series.py\u001b[0m in \u001b[0;36mmap\u001b[1;34m(self, arg, na_action)\u001b[0m\n\u001b[0;32m   3907\u001b[0m         \u001b[0mdtype\u001b[0m\u001b[1;33m:\u001b[0m \u001b[0mobject\u001b[0m\u001b[1;33m\u001b[0m\u001b[1;33m\u001b[0m\u001b[0m\n\u001b[0;32m   3908\u001b[0m         \"\"\"\n\u001b[1;32m-> 3909\u001b[1;33m         \u001b[0mnew_values\u001b[0m \u001b[1;33m=\u001b[0m \u001b[0msuper\u001b[0m\u001b[1;33m(\u001b[0m\u001b[1;33m)\u001b[0m\u001b[1;33m.\u001b[0m\u001b[0m_map_values\u001b[0m\u001b[1;33m(\u001b[0m\u001b[0marg\u001b[0m\u001b[1;33m,\u001b[0m \u001b[0mna_action\u001b[0m\u001b[1;33m=\u001b[0m\u001b[0mna_action\u001b[0m\u001b[1;33m)\u001b[0m\u001b[1;33m\u001b[0m\u001b[1;33m\u001b[0m\u001b[0m\n\u001b[0m\u001b[0;32m   3910\u001b[0m         return self._constructor(new_values, index=self.index).__finalize__(\n\u001b[0;32m   3911\u001b[0m             \u001b[0mself\u001b[0m\u001b[1;33m,\u001b[0m \u001b[0mmethod\u001b[0m\u001b[1;33m=\u001b[0m\u001b[1;34m\"map\"\u001b[0m\u001b[1;33m\u001b[0m\u001b[1;33m\u001b[0m\u001b[0m\n",
      "\u001b[1;32m~\\Miniconda3\\lib\\site-packages\\pandas\\core\\base.py\u001b[0m in \u001b[0;36m_map_values\u001b[1;34m(self, mapper, na_action)\u001b[0m\n\u001b[0;32m    935\u001b[0m \u001b[1;33m\u001b[0m\u001b[0m\n\u001b[0;32m    936\u001b[0m         \u001b[1;31m# mapper is a function\u001b[0m\u001b[1;33m\u001b[0m\u001b[1;33m\u001b[0m\u001b[1;33m\u001b[0m\u001b[0m\n\u001b[1;32m--> 937\u001b[1;33m         \u001b[0mnew_values\u001b[0m \u001b[1;33m=\u001b[0m \u001b[0mmap_f\u001b[0m\u001b[1;33m(\u001b[0m\u001b[0mvalues\u001b[0m\u001b[1;33m,\u001b[0m \u001b[0mmapper\u001b[0m\u001b[1;33m)\u001b[0m\u001b[1;33m\u001b[0m\u001b[1;33m\u001b[0m\u001b[0m\n\u001b[0m\u001b[0;32m    938\u001b[0m \u001b[1;33m\u001b[0m\u001b[0m\n\u001b[0;32m    939\u001b[0m         \u001b[1;32mreturn\u001b[0m \u001b[0mnew_values\u001b[0m\u001b[1;33m\u001b[0m\u001b[1;33m\u001b[0m\u001b[0m\n",
      "\u001b[1;32mpandas\\_libs\\lib.pyx\u001b[0m in \u001b[0;36mpandas._libs.lib.map_infer\u001b[1;34m()\u001b[0m\n",
      "\u001b[1;32m<timed exec>\u001b[0m in \u001b[0;36m<lambda>\u001b[1;34m(x)\u001b[0m\n",
      "\u001b[1;32m<ipython-input-3-a52d4019569d>\u001b[0m in \u001b[0;36mget_to_philosophy\u001b[1;34m(url)\u001b[0m\n\u001b[0;32m      3\u001b[0m     \u001b[0mlinks\u001b[0m \u001b[1;33m=\u001b[0m \u001b[1;33m[\u001b[0m\u001b[1;33m]\u001b[0m\u001b[1;33m\u001b[0m\u001b[1;33m\u001b[0m\u001b[0m\n\u001b[0;32m      4\u001b[0m     \u001b[1;32mwhile\u001b[0m \u001b[0murl\u001b[0m \u001b[1;33m!=\u001b[0m \u001b[1;34m'https://en.wikipedia.org/wiki/Philosophy'\u001b[0m\u001b[1;33m:\u001b[0m\u001b[1;33m\u001b[0m\u001b[1;33m\u001b[0m\u001b[0m\n\u001b[1;32m----> 5\u001b[1;33m         \u001b[0murl\u001b[0m \u001b[1;33m=\u001b[0m \u001b[0mwiki_first_url\u001b[0m\u001b[1;33m(\u001b[0m\u001b[0murl\u001b[0m\u001b[1;33m)\u001b[0m\u001b[1;33m\u001b[0m\u001b[1;33m\u001b[0m\u001b[0m\n\u001b[0m\u001b[0;32m      6\u001b[0m         \u001b[1;32mif\u001b[0m \u001b[0murl\u001b[0m \u001b[1;32min\u001b[0m \u001b[0mlinks\u001b[0m\u001b[1;33m:\u001b[0m\u001b[1;33m\u001b[0m\u001b[1;33m\u001b[0m\u001b[0m\n\u001b[0;32m      7\u001b[0m             \u001b[0mprint\u001b[0m\u001b[1;33m(\u001b[0m\u001b[1;34m'link loop has occured'\u001b[0m\u001b[1;33m)\u001b[0m\u001b[1;33m\u001b[0m\u001b[1;33m\u001b[0m\u001b[0m\n",
      "\u001b[1;32m<ipython-input-2-f4a0d262ef3b>\u001b[0m in \u001b[0;36mwiki_first_url\u001b[1;34m(url)\u001b[0m\n\u001b[0;32m      1\u001b[0m \u001b[1;32mdef\u001b[0m \u001b[0mwiki_first_url\u001b[0m\u001b[1;33m(\u001b[0m\u001b[0murl\u001b[0m\u001b[1;33m)\u001b[0m\u001b[1;33m:\u001b[0m\u001b[1;33m\u001b[0m\u001b[1;33m\u001b[0m\u001b[0m\n\u001b[0;32m      2\u001b[0m     \u001b[0mpage\u001b[0m \u001b[1;33m=\u001b[0m \u001b[0mrequests\u001b[0m\u001b[1;33m.\u001b[0m\u001b[0mget\u001b[0m\u001b[1;33m(\u001b[0m\u001b[0murl\u001b[0m\u001b[1;33m)\u001b[0m\u001b[1;33m\u001b[0m\u001b[1;33m\u001b[0m\u001b[0m\n\u001b[1;32m----> 3\u001b[1;33m     \u001b[0msoup\u001b[0m \u001b[1;33m=\u001b[0m \u001b[0mBeautifulSoup\u001b[0m\u001b[1;33m(\u001b[0m\u001b[0mpage\u001b[0m\u001b[1;33m.\u001b[0m\u001b[0mcontent\u001b[0m\u001b[1;33m,\u001b[0m \u001b[1;34m'html.parser'\u001b[0m\u001b[1;33m)\u001b[0m\u001b[1;33m\u001b[0m\u001b[1;33m\u001b[0m\u001b[0m\n\u001b[0m\u001b[0;32m      4\u001b[0m     \u001b[1;31m# print(soup.prettify()) # prints html code in a pretty way - good practice to examine the code first before scraping it\u001b[0m\u001b[1;33m\u001b[0m\u001b[1;33m\u001b[0m\u001b[1;33m\u001b[0m\u001b[0m\n\u001b[0;32m      5\u001b[0m     \u001b[0mlinks\u001b[0m \u001b[1;33m=\u001b[0m \u001b[0msoup\u001b[0m\u001b[1;33m.\u001b[0m\u001b[0mselect\u001b[0m\u001b[1;33m(\u001b[0m\u001b[1;34m'p a[href]'\u001b[0m\u001b[1;33m)\u001b[0m \u001b[1;31m# select all a tags that are inside of p tags (css selector)\u001b[0m\u001b[1;33m\u001b[0m\u001b[1;33m\u001b[0m\u001b[0m\n",
      "\u001b[1;32m~\\Miniconda3\\lib\\site-packages\\bs4\\__init__.py\u001b[0m in \u001b[0;36m__init__\u001b[1;34m(self, markup, features, builder, parse_only, from_encoding, exclude_encodings, element_classes, **kwargs)\u001b[0m\n\u001b[0;32m    346\u001b[0m             \u001b[0mself\u001b[0m\u001b[1;33m.\u001b[0m\u001b[0mreset\u001b[0m\u001b[1;33m(\u001b[0m\u001b[1;33m)\u001b[0m\u001b[1;33m\u001b[0m\u001b[1;33m\u001b[0m\u001b[0m\n\u001b[0;32m    347\u001b[0m             \u001b[1;32mtry\u001b[0m\u001b[1;33m:\u001b[0m\u001b[1;33m\u001b[0m\u001b[1;33m\u001b[0m\u001b[0m\n\u001b[1;32m--> 348\u001b[1;33m                 \u001b[0mself\u001b[0m\u001b[1;33m.\u001b[0m\u001b[0m_feed\u001b[0m\u001b[1;33m(\u001b[0m\u001b[1;33m)\u001b[0m\u001b[1;33m\u001b[0m\u001b[1;33m\u001b[0m\u001b[0m\n\u001b[0m\u001b[0;32m    349\u001b[0m                 \u001b[0msuccess\u001b[0m \u001b[1;33m=\u001b[0m \u001b[1;32mTrue\u001b[0m\u001b[1;33m\u001b[0m\u001b[1;33m\u001b[0m\u001b[0m\n\u001b[0;32m    350\u001b[0m                 \u001b[1;32mbreak\u001b[0m\u001b[1;33m\u001b[0m\u001b[1;33m\u001b[0m\u001b[0m\n",
      "\u001b[1;32m~\\Miniconda3\\lib\\site-packages\\bs4\\__init__.py\u001b[0m in \u001b[0;36m_feed\u001b[1;34m(self)\u001b[0m\n\u001b[0;32m    432\u001b[0m         \u001b[0mself\u001b[0m\u001b[1;33m.\u001b[0m\u001b[0mbuilder\u001b[0m\u001b[1;33m.\u001b[0m\u001b[0mreset\u001b[0m\u001b[1;33m(\u001b[0m\u001b[1;33m)\u001b[0m\u001b[1;33m\u001b[0m\u001b[1;33m\u001b[0m\u001b[0m\n\u001b[0;32m    433\u001b[0m \u001b[1;33m\u001b[0m\u001b[0m\n\u001b[1;32m--> 434\u001b[1;33m         \u001b[0mself\u001b[0m\u001b[1;33m.\u001b[0m\u001b[0mbuilder\u001b[0m\u001b[1;33m.\u001b[0m\u001b[0mfeed\u001b[0m\u001b[1;33m(\u001b[0m\u001b[0mself\u001b[0m\u001b[1;33m.\u001b[0m\u001b[0mmarkup\u001b[0m\u001b[1;33m)\u001b[0m\u001b[1;33m\u001b[0m\u001b[1;33m\u001b[0m\u001b[0m\n\u001b[0m\u001b[0;32m    435\u001b[0m         \u001b[1;31m# Close out any unfinished strings and close all the open tags.\u001b[0m\u001b[1;33m\u001b[0m\u001b[1;33m\u001b[0m\u001b[1;33m\u001b[0m\u001b[0m\n\u001b[0;32m    436\u001b[0m         \u001b[0mself\u001b[0m\u001b[1;33m.\u001b[0m\u001b[0mendData\u001b[0m\u001b[1;33m(\u001b[0m\u001b[1;33m)\u001b[0m\u001b[1;33m\u001b[0m\u001b[1;33m\u001b[0m\u001b[0m\n",
      "\u001b[1;32m~\\Miniconda3\\lib\\site-packages\\bs4\\builder\\_htmlparser.py\u001b[0m in \u001b[0;36mfeed\u001b[1;34m(self, markup)\u001b[0m\n\u001b[0;32m    375\u001b[0m         \u001b[0mparser\u001b[0m\u001b[1;33m.\u001b[0m\u001b[0msoup\u001b[0m \u001b[1;33m=\u001b[0m \u001b[0mself\u001b[0m\u001b[1;33m.\u001b[0m\u001b[0msoup\u001b[0m\u001b[1;33m\u001b[0m\u001b[1;33m\u001b[0m\u001b[0m\n\u001b[0;32m    376\u001b[0m         \u001b[1;32mtry\u001b[0m\u001b[1;33m:\u001b[0m\u001b[1;33m\u001b[0m\u001b[1;33m\u001b[0m\u001b[0m\n\u001b[1;32m--> 377\u001b[1;33m             \u001b[0mparser\u001b[0m\u001b[1;33m.\u001b[0m\u001b[0mfeed\u001b[0m\u001b[1;33m(\u001b[0m\u001b[0mmarkup\u001b[0m\u001b[1;33m)\u001b[0m\u001b[1;33m\u001b[0m\u001b[1;33m\u001b[0m\u001b[0m\n\u001b[0m\u001b[0;32m    378\u001b[0m             \u001b[0mparser\u001b[0m\u001b[1;33m.\u001b[0m\u001b[0mclose\u001b[0m\u001b[1;33m(\u001b[0m\u001b[1;33m)\u001b[0m\u001b[1;33m\u001b[0m\u001b[1;33m\u001b[0m\u001b[0m\n\u001b[0;32m    379\u001b[0m         \u001b[1;32mexcept\u001b[0m \u001b[0mHTMLParseError\u001b[0m \u001b[1;32mas\u001b[0m \u001b[0me\u001b[0m\u001b[1;33m:\u001b[0m\u001b[1;33m\u001b[0m\u001b[1;33m\u001b[0m\u001b[0m\n",
      "\u001b[1;32m~\\Miniconda3\\lib\\html\\parser.py\u001b[0m in \u001b[0;36mfeed\u001b[1;34m(self, data)\u001b[0m\n\u001b[0;32m    109\u001b[0m         \"\"\"\n\u001b[0;32m    110\u001b[0m         \u001b[0mself\u001b[0m\u001b[1;33m.\u001b[0m\u001b[0mrawdata\u001b[0m \u001b[1;33m=\u001b[0m \u001b[0mself\u001b[0m\u001b[1;33m.\u001b[0m\u001b[0mrawdata\u001b[0m \u001b[1;33m+\u001b[0m \u001b[0mdata\u001b[0m\u001b[1;33m\u001b[0m\u001b[1;33m\u001b[0m\u001b[0m\n\u001b[1;32m--> 111\u001b[1;33m         \u001b[0mself\u001b[0m\u001b[1;33m.\u001b[0m\u001b[0mgoahead\u001b[0m\u001b[1;33m(\u001b[0m\u001b[1;36m0\u001b[0m\u001b[1;33m)\u001b[0m\u001b[1;33m\u001b[0m\u001b[1;33m\u001b[0m\u001b[0m\n\u001b[0m\u001b[0;32m    112\u001b[0m \u001b[1;33m\u001b[0m\u001b[0m\n\u001b[0;32m    113\u001b[0m     \u001b[1;32mdef\u001b[0m \u001b[0mclose\u001b[0m\u001b[1;33m(\u001b[0m\u001b[0mself\u001b[0m\u001b[1;33m)\u001b[0m\u001b[1;33m:\u001b[0m\u001b[1;33m\u001b[0m\u001b[1;33m\u001b[0m\u001b[0m\n",
      "\u001b[1;32m~\\Miniconda3\\lib\\html\\parser.py\u001b[0m in \u001b[0;36mgoahead\u001b[1;34m(self, end)\u001b[0m\n\u001b[0;32m    169\u001b[0m             \u001b[1;32mif\u001b[0m \u001b[0mstartswith\u001b[0m\u001b[1;33m(\u001b[0m\u001b[1;34m'<'\u001b[0m\u001b[1;33m,\u001b[0m \u001b[0mi\u001b[0m\u001b[1;33m)\u001b[0m\u001b[1;33m:\u001b[0m\u001b[1;33m\u001b[0m\u001b[1;33m\u001b[0m\u001b[0m\n\u001b[0;32m    170\u001b[0m                 \u001b[1;32mif\u001b[0m \u001b[0mstarttagopen\u001b[0m\u001b[1;33m.\u001b[0m\u001b[0mmatch\u001b[0m\u001b[1;33m(\u001b[0m\u001b[0mrawdata\u001b[0m\u001b[1;33m,\u001b[0m \u001b[0mi\u001b[0m\u001b[1;33m)\u001b[0m\u001b[1;33m:\u001b[0m \u001b[1;31m# < + letter\u001b[0m\u001b[1;33m\u001b[0m\u001b[1;33m\u001b[0m\u001b[0m\n\u001b[1;32m--> 171\u001b[1;33m                     \u001b[0mk\u001b[0m \u001b[1;33m=\u001b[0m \u001b[0mself\u001b[0m\u001b[1;33m.\u001b[0m\u001b[0mparse_starttag\u001b[0m\u001b[1;33m(\u001b[0m\u001b[0mi\u001b[0m\u001b[1;33m)\u001b[0m\u001b[1;33m\u001b[0m\u001b[1;33m\u001b[0m\u001b[0m\n\u001b[0m\u001b[0;32m    172\u001b[0m                 \u001b[1;32melif\u001b[0m \u001b[0mstartswith\u001b[0m\u001b[1;33m(\u001b[0m\u001b[1;34m\"</\"\u001b[0m\u001b[1;33m,\u001b[0m \u001b[0mi\u001b[0m\u001b[1;33m)\u001b[0m\u001b[1;33m:\u001b[0m\u001b[1;33m\u001b[0m\u001b[1;33m\u001b[0m\u001b[0m\n\u001b[0;32m    173\u001b[0m                     \u001b[0mk\u001b[0m \u001b[1;33m=\u001b[0m \u001b[0mself\u001b[0m\u001b[1;33m.\u001b[0m\u001b[0mparse_endtag\u001b[0m\u001b[1;33m(\u001b[0m\u001b[0mi\u001b[0m\u001b[1;33m)\u001b[0m\u001b[1;33m\u001b[0m\u001b[1;33m\u001b[0m\u001b[0m\n",
      "\u001b[1;32m~\\Miniconda3\\lib\\html\\parser.py\u001b[0m in \u001b[0;36mparse_starttag\u001b[1;34m(self, i)\u001b[0m\n\u001b[0;32m    343\u001b[0m             \u001b[0mself\u001b[0m\u001b[1;33m.\u001b[0m\u001b[0mhandle_startendtag\u001b[0m\u001b[1;33m(\u001b[0m\u001b[0mtag\u001b[0m\u001b[1;33m,\u001b[0m \u001b[0mattrs\u001b[0m\u001b[1;33m)\u001b[0m\u001b[1;33m\u001b[0m\u001b[1;33m\u001b[0m\u001b[0m\n\u001b[0;32m    344\u001b[0m         \u001b[1;32melse\u001b[0m\u001b[1;33m:\u001b[0m\u001b[1;33m\u001b[0m\u001b[1;33m\u001b[0m\u001b[0m\n\u001b[1;32m--> 345\u001b[1;33m             \u001b[0mself\u001b[0m\u001b[1;33m.\u001b[0m\u001b[0mhandle_starttag\u001b[0m\u001b[1;33m(\u001b[0m\u001b[0mtag\u001b[0m\u001b[1;33m,\u001b[0m \u001b[0mattrs\u001b[0m\u001b[1;33m)\u001b[0m\u001b[1;33m\u001b[0m\u001b[1;33m\u001b[0m\u001b[0m\n\u001b[0m\u001b[0;32m    346\u001b[0m             \u001b[1;32mif\u001b[0m \u001b[0mtag\u001b[0m \u001b[1;32min\u001b[0m \u001b[0mself\u001b[0m\u001b[1;33m.\u001b[0m\u001b[0mCDATA_CONTENT_ELEMENTS\u001b[0m\u001b[1;33m:\u001b[0m\u001b[1;33m\u001b[0m\u001b[1;33m\u001b[0m\u001b[0m\n\u001b[0;32m    347\u001b[0m                 \u001b[0mself\u001b[0m\u001b[1;33m.\u001b[0m\u001b[0mset_cdata_mode\u001b[0m\u001b[1;33m(\u001b[0m\u001b[0mtag\u001b[0m\u001b[1;33m)\u001b[0m\u001b[1;33m\u001b[0m\u001b[1;33m\u001b[0m\u001b[0m\n",
      "\u001b[1;32m~\\Miniconda3\\lib\\site-packages\\bs4\\builder\\_htmlparser.py\u001b[0m in \u001b[0;36mhandle_starttag\u001b[1;34m(self, name, attrs, handle_empty_element)\u001b[0m\n\u001b[0;32m    149\u001b[0m         \u001b[1;31m#print(\"START\", name)\u001b[0m\u001b[1;33m\u001b[0m\u001b[1;33m\u001b[0m\u001b[1;33m\u001b[0m\u001b[0m\n\u001b[0;32m    150\u001b[0m         \u001b[0msourceline\u001b[0m\u001b[1;33m,\u001b[0m \u001b[0msourcepos\u001b[0m \u001b[1;33m=\u001b[0m \u001b[0mself\u001b[0m\u001b[1;33m.\u001b[0m\u001b[0mgetpos\u001b[0m\u001b[1;33m(\u001b[0m\u001b[1;33m)\u001b[0m\u001b[1;33m\u001b[0m\u001b[1;33m\u001b[0m\u001b[0m\n\u001b[1;32m--> 151\u001b[1;33m         tag = self.soup.handle_starttag(\n\u001b[0m\u001b[0;32m    152\u001b[0m             \u001b[0mname\u001b[0m\u001b[1;33m,\u001b[0m \u001b[1;32mNone\u001b[0m\u001b[1;33m,\u001b[0m \u001b[1;32mNone\u001b[0m\u001b[1;33m,\u001b[0m \u001b[0mattr_dict\u001b[0m\u001b[1;33m,\u001b[0m \u001b[0msourceline\u001b[0m\u001b[1;33m=\u001b[0m\u001b[0msourceline\u001b[0m\u001b[1;33m,\u001b[0m\u001b[1;33m\u001b[0m\u001b[1;33m\u001b[0m\u001b[0m\n\u001b[0;32m    153\u001b[0m             \u001b[0msourcepos\u001b[0m\u001b[1;33m=\u001b[0m\u001b[0msourcepos\u001b[0m\u001b[1;33m\u001b[0m\u001b[1;33m\u001b[0m\u001b[0m\n",
      "\u001b[1;32m~\\Miniconda3\\lib\\site-packages\\bs4\\__init__.py\u001b[0m in \u001b[0;36mhandle_starttag\u001b[1;34m(self, name, namespace, nsprefix, attrs, sourceline, sourcepos)\u001b[0m\n\u001b[0;32m    703\u001b[0m         tag = self.element_classes.get(Tag, Tag)(\n\u001b[0;32m    704\u001b[0m             \u001b[0mself\u001b[0m\u001b[1;33m,\u001b[0m \u001b[0mself\u001b[0m\u001b[1;33m.\u001b[0m\u001b[0mbuilder\u001b[0m\u001b[1;33m,\u001b[0m \u001b[0mname\u001b[0m\u001b[1;33m,\u001b[0m \u001b[0mnamespace\u001b[0m\u001b[1;33m,\u001b[0m \u001b[0mnsprefix\u001b[0m\u001b[1;33m,\u001b[0m \u001b[0mattrs\u001b[0m\u001b[1;33m,\u001b[0m\u001b[1;33m\u001b[0m\u001b[1;33m\u001b[0m\u001b[0m\n\u001b[1;32m--> 705\u001b[1;33m             \u001b[0mself\u001b[0m\u001b[1;33m.\u001b[0m\u001b[0mcurrentTag\u001b[0m\u001b[1;33m,\u001b[0m \u001b[0mself\u001b[0m\u001b[1;33m.\u001b[0m\u001b[0m_most_recent_element\u001b[0m\u001b[1;33m,\u001b[0m\u001b[1;33m\u001b[0m\u001b[1;33m\u001b[0m\u001b[0m\n\u001b[0m\u001b[0;32m    706\u001b[0m             \u001b[0msourceline\u001b[0m\u001b[1;33m=\u001b[0m\u001b[0msourceline\u001b[0m\u001b[1;33m,\u001b[0m \u001b[0msourcepos\u001b[0m\u001b[1;33m=\u001b[0m\u001b[0msourcepos\u001b[0m\u001b[1;33m\u001b[0m\u001b[1;33m\u001b[0m\u001b[0m\n\u001b[0;32m    707\u001b[0m         )\n",
      "\u001b[1;31mKeyboardInterrupt\u001b[0m: "
     ]
    }
   ],
   "source": [
    "%%time\n",
    "df['chain'] = df.link.map(lambda x: get_to_philosophy(x))\n",
    "def philosophy(x): \n",
    "    if x[-1] == 'https://en.wikipedia.org/wiki/Philosophy': \n",
    "        return True\n",
    "    else: \n",
    "        return False\n",
    "df['philosophy'] = df.chain.map(lambda x: philosophy(x))\n",
    "df"
   ]
  },
  {
   "cell_type": "code",
   "execution_count": 7,
   "id": "functional-quality",
   "metadata": {},
   "outputs": [
    {
     "data": {
      "text/plain": [
       "1.3888888888888888"
      ]
     },
     "execution_count": 7,
     "metadata": {},
     "output_type": "execute_result"
    }
   ],
   "source": [
    "10 * 500 / 60 / 60"
   ]
  },
  {
   "cell_type": "code",
   "execution_count": null,
   "id": "underlying-number",
   "metadata": {},
   "outputs": [],
   "source": []
  }
 ],
 "metadata": {
  "kernelspec": {
   "display_name": "Python [conda env:root] *",
   "language": "python",
   "name": "conda-root-py"
  },
  "language_info": {
   "codemirror_mode": {
    "name": "ipython",
    "version": 3
   },
   "file_extension": ".py",
   "mimetype": "text/x-python",
   "name": "python",
   "nbconvert_exporter": "python",
   "pygments_lexer": "ipython3",
   "version": "3.8.5"
  }
 },
 "nbformat": 4,
 "nbformat_minor": 5
}
