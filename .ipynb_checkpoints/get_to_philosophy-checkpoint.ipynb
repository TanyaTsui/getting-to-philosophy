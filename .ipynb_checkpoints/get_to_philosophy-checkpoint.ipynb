{
 "cells": [
  {
   "cell_type": "code",
   "execution_count": 1,
   "id": "interpreted-tablet",
   "metadata": {},
   "outputs": [],
   "source": [
    "import requests\n",
    "from bs4 import BeautifulSoup\n",
    "import time\n",
    "import pandas as pd\n",
    "import os"
   ]
  },
  {
   "cell_type": "code",
   "execution_count": 106,
   "id": "nasty-french",
   "metadata": {},
   "outputs": [],
   "source": [
    "def wiki_first_url(url): \n",
    "    page = requests.get(url)\n",
    "    soup = BeautifulSoup(page.content, 'html.parser')\n",
    "    # print(soup.prettify()) # prints html code in a pretty way - good practice to examine the code first before scraping it \n",
    "    links = soup.select('p a[href]') # select all a tags that are inside of p tags (css selector)\n",
    "    for link in links: \n",
    "        if link['href'].startswith((r'/wiki/Help:', r'/wiki/File:', '/wiki/Wikipedia:Media_help')) or link['href'].endswith('.ogg') or not link['href'].startswith(r'/wiki'):\n",
    "            continue\n",
    "        else:\n",
    "            url = 'https://en.wikipedia.org' + link['href']\n",
    "            break\n",
    "    print(url)\n",
    "    return url"
   ]
  },
  {
   "cell_type": "code",
   "execution_count": 113,
   "id": "delayed-gravity",
   "metadata": {},
   "outputs": [],
   "source": [
    "def get_to_philosophy(url): \n",
    "    print('testing for url: ' + url)\n",
    "    links = []\n",
    "    while url != 'https://en.wikipedia.org/wiki/Philosophy': \n",
    "        url = wiki_first_url(url)\n",
    "        if url in links:\n",
    "            print('link loop has occured')\n",
    "            break\n",
    "        elif url == 'https://en.wikipedia.org/wiki/Philosophy': \n",
    "            print('reached philosophy!')\n",
    "        links.append(url)\n",
    "    return links "
   ]
  },
  {
   "cell_type": "code",
   "execution_count": 127,
   "id": "straight-glossary",
   "metadata": {},
   "outputs": [
    {
     "name": "stdout",
     "output_type": "stream",
     "text": [
      "testing for url: https://en.wikipedia.org/wiki/Soju\n",
      "https://en.wikipedia.org/wiki/Alcoholic_beverage\n",
      "https://en.wikipedia.org/wiki/Drink\n",
      "https://en.wikipedia.org/wiki/Liquid\n",
      "https://en.wikipedia.org/wiki/Compressibility\n",
      "https://en.wikipedia.org/wiki/Thermodynamics\n",
      "https://en.wikipedia.org/wiki/Physics\n",
      "https://en.wikipedia.org/wiki/Ancient_Greek_language\n",
      "https://en.wikipedia.org/wiki/Greek_language\n",
      "https://en.wikipedia.org/wiki/Ancient_Greek\n",
      "https://en.wikipedia.org/wiki/Greek_language\n",
      "link loop has occured\n"
     ]
    }
   ],
   "source": [
    "url = 'https://en.wikipedia.org/wiki/Soju'\n",
    "links = get_to_philosophy(url)"
   ]
  },
  {
   "cell_type": "code",
   "execution_count": 130,
   "id": "suitable-loading",
   "metadata": {},
   "outputs": [
    {
     "data": {
      "text/html": [
       "<div>\n",
       "<style scoped>\n",
       "    .dataframe tbody tr th:only-of-type {\n",
       "        vertical-align: middle;\n",
       "    }\n",
       "\n",
       "    .dataframe tbody tr th {\n",
       "        vertical-align: top;\n",
       "    }\n",
       "\n",
       "    .dataframe thead th {\n",
       "        text-align: right;\n",
       "    }\n",
       "</style>\n",
       "<table border=\"1\" class=\"dataframe\">\n",
       "  <thead>\n",
       "    <tr style=\"text-align: right;\">\n",
       "      <th></th>\n",
       "      <th>date</th>\n",
       "      <th>link</th>\n",
       "    </tr>\n",
       "  </thead>\n",
       "  <tbody>\n",
       "    <tr>\n",
       "      <th>0</th>\n",
       "      <td>2010-12-16</td>\n",
       "      <td>https://en.wikipedia.org/wiki/Dwarf_planet</td>\n",
       "    </tr>\n",
       "    <tr>\n",
       "      <th>1</th>\n",
       "      <td>2011-01-01</td>\n",
       "      <td>https://en.wikipedia.org/wiki/History_of_the_A...</td>\n",
       "    </tr>\n",
       "    <tr>\n",
       "      <th>2</th>\n",
       "      <td>2011-01-02</td>\n",
       "      <td>https://en.wikipedia.org/wiki/Bob_Marshall_(wi...</td>\n",
       "    </tr>\n",
       "  </tbody>\n",
       "</table>\n",
       "</div>"
      ],
      "text/plain": [
       "         date                                               link\n",
       "0  2010-12-16         https://en.wikipedia.org/wiki/Dwarf_planet\n",
       "1  2011-01-01  https://en.wikipedia.org/wiki/History_of_the_A...\n",
       "2  2011-01-02  https://en.wikipedia.org/wiki/Bob_Marshall_(wi..."
      ]
     },
     "execution_count": 130,
     "metadata": {},
     "output_type": "execute_result"
    }
   ],
   "source": [
    "df = pd.read_csv('WikiMainPage.csv')\n",
    "df = df[['Date', 'TFALink']]\n",
    "df.rename(columns = {'TFALink': 'link', 'Date': 'date'}, inplace=True)\n",
    "df.link = 'https://en.wikipedia.org' + df.link\n",
    "df = df.head(3)\n",
    "df"
   ]
  },
  {
   "cell_type": "code",
   "execution_count": 131,
   "id": "varied-lobby",
   "metadata": {},
   "outputs": [
    {
     "name": "stdout",
     "output_type": "stream",
     "text": [
      "testing for url: https://en.wikipedia.org/wiki/Dwarf_planet\n",
      "https://en.wikipedia.org/wiki/Planetary-mass_object\n",
      "https://en.wikipedia.org/wiki/Sun\n",
      "https://en.wikipedia.org/wiki/Star\n",
      "https://en.wikipedia.org/wiki/Astronomical_object\n",
      "https://en.wikipedia.org/wiki/Astronomy\n",
      "https://en.wikipedia.org/wiki/Greek_language\n",
      "https://en.wikipedia.org/wiki/Ancient_Greek\n",
      "https://en.wikipedia.org/wiki/Greek_language\n",
      "link loop has occured\n",
      "testing for url: https://en.wikipedia.org/wiki/History_of_the_Australian_Capital_Territory\n",
      "https://en.wikipedia.org/wiki/Australian_Capital_Territory\n",
      "https://en.wikipedia.org/wiki/Federal_territory\n",
      "https://en.wikipedia.org/wiki/Federation\n",
      "https://en.wikipedia.org/wiki/Political_entity\n",
      "https://en.wikipedia.org/wiki/Collective_identity\n",
      "https://en.wikipedia.org/wiki/Belongingness\n",
      "https://en.wikipedia.org/wiki/Emotional\n",
      "https://en.wikipedia.org/wiki/Biological\n",
      "https://en.wikipedia.org/wiki/Natural_science\n",
      "https://en.wikipedia.org/wiki/Branches_of_science\n",
      "https://en.wikipedia.org/wiki/Science\n",
      "https://en.wikipedia.org/wiki/Latin\n",
      "https://en.wikipedia.org/wiki/Classical_language\n",
      "https://en.wikipedia.org/wiki/Language\n",
      "https://en.wikipedia.org/wiki/Spoken_language\n",
      "https://en.wikipedia.org/wiki/Language\n",
      "link loop has occured\n",
      "testing for url: https://en.wikipedia.org/wiki/Bob_Marshall_(wilderness_activist)\n",
      "https://en.wikipedia.org/wiki/Forester\n",
      "https://en.wikipedia.org/wiki/Forestry\n",
      "https://en.wikipedia.org/wiki/Forest\n",
      "https://en.wikipedia.org/wiki/Tree\n",
      "https://en.wikipedia.org/wiki/Botany\n",
      "https://en.wikipedia.org/wiki/Science\n",
      "https://en.wikipedia.org/wiki/Latin\n",
      "https://en.wikipedia.org/wiki/Classical_language\n",
      "https://en.wikipedia.org/wiki/Language\n",
      "https://en.wikipedia.org/wiki/Spoken_language\n",
      "https://en.wikipedia.org/wiki/Language\n",
      "link loop has occured\n",
      "Wall time: 27.7 s\n"
     ]
    },
    {
     "data": {
      "text/html": [
       "<div>\n",
       "<style scoped>\n",
       "    .dataframe tbody tr th:only-of-type {\n",
       "        vertical-align: middle;\n",
       "    }\n",
       "\n",
       "    .dataframe tbody tr th {\n",
       "        vertical-align: top;\n",
       "    }\n",
       "\n",
       "    .dataframe thead th {\n",
       "        text-align: right;\n",
       "    }\n",
       "</style>\n",
       "<table border=\"1\" class=\"dataframe\">\n",
       "  <thead>\n",
       "    <tr style=\"text-align: right;\">\n",
       "      <th></th>\n",
       "      <th>date</th>\n",
       "      <th>link</th>\n",
       "      <th>chain</th>\n",
       "      <th>philosophy</th>\n",
       "    </tr>\n",
       "  </thead>\n",
       "  <tbody>\n",
       "    <tr>\n",
       "      <th>0</th>\n",
       "      <td>2010-12-16</td>\n",
       "      <td>https://en.wikipedia.org/wiki/Dwarf_planet</td>\n",
       "      <td>[https://en.wikipedia.org/wiki/Planetary-mass_...</td>\n",
       "      <td>False</td>\n",
       "    </tr>\n",
       "    <tr>\n",
       "      <th>1</th>\n",
       "      <td>2011-01-01</td>\n",
       "      <td>https://en.wikipedia.org/wiki/History_of_the_A...</td>\n",
       "      <td>[https://en.wikipedia.org/wiki/Australian_Capi...</td>\n",
       "      <td>False</td>\n",
       "    </tr>\n",
       "    <tr>\n",
       "      <th>2</th>\n",
       "      <td>2011-01-02</td>\n",
       "      <td>https://en.wikipedia.org/wiki/Bob_Marshall_(wi...</td>\n",
       "      <td>[https://en.wikipedia.org/wiki/Forester, https...</td>\n",
       "      <td>False</td>\n",
       "    </tr>\n",
       "  </tbody>\n",
       "</table>\n",
       "</div>"
      ],
      "text/plain": [
       "         date                                               link  \\\n",
       "0  2010-12-16         https://en.wikipedia.org/wiki/Dwarf_planet   \n",
       "1  2011-01-01  https://en.wikipedia.org/wiki/History_of_the_A...   \n",
       "2  2011-01-02  https://en.wikipedia.org/wiki/Bob_Marshall_(wi...   \n",
       "\n",
       "                                               chain  philosophy  \n",
       "0  [https://en.wikipedia.org/wiki/Planetary-mass_...       False  \n",
       "1  [https://en.wikipedia.org/wiki/Australian_Capi...       False  \n",
       "2  [https://en.wikipedia.org/wiki/Forester, https...       False  "
      ]
     },
     "execution_count": 131,
     "metadata": {},
     "output_type": "execute_result"
    }
   ],
   "source": [
    "%%time\n",
    "df['chain'] = df.link.map(lambda x: get_to_philosophy(x))\n",
    "def philosophy(x): \n",
    "    if x[-1] == 'https://en.wikipedia.org/wiki/Philosophy': \n",
    "        return True\n",
    "    else: \n",
    "        return False\n",
    "df['philosophy'] = df.chain.map(lambda x: philosophy(x))\n",
    "df"
   ]
  },
  {
   "cell_type": "code",
   "execution_count": 134,
   "id": "ordinary-carrier",
   "metadata": {},
   "outputs": [
    {
     "data": {
      "text/plain": [
       "9.722222222222223"
      ]
     },
     "execution_count": 134,
     "metadata": {},
     "output_type": "execute_result"
    }
   ],
   "source": [
    "10 * 3500 / 60 / 60"
   ]
  },
  {
   "cell_type": "code",
   "execution_count": null,
   "id": "velvet-supervision",
   "metadata": {},
   "outputs": [],
   "source": []
  }
 ],
 "metadata": {
  "kernelspec": {
   "display_name": "Python [conda env:root] *",
   "language": "python",
   "name": "conda-root-py"
  },
  "language_info": {
   "codemirror_mode": {
    "name": "ipython",
    "version": 3
   },
   "file_extension": ".py",
   "mimetype": "text/x-python",
   "name": "python",
   "nbconvert_exporter": "python",
   "pygments_lexer": "ipython3",
   "version": "3.8.5"
  }
 },
 "nbformat": 4,
 "nbformat_minor": 5
}
